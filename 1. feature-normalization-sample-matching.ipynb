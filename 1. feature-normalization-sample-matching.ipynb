{
 "cells": [
  {
   "cell_type": "code",
   "execution_count": 1,
   "metadata": {
    "collapsed": true
   },
   "outputs": [],
   "source": [
    "import unittest\n",
    "import numpy as np\n",
    "import pandas as pd"
   ]
  },
  {
   "cell_type": "markdown",
   "metadata": {},
   "source": [
    "Below, we read the metadata about mice fecal samples collected during experimental implementation of the study:"
   ]
  },
  {
   "cell_type": "code",
   "execution_count": 2,
   "metadata": {
    "collapsed": false
   },
   "outputs": [
    {
     "data": {
      "text/plain": [
       "(208, 69)"
      ]
     },
     "execution_count": 2,
     "metadata": {},
     "output_type": "execute_result"
    }
   ],
   "source": [
    "# reading metadata (n=208)\n",
    "mapping = pd.read_table(\"./data/haddad_6week_metadata.txt\", sep = '\\t', dtype = str, index_col = \"#SampleID\")\n",
    "mapping.shape"
   ]
  },
  {
   "cell_type": "markdown",
   "metadata": {},
   "source": [
    "We load the microbiome feature table:\n",
    "Microbiome (16S amplicon sequencing) feature table is represented as relative abundance of unique 16S sequences per sample. (generated using default parameters of deblur workflow in QIITA)"
   ]
  },
  {
   "cell_type": "code",
   "execution_count": 3,
   "metadata": {
    "collapsed": true
   },
   "outputs": [],
   "source": [
    "microb = pd.read_table(\"./data/haddad_6week_deblur_otus_unrare.txt\", sep = '\\t', dtype = str)"
   ]
  },
  {
   "cell_type": "code",
   "execution_count": 4,
   "metadata": {
    "collapsed": true
   },
   "outputs": [],
   "source": [
    "#converting microbiome feature table to biom HDF5 format\n",
    "! biom convert -i ./data/haddad_6week_deblur_otus_unrare.txt \\\n",
    "  -o ./data/haddad_6week_deblur_otus_unrare_hdf5.biom --table-type \"OTU table\" \\\n",
    "  --to-hdf5"
   ]
  },
  {
   "cell_type": "code",
   "execution_count": 25,
   "metadata": {
    "collapsed": true
   },
   "outputs": [],
   "source": [
    "# converting microbiome biom table to QIIME2 artifact (https://docs.qiime2.org/2017.12/interfaces/artifact-api/)\n",
    "! qiime tools import \\\n",
    "  --input-path ./data/haddad_6week_deblur_otus_unrare_hdf5.biom \\\n",
    "  --type 'FeatureTable[Frequency]' \\\n",
    "  --source-format BIOMV210Format \\\n",
    "  --output-path ./data/haddad_6week_deblur_otus_unrare_hdf5.qza"
   ]
  },
  {
   "cell_type": "markdown",
   "metadata": {},
   "source": [
    "Next, we rarefy the deblur sotu table to an even sampling depth so that technical variation between sequencing efforts does not mask biological signal. \n",
    "- Sampling depth was chosen to be 2000 after interactive inspection of deblur sotu table in QIIME2 viewer. 182 samples (#sequences > 2000) were retained\n",
    "- We save a biom 2.0 version of rarefied sotu table for downstream analysis"
   ]
  },
  {
   "cell_type": "code",
   "execution_count": 26,
   "metadata": {
    "collapsed": false
   },
   "outputs": [
    {
     "name": "stdout",
     "output_type": "stream",
     "text": [
      "\u001b[32mSaved FeatureTable[Frequency] to: ./data/haddad_6week_deblur_otus_rare2k.qza\u001b[0m\r\n"
     ]
    }
   ],
   "source": [
    "! qiime feature-table rarefy --i-table ./data/haddad_6week_deblur_otus_unrare_hdf5.qza \\\n",
    "--p-sampling-depth 2000 \\\n",
    "--o-rarefied-table ./data/haddad_6week_deblur_otus_rare2k.qza\n",
    "\n",
    "! qiime tools export \\\n",
    "  ./data/haddad_6week_deblur_otus_rare2k.qza \\\n",
    "  --output-dir ./data/biom_rare2k_exp"
   ]
  },
  {
   "cell_type": "code",
   "execution_count": 27,
   "metadata": {
    "collapsed": true
   },
   "outputs": [],
   "source": [
    "# convert biom table to to tab-delimited\n",
    "! biom convert -i ./data/biom_rare2k_exp/feature-table.biom \\\n",
    "  -o ./data/haddad_6week_deblur_otus_rare2k.txt --table-type \"OTU table\" \\\n",
    "  --to-tsv\n",
    "\n",
    "# update 'microb' dataframe to rarefied feature table\n",
    "microb = pd.read_table(\"./data/haddad_6week_deblur_otus_rare2k.txt\", sep = '\\t', dtype = str, skiprows = 1,\n",
    "                      index_col = \"#OTU ID\")"
   ]
  },
  {
   "cell_type": "code",
   "execution_count": null,
   "metadata": {
    "collapsed": true
   },
   "outputs": [],
   "source": [
    "microb.head(3)"
   ]
  },
  {
   "cell_type": "markdown",
   "metadata": {},
   "source": [
    "We load the metabolome feature table: Metabolome (untargeted LC-MS/MS) feature table is represented as relative abundance of small molecular features([massToCharge]_[retentionTime]) per sample. (generated using MZmine2)"
   ]
  },
  {
   "cell_type": "code",
   "execution_count": 29,
   "metadata": {
    "collapsed": false
   },
   "outputs": [
    {
     "data": {
      "text/html": [
       "<div>\n",
       "<style>\n",
       "    .dataframe thead tr:only-child th {\n",
       "        text-align: right;\n",
       "    }\n",
       "\n",
       "    .dataframe thead th {\n",
       "        text-align: left;\n",
       "    }\n",
       "\n",
       "    .dataframe tbody tr th {\n",
       "        vertical-align: top;\n",
       "    }\n",
       "</style>\n",
       "<table border=\"1\" class=\"dataframe\">\n",
       "  <thead>\n",
       "    <tr style=\"text-align: right;\">\n",
       "      <th></th>\n",
       "      <th>10422.17.F.6</th>\n",
       "      <th>10422.17.F.2</th>\n",
       "      <th>10422.17.F.5</th>\n",
       "      <th>10422.17.F.7</th>\n",
       "      <th>10422.17.F.10</th>\n",
       "      <th>10422.17.F.4</th>\n",
       "      <th>10422.17.F.3</th>\n",
       "      <th>10422.17.F.8</th>\n",
       "      <th>10422.18.F.6</th>\n",
       "      <th>10422.18.F.2</th>\n",
       "      <th>...</th>\n",
       "      <th>10422.32.F.3</th>\n",
       "      <th>10422.32.F.7</th>\n",
       "      <th>10422.31.F.10</th>\n",
       "      <th>10422.32.F.12</th>\n",
       "      <th>10422.32.F.4</th>\n",
       "      <th>10422.32.F.13</th>\n",
       "      <th>10422.31.F.13</th>\n",
       "      <th>10422.32.F.9</th>\n",
       "      <th>10422.31.F.12</th>\n",
       "      <th>10422.32.F.11</th>\n",
       "    </tr>\n",
       "    <tr>\n",
       "      <th>#featureID</th>\n",
       "      <th></th>\n",
       "      <th></th>\n",
       "      <th></th>\n",
       "      <th></th>\n",
       "      <th></th>\n",
       "      <th></th>\n",
       "      <th></th>\n",
       "      <th></th>\n",
       "      <th></th>\n",
       "      <th></th>\n",
       "      <th></th>\n",
       "      <th></th>\n",
       "      <th></th>\n",
       "      <th></th>\n",
       "      <th></th>\n",
       "      <th></th>\n",
       "      <th></th>\n",
       "      <th></th>\n",
       "      <th></th>\n",
       "      <th></th>\n",
       "      <th></th>\n",
       "    </tr>\n",
       "  </thead>\n",
       "  <tbody>\n",
       "    <tr>\n",
       "      <th>132.1020923761221_0.4491537660256411</th>\n",
       "      <td>2.894960860988594E9</td>\n",
       "      <td>9.610168467776846E9</td>\n",
       "      <td>1.182263014985316E10</td>\n",
       "      <td>8.237728873128403E9</td>\n",
       "      <td>8.141911119798736E9</td>\n",
       "      <td>4.635300446851906E9</td>\n",
       "      <td>7.689054931586625E9</td>\n",
       "      <td>7.823334115189182E9</td>\n",
       "      <td>1.6703016660984683E9</td>\n",
       "      <td>1.2743426190491224E10</td>\n",
       "      <td>...</td>\n",
       "      <td>1.222905233156484E10</td>\n",
       "      <td>8.572231265031997E9</td>\n",
       "      <td>9.341332384041187E9</td>\n",
       "      <td>4.2168697214174366E9</td>\n",
       "      <td>5.43359559299014E9</td>\n",
       "      <td>1.3011845333573378E10</td>\n",
       "      <td>1.2588946976281939E10</td>\n",
       "      <td>1.4050915077632828E10</td>\n",
       "      <td>8.432949753442624E9</td>\n",
       "      <td>1.4761605463249516E10</td>\n",
       "    </tr>\n",
       "    <tr>\n",
       "      <th>166.0862755041856_0.5858793269230769</th>\n",
       "      <td>1.1305934772556405E9</td>\n",
       "      <td>5.955111906130312E9</td>\n",
       "      <td>6.746907823730342E9</td>\n",
       "      <td>4.111389704534751E9</td>\n",
       "      <td>4.1108703946595316E9</td>\n",
       "      <td>2.5244175646732197E9</td>\n",
       "      <td>4.1095420137630014E9</td>\n",
       "      <td>5.900437305735503E9</td>\n",
       "      <td>4.878848187955626E8</td>\n",
       "      <td>8.976942725740124E9</td>\n",
       "      <td>...</td>\n",
       "      <td>8.423897075956502E9</td>\n",
       "      <td>5.415180143984718E9</td>\n",
       "      <td>5.469345002638374E9</td>\n",
       "      <td>2.1886257254779987E9</td>\n",
       "      <td>3.1254080826838765E9</td>\n",
       "      <td>9.332327131924E9</td>\n",
       "      <td>8.416375498222314E9</td>\n",
       "      <td>1.0852542398524624E10</td>\n",
       "      <td>5.641343370020001E9</td>\n",
       "      <td>1.0800003954566751E10</td>\n",
       "    </tr>\n",
       "    <tr>\n",
       "      <th>357.2784138555112_5.010000161030595</th>\n",
       "      <td>1.8926338380370038E9</td>\n",
       "      <td>2.092870323073E9</td>\n",
       "      <td>2.523493777847994E9</td>\n",
       "      <td>1.9688080860177503E9</td>\n",
       "      <td>2.0885578201722806E9</td>\n",
       "      <td>3.3820405383121357E9</td>\n",
       "      <td>2.6865490029608774E9</td>\n",
       "      <td>2.5234752114992456E9</td>\n",
       "      <td>1.0699061940879337E9</td>\n",
       "      <td>1.878606502437749E9</td>\n",
       "      <td>...</td>\n",
       "      <td>1.5165929009018714E9</td>\n",
       "      <td>2.099398512921627E9</td>\n",
       "      <td>2.75377116859438E9</td>\n",
       "      <td>2.282654193257812E9</td>\n",
       "      <td>2.3633356128312488E9</td>\n",
       "      <td>2.650666432169661E9</td>\n",
       "      <td>2.243799569820179E9</td>\n",
       "      <td>2.755781674588057E9</td>\n",
       "      <td>3.5528350605919967E9</td>\n",
       "      <td>2.777342410653752E9</td>\n",
       "    </tr>\n",
       "  </tbody>\n",
       "</table>\n",
       "<p>3 rows × 208 columns</p>\n",
       "</div>"
      ],
      "text/plain": [
       "                                              10422.17.F.6  \\\n",
       "#featureID                                                   \n",
       "132.1020923761221_0.4491537660256411   2.894960860988594E9   \n",
       "166.0862755041856_0.5858793269230769  1.1305934772556405E9   \n",
       "357.2784138555112_5.010000161030595   1.8926338380370038E9   \n",
       "\n",
       "                                             10422.17.F.2  \\\n",
       "#featureID                                                  \n",
       "132.1020923761221_0.4491537660256411  9.610168467776846E9   \n",
       "166.0862755041856_0.5858793269230769  5.955111906130312E9   \n",
       "357.2784138555112_5.010000161030595      2.092870323073E9   \n",
       "\n",
       "                                              10422.17.F.5  \\\n",
       "#featureID                                                   \n",
       "132.1020923761221_0.4491537660256411  1.182263014985316E10   \n",
       "166.0862755041856_0.5858793269230769   6.746907823730342E9   \n",
       "357.2784138555112_5.010000161030595    2.523493777847994E9   \n",
       "\n",
       "                                              10422.17.F.7  \\\n",
       "#featureID                                                   \n",
       "132.1020923761221_0.4491537660256411   8.237728873128403E9   \n",
       "166.0862755041856_0.5858793269230769   4.111389704534751E9   \n",
       "357.2784138555112_5.010000161030595   1.9688080860177503E9   \n",
       "\n",
       "                                             10422.17.F.10  \\\n",
       "#featureID                                                   \n",
       "132.1020923761221_0.4491537660256411   8.141911119798736E9   \n",
       "166.0862755041856_0.5858793269230769  4.1108703946595316E9   \n",
       "357.2784138555112_5.010000161030595   2.0885578201722806E9   \n",
       "\n",
       "                                              10422.17.F.4  \\\n",
       "#featureID                                                   \n",
       "132.1020923761221_0.4491537660256411   4.635300446851906E9   \n",
       "166.0862755041856_0.5858793269230769  2.5244175646732197E9   \n",
       "357.2784138555112_5.010000161030595   3.3820405383121357E9   \n",
       "\n",
       "                                              10422.17.F.3  \\\n",
       "#featureID                                                   \n",
       "132.1020923761221_0.4491537660256411   7.689054931586625E9   \n",
       "166.0862755041856_0.5858793269230769  4.1095420137630014E9   \n",
       "357.2784138555112_5.010000161030595   2.6865490029608774E9   \n",
       "\n",
       "                                              10422.17.F.8  \\\n",
       "#featureID                                                   \n",
       "132.1020923761221_0.4491537660256411   7.823334115189182E9   \n",
       "166.0862755041856_0.5858793269230769   5.900437305735503E9   \n",
       "357.2784138555112_5.010000161030595   2.5234752114992456E9   \n",
       "\n",
       "                                              10422.18.F.6  \\\n",
       "#featureID                                                   \n",
       "132.1020923761221_0.4491537660256411  1.6703016660984683E9   \n",
       "166.0862755041856_0.5858793269230769   4.878848187955626E8   \n",
       "357.2784138555112_5.010000161030595   1.0699061940879337E9   \n",
       "\n",
       "                                               10422.18.F.2  \\\n",
       "#featureID                                                    \n",
       "132.1020923761221_0.4491537660256411  1.2743426190491224E10   \n",
       "166.0862755041856_0.5858793269230769    8.976942725740124E9   \n",
       "357.2784138555112_5.010000161030595     1.878606502437749E9   \n",
       "\n",
       "                                              ...            \\\n",
       "#featureID                                    ...             \n",
       "132.1020923761221_0.4491537660256411          ...             \n",
       "166.0862755041856_0.5858793269230769          ...             \n",
       "357.2784138555112_5.010000161030595           ...             \n",
       "\n",
       "                                              10422.32.F.3  \\\n",
       "#featureID                                                   \n",
       "132.1020923761221_0.4491537660256411  1.222905233156484E10   \n",
       "166.0862755041856_0.5858793269230769   8.423897075956502E9   \n",
       "357.2784138555112_5.010000161030595   1.5165929009018714E9   \n",
       "\n",
       "                                             10422.32.F.7  \\\n",
       "#featureID                                                  \n",
       "132.1020923761221_0.4491537660256411  8.572231265031997E9   \n",
       "166.0862755041856_0.5858793269230769  5.415180143984718E9   \n",
       "357.2784138555112_5.010000161030595   2.099398512921627E9   \n",
       "\n",
       "                                            10422.31.F.10  \\\n",
       "#featureID                                                  \n",
       "132.1020923761221_0.4491537660256411  9.341332384041187E9   \n",
       "166.0862755041856_0.5858793269230769  5.469345002638374E9   \n",
       "357.2784138555112_5.010000161030595    2.75377116859438E9   \n",
       "\n",
       "                                             10422.32.F.12  \\\n",
       "#featureID                                                   \n",
       "132.1020923761221_0.4491537660256411  4.2168697214174366E9   \n",
       "166.0862755041856_0.5858793269230769  2.1886257254779987E9   \n",
       "357.2784138555112_5.010000161030595    2.282654193257812E9   \n",
       "\n",
       "                                              10422.32.F.4  \\\n",
       "#featureID                                                   \n",
       "132.1020923761221_0.4491537660256411    5.43359559299014E9   \n",
       "166.0862755041856_0.5858793269230769  3.1254080826838765E9   \n",
       "357.2784138555112_5.010000161030595   2.3633356128312488E9   \n",
       "\n",
       "                                              10422.32.F.13  \\\n",
       "#featureID                                                    \n",
       "132.1020923761221_0.4491537660256411  1.3011845333573378E10   \n",
       "166.0862755041856_0.5858793269230769       9.332327131924E9   \n",
       "357.2784138555112_5.010000161030595     2.650666432169661E9   \n",
       "\n",
       "                                              10422.31.F.13  \\\n",
       "#featureID                                                    \n",
       "132.1020923761221_0.4491537660256411  1.2588946976281939E10   \n",
       "166.0862755041856_0.5858793269230769    8.416375498222314E9   \n",
       "357.2784138555112_5.010000161030595     2.243799569820179E9   \n",
       "\n",
       "                                               10422.32.F.9  \\\n",
       "#featureID                                                    \n",
       "132.1020923761221_0.4491537660256411  1.4050915077632828E10   \n",
       "166.0862755041856_0.5858793269230769  1.0852542398524624E10   \n",
       "357.2784138555112_5.010000161030595     2.755781674588057E9   \n",
       "\n",
       "                                             10422.31.F.12  \\\n",
       "#featureID                                                   \n",
       "132.1020923761221_0.4491537660256411   8.432949753442624E9   \n",
       "166.0862755041856_0.5858793269230769   5.641343370020001E9   \n",
       "357.2784138555112_5.010000161030595   3.5528350605919967E9   \n",
       "\n",
       "                                              10422.32.F.11  \n",
       "#featureID                                                   \n",
       "132.1020923761221_0.4491537660256411  1.4761605463249516E10  \n",
       "166.0862755041856_0.5858793269230769  1.0800003954566751E10  \n",
       "357.2784138555112_5.010000161030595     2.777342410653752E9  \n",
       "\n",
       "[3 rows x 208 columns]"
      ]
     },
     "execution_count": 29,
     "metadata": {},
     "output_type": "execute_result"
    }
   ],
   "source": [
    "# read metabolomic feature table\n",
    "metab = pd.read_table(\"./data/haddad_6week_allFeatures_nonorm.txt\", sep = '\\t', dtype = str, index_col = \"#featureID\")\n",
    "metab.head(3)"
   ]
  },
  {
   "cell_type": "markdown",
   "metadata": {},
   "source": [
    "Metabolomics feature table is PQN normalized to internal standard using the code below\n",
    "(internal standard used: m/z = 278.1896579171936; retention time = 3.8181483173076907 mins)"
   ]
  },
  {
   "cell_type": "code",
   "execution_count": 30,
   "metadata": {
    "collapsed": true
   },
   "outputs": [],
   "source": [
    "# PQN normalization\n",
    "int_stand='278.1896579171936_3.8181483173076907'\n",
    "ref=pd.to_numeric(metab.loc[int_stand])\n",
    "se_zero=[]\n",
    "\n",
    "for feature in metab.index:\n",
    "    metab.loc[feature]=pd.to_numeric(metab.loc[feature])\n",
    "    size_effect=np.median(metab.loc[feature]/ref)\n",
    "    if size_effect==0:\n",
    "        se_zero.append(feature)\n",
    "        continue\n",
    "    else:\n",
    "        metab.loc[feature]=metab.loc[feature]/size_effect"
   ]
  },
  {
   "cell_type": "code",
   "execution_count": 31,
   "metadata": {
    "collapsed": true
   },
   "outputs": [],
   "source": [
    "# save normalized table\n",
    "metab.to_csv(\"./data/haddad_6week_allFeatures_pqn.txt\", sep='\\t')"
   ]
  },
  {
   "cell_type": "markdown",
   "metadata": {},
   "source": [
    "It is expected that in high-throughput multi-omics experiments, some samples may not generate reliable data needed for further analysis. These samples are dropped during intial quality check. Therefore, we match samples present in metadata, microbiome and metabolome feature tables so as to keep only common samples for further analysis."
   ]
  },
  {
   "cell_type": "code",
   "execution_count": 32,
   "metadata": {
    "collapsed": true
   },
   "outputs": [],
   "source": [
    "def match_samples(mic, met, md):\n",
    "    mic_samp=set(mic.index)\n",
    "    met_samp=set(met.index)\n",
    "    md_samp=set(md.index)\n",
    "    matched=sorted(list(mic_samp & met_samp & md_samp))\n",
    "    mic=mic.loc[matched]\n",
    "    met=met.loc[matched]\n",
    "    md=md.loc[matched]\n",
    "    return(mic, met, md)\n",
    "    \n",
    "\n",
    "    m1 = pd.DataFrame([[0, 0, 1],\n",
    "                  [2, 2, 4],\n",
    "                  [5, 5, 3]],\n",
    "                  index=['s1', 's2', 's3'],\n",
    "                  columns=['o1', 'o2', 'o3'])\n",
    "    _mapping = pd.DataFrame([['a', 'control'],\n",
    "                        ['b', 'control'],\n",
    "                        ['c', 'diseased'],\n",
    "                        ['d', 'diseased']],\n",
    "                        index=['s1', 's2', 's3', 's4'],\n",
    "                        columns=['Barcode', 'Treatment'])\n",
    "    m2=pd.DataFrame([[2, 4, 4],\n",
    "                 [5, 3, 3],\n",
    "                 [0, 0, 1]],\n",
    "                index=['s2', 's3', 's4'],\n",
    "                columns=['c1', 'c2', 'c3'])\n",
    "    assert(match_samples(m1, m2, _mapping)[0].index==['s2','s3'])"
   ]
  },
  {
   "cell_type": "code",
   "execution_count": 33,
   "metadata": {
    "collapsed": true
   },
   "outputs": [],
   "source": [
    "mic_match, met_match, mapping_match=match_samples(microb.T, metab.T, mapping)"
   ]
  },
  {
   "cell_type": "code",
   "execution_count": 34,
   "metadata": {
    "collapsed": false
   },
   "outputs": [
    {
     "name": "stdout",
     "output_type": "stream",
     "text": [
      "(182, 735)\n",
      "(182, 1710)\n",
      "(182, 69)\n"
     ]
    }
   ],
   "source": [
    "print(mic_match.shape)\n",
    "print(met_match.shape)\n",
    "print(mapping_match.shape)"
   ]
  },
  {
   "cell_type": "code",
   "execution_count": 39,
   "metadata": {
    "collapsed": true
   },
   "outputs": [],
   "source": [
    "met_match = met_match.reset_index().rename(columns = {'index': '#SampleID'})\n",
    "mic_match = mic_match.reset_index().rename(columns = {'index': '#SampleID'})\n",
    "mapping_match = mapping_match.reset_index()"
   ]
  },
  {
   "cell_type": "code",
   "execution_count": 44,
   "metadata": {
    "collapsed": true
   },
   "outputs": [],
   "source": [
    "# save matched tables for downstream analysis\n",
    "mapping_match.to_csv(\"./data/haddad_6weeks_metadata_matched.txt\", sep ='\\t', index = False)\n",
    "mic_match.to_csv(\"./data/haddad_6weeks_deblur_otus_rare2k_matched.txt\", sep ='\\t', index = False)\n",
    "met_match.to_csv(\"./data/haddad_6weeks_allFeatures_pqn_matched.txt\", sep ='\\t', index = False)"
   ]
  },
  {
   "cell_type": "code",
   "execution_count": 5,
   "metadata": {
    "collapsed": true
   },
   "outputs": [],
   "source": [
    "# convert matched feature tables to biom\n",
    "! biom convert -i ./data/haddad_6weeks_deblur_otus_rare2k_matched.txt \\\n",
    "  -o ./data/haddad_6weeks_deblur_otus_rare2k_matched.biom --table-type \"OTU table\" \\\n",
    "  --to-hdf5\n",
    "\n",
    "! biom convert -i ./data/haddad_6weeks_allFeatures_pqn_matched.txt \\\n",
    "  -o ./data/haddad_6weeks_allFeatures_pqn_matched.biom --table-type \"OTU table\" \\\n",
    "  --to-hdf5"
   ]
  }
 ],
 "metadata": {
  "kernelspec": {
   "display_name": "Python [Root]",
   "language": "python",
   "name": "Python [Root]"
  },
  "language_info": {
   "codemirror_mode": {
    "name": "ipython",
    "version": 2
   },
   "file_extension": ".py",
   "mimetype": "text/x-python",
   "name": "python",
   "nbconvert_exporter": "python",
   "pygments_lexer": "ipython2",
   "version": "2.7.13"
  }
 },
 "nbformat": 4,
 "nbformat_minor": 2
}
