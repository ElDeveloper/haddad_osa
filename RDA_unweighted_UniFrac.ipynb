{
 "cells": [
  {
   "cell_type": "markdown",
   "metadata": {},
   "source": [
    "This notebook is to apply the Redundancy Analysis (RDA) to microbiome data to compare the effect size for treatment and cage effects (reference: Falony, Science, 2016)."
   ]
  },
  {
   "cell_type": "code",
   "execution_count": 1,
   "metadata": {},
   "outputs": [
    {
     "name": "stderr",
     "output_type": "stream",
     "text": [
      "Warning message:\n",
      "“package ‘vegan’ was built under R version 3.2.5”Loading required package: permute\n",
      "Warning message:\n",
      "“package ‘permute’ was built under R version 3.2.5”Loading required package: lattice\n",
      "This is vegan 2.4-4\n"
     ]
    }
   ],
   "source": [
    "library(vegan)"
   ]
  },
  {
   "cell_type": "markdown",
   "metadata": {},
   "source": [
    "## Data Preparation for RDA analysis"
   ]
  },
  {
   "cell_type": "code",
   "execution_count": 2,
   "metadata": {
    "collapsed": true
   },
   "outputs": [],
   "source": [
    "mf = read.csv('haddad_6week_metadata_matched_rare2k.txt', sep='\\t')"
   ]
  },
  {
   "cell_type": "code",
   "execution_count": 3,
   "metadata": {
    "collapsed": true
   },
   "outputs": [],
   "source": [
    "pc = read.csv('unweighted_unifrac_pc.txt', header=FALSE, sep='\\t')"
   ]
  },
  {
   "cell_type": "code",
   "execution_count": 4,
   "metadata": {},
   "outputs": [
    {
     "data": {
      "text/html": [
       "<ol class=list-inline>\n",
       "\t<li>182</li>\n",
       "\t<li>70</li>\n",
       "</ol>\n"
      ],
      "text/latex": [
       "\\begin{enumerate*}\n",
       "\\item 182\n",
       "\\item 70\n",
       "\\end{enumerate*}\n"
      ],
      "text/markdown": [
       "1. 182\n",
       "2. 70\n",
       "\n",
       "\n"
      ],
      "text/plain": [
       "[1] 182  70"
      ]
     },
     "metadata": {},
     "output_type": "display_data"
    },
    {
     "data": {
      "text/html": [
       "<ol class=list-inline>\n",
       "\t<li>182</li>\n",
       "\t<li>183</li>\n",
       "</ol>\n"
      ],
      "text/latex": [
       "\\begin{enumerate*}\n",
       "\\item 182\n",
       "\\item 183\n",
       "\\end{enumerate*}\n"
      ],
      "text/markdown": [
       "1. 182\n",
       "2. 183\n",
       "\n",
       "\n"
      ],
      "text/plain": [
       "[1] 182 183"
      ]
     },
     "metadata": {},
     "output_type": "display_data"
    }
   ],
   "source": [
    "dim(mf)\n",
    "dim(pc)"
   ]
  },
  {
   "cell_type": "code",
   "execution_count": 5,
   "metadata": {},
   "outputs": [
    {
     "data": {
      "text/html": [
       "<table>\n",
       "<thead><tr><th scope=col>X.SampleID</th><th scope=col>BarcodeSequence</th><th scope=col>LinkerPrimerSequence</th><th scope=col>center_name</th><th scope=col>experiment_design_description</th><th scope=col>extraction_robot</th><th scope=col>extractionkit_lot</th><th scope=col>instrument_model</th><th scope=col>library_construction_protocol</th><th scope=col>linker</th><th scope=col>⋯</th><th scope=col>physical_specimen_location</th><th scope=col>physical_specimen_remaining</th><th scope=col>sample_type</th><th scope=col>scientific_name</th><th scope=col>sex</th><th scope=col>title</th><th scope=col>weekly_cage_food_consumption</th><th scope=col>weight</th><th scope=col>weight_units</th><th scope=col>Description</th></tr></thead>\n",
       "<tbody>\n",
       "\t<tr><td>10422.17.F.10                                                                                 </td><td>GTTGTTCTGGGA                                                                                  </td><td>GTGTGCCAGCMGCCGCGGTAA                                                                         </td><td>UCSDMI                                                                                        </td><td>Mouse cohort exposed to apnea and controls to assess the effect on the gut microbiome in mice.</td><td>HOWE_KF1                                                                                      </td><td>PM16B24                                                                                       </td><td>Illumina HiSeq 2500                                                                           </td><td>EMP 16S V4 protocol 515fbc, 806r                                                              </td><td>GT                                                                                            </td><td>⋯                                                                                             </td><td>UCSD LBR -80 freezer                                                                          </td><td>TRUE                                                                                          </td><td>stool                                                                                         </td><td>mouse gut metagenome                                                                          </td><td>male                                                                                          </td><td>OSA                                                                                           </td><td>Missing: Not provided                                                                         </td><td>25.6                                                                                          </td><td>g                                                                                             </td><td>feces mouse 17 collection 10 of 13                                                            </td></tr>\n",
       "\t<tr><td>10422.17.F.11                                                                                 </td><td>TGTGCTTGTAGG                                                                                  </td><td>GTGTGCCAGCMGCCGCGGTAA                                                                         </td><td>UCSDMI                                                                                        </td><td>Mouse cohort exposed to apnea and controls to assess the effect on the gut microbiome in mice.</td><td>HOWE_KF2                                                                                      </td><td>PM16B24                                                                                       </td><td>Illumina HiSeq 2500                                                                           </td><td>EMP 16S V4 protocol 515fbc, 806r                                                              </td><td>GT                                                                                            </td><td>⋯                                                                                             </td><td>UCSD LBR -80 freezer                                                                          </td><td>TRUE                                                                                          </td><td>stool                                                                                         </td><td>mouse gut metagenome                                                                          </td><td>male                                                                                          </td><td>OSA                                                                                           </td><td>71.8                                                                                          </td><td>25.2                                                                                          </td><td>g                                                                                             </td><td>feces mouse 17 collection 11 of 13                                                            </td></tr>\n",
       "\t<tr><td>10422.17.F.12                                                                                 </td><td>AGAATCCACCAC                                                                                  </td><td>GTGTGCCAGCMGCCGCGGTAA                                                                         </td><td>UCSDMI                                                                                        </td><td>Mouse cohort exposed to apnea and controls to assess the effect on the gut microbiome in mice.</td><td>HOWE_KF1                                                                                      </td><td>PM16B24                                                                                       </td><td>Illumina HiSeq 2500                                                                           </td><td>EMP 16S V4 protocol 515fbc, 806r                                                              </td><td>GT                                                                                            </td><td>⋯                                                                                             </td><td>UCSD LBR -80 freezer                                                                          </td><td>TRUE                                                                                          </td><td>stool                                                                                         </td><td>mouse gut metagenome                                                                          </td><td>male                                                                                          </td><td>OSA                                                                                           </td><td>Missing: Not provided                                                                         </td><td>25.7                                                                                          </td><td>g                                                                                             </td><td>feces mouse 17 collection 12 of 13                                                            </td></tr>\n",
       "\t<tr><td>10422.17.F.13                                                                                 </td><td>CTGTAAAGGTTG                                                                                  </td><td>GTGTGCCAGCMGCCGCGGTAA                                                                         </td><td>UCSDMI                                                                                        </td><td>Mouse cohort exposed to apnea and controls to assess the effect on the gut microbiome in mice.</td><td>HOWE_KF2                                                                                      </td><td>PM16B24                                                                                       </td><td>Illumina HiSeq 2500                                                                           </td><td>EMP 16S V4 protocol 515fbc, 806r                                                              </td><td>GT                                                                                            </td><td>⋯                                                                                             </td><td>UCSD LBR -80 freezer                                                                          </td><td>TRUE                                                                                          </td><td>stool                                                                                         </td><td>mouse gut metagenome                                                                          </td><td>male                                                                                          </td><td>OSA                                                                                           </td><td>71.7                                                                                          </td><td>26.3                                                                                          </td><td>g                                                                                             </td><td>final feces mouse 17 collection 13 of 13                                                      </td></tr>\n",
       "\t<tr><td>10422.17.F.3                                                                                  </td><td>CTCCCGAGCTCC                                                                                  </td><td>GTGTGCCAGCMGCCGCGGTAA                                                                         </td><td>UCSDMI                                                                                        </td><td>Mouse cohort exposed to apnea and controls to assess the effect on the gut microbiome in mice.</td><td>HOWE_KF2                                                                                      </td><td>PM16B24                                                                                       </td><td>Illumina HiSeq 2500                                                                           </td><td>EMP 16S V4 protocol 515fbc, 806r                                                              </td><td>GT                                                                                            </td><td>⋯                                                                                             </td><td>UCSD LBR -80 freezer                                                                          </td><td>TRUE                                                                                          </td><td>stool                                                                                         </td><td>mouse gut metagenome                                                                          </td><td>male                                                                                          </td><td>OSA                                                                                           </td><td>105.7                                                                                         </td><td>24.9                                                                                          </td><td>g                                                                                             </td><td>feces mouse 17 collection 3 of 13                                                             </td></tr>\n",
       "\t<tr><td>10422.17.F.4                                                                                  </td><td>GGTCTTAGCACC                                                                                  </td><td>GTGTGCCAGCMGCCGCGGTAA                                                                         </td><td>UCSDMI                                                                                        </td><td>Mouse cohort exposed to apnea and controls to assess the effect on the gut microbiome in mice.</td><td>HOWE_KF2                                                                                      </td><td>PM16B24                                                                                       </td><td>Illumina HiSeq 2500                                                                           </td><td>EMP 16S V4 protocol 515fbc, 806r                                                              </td><td>GT                                                                                            </td><td>⋯                                                                                             </td><td>UCSD LBR -80 freezer                                                                          </td><td>TRUE                                                                                          </td><td>stool                                                                                         </td><td>mouse gut metagenome                                                                          </td><td>male                                                                                          </td><td>OSA                                                                                           </td><td>Missing: Not provided                                                                         </td><td>24.0                                                                                          </td><td>g                                                                                             </td><td>feces mouse 17 collection 4 of 13                                                             </td></tr>\n",
       "</tbody>\n",
       "</table>\n"
      ],
      "text/latex": [
       "\\begin{tabular}{r|llllllllllllllllllllllllllllllllllllllllllllllllllllllllllllllllllllll}\n",
       " X.SampleID & BarcodeSequence & LinkerPrimerSequence & center\\_name & experiment\\_design\\_description & extraction\\_robot & extractionkit\\_lot & instrument\\_model & library\\_construction\\_protocol & linker & ⋯ & physical\\_specimen\\_location & physical\\_specimen\\_remaining & sample\\_type & scientific\\_name & sex & title & weekly\\_cage\\_food\\_consumption & weight & weight\\_units & Description\\\\\n",
       "\\hline\n",
       "\t 10422.17.F.10                                                                                  & GTTGTTCTGGGA                                                                                   & GTGTGCCAGCMGCCGCGGTAA                                                                          & UCSDMI                                                                                         & Mouse cohort exposed to apnea and controls to assess the effect on the gut microbiome in mice. & HOWE\\_KF1                                                                                     & PM16B24                                                                                        & Illumina HiSeq 2500                                                                            & EMP 16S V4 protocol 515fbc, 806r                                                               & GT                                                                                             & ⋯                                                                                              & UCSD LBR -80 freezer                                                                           & TRUE                                                                                           & stool                                                                                          & mouse gut metagenome                                                                           & male                                                                                           & OSA                                                                                            & Missing: Not provided                                                                          & 25.6                                                                                           & g                                                                                              & feces mouse 17 collection 10 of 13                                                            \\\\\n",
       "\t 10422.17.F.11                                                                                  & TGTGCTTGTAGG                                                                                   & GTGTGCCAGCMGCCGCGGTAA                                                                          & UCSDMI                                                                                         & Mouse cohort exposed to apnea and controls to assess the effect on the gut microbiome in mice. & HOWE\\_KF2                                                                                     & PM16B24                                                                                        & Illumina HiSeq 2500                                                                            & EMP 16S V4 protocol 515fbc, 806r                                                               & GT                                                                                             & ⋯                                                                                              & UCSD LBR -80 freezer                                                                           & TRUE                                                                                           & stool                                                                                          & mouse gut metagenome                                                                           & male                                                                                           & OSA                                                                                            & 71.8                                                                                           & 25.2                                                                                           & g                                                                                              & feces mouse 17 collection 11 of 13                                                            \\\\\n",
       "\t 10422.17.F.12                                                                                  & AGAATCCACCAC                                                                                   & GTGTGCCAGCMGCCGCGGTAA                                                                          & UCSDMI                                                                                         & Mouse cohort exposed to apnea and controls to assess the effect on the gut microbiome in mice. & HOWE\\_KF1                                                                                     & PM16B24                                                                                        & Illumina HiSeq 2500                                                                            & EMP 16S V4 protocol 515fbc, 806r                                                               & GT                                                                                             & ⋯                                                                                              & UCSD LBR -80 freezer                                                                           & TRUE                                                                                           & stool                                                                                          & mouse gut metagenome                                                                           & male                                                                                           & OSA                                                                                            & Missing: Not provided                                                                          & 25.7                                                                                           & g                                                                                              & feces mouse 17 collection 12 of 13                                                            \\\\\n",
       "\t 10422.17.F.13                                                                                  & CTGTAAAGGTTG                                                                                   & GTGTGCCAGCMGCCGCGGTAA                                                                          & UCSDMI                                                                                         & Mouse cohort exposed to apnea and controls to assess the effect on the gut microbiome in mice. & HOWE\\_KF2                                                                                     & PM16B24                                                                                        & Illumina HiSeq 2500                                                                            & EMP 16S V4 protocol 515fbc, 806r                                                               & GT                                                                                             & ⋯                                                                                              & UCSD LBR -80 freezer                                                                           & TRUE                                                                                           & stool                                                                                          & mouse gut metagenome                                                                           & male                                                                                           & OSA                                                                                            & 71.7                                                                                           & 26.3                                                                                           & g                                                                                              & final feces mouse 17 collection 13 of 13                                                      \\\\\n",
       "\t 10422.17.F.3                                                                                   & CTCCCGAGCTCC                                                                                   & GTGTGCCAGCMGCCGCGGTAA                                                                          & UCSDMI                                                                                         & Mouse cohort exposed to apnea and controls to assess the effect on the gut microbiome in mice. & HOWE\\_KF2                                                                                     & PM16B24                                                                                        & Illumina HiSeq 2500                                                                            & EMP 16S V4 protocol 515fbc, 806r                                                               & GT                                                                                             & ⋯                                                                                              & UCSD LBR -80 freezer                                                                           & TRUE                                                                                           & stool                                                                                          & mouse gut metagenome                                                                           & male                                                                                           & OSA                                                                                            & 105.7                                                                                          & 24.9                                                                                           & g                                                                                              & feces mouse 17 collection 3 of 13                                                             \\\\\n",
       "\t 10422.17.F.4                                                                                   & GGTCTTAGCACC                                                                                   & GTGTGCCAGCMGCCGCGGTAA                                                                          & UCSDMI                                                                                         & Mouse cohort exposed to apnea and controls to assess the effect on the gut microbiome in mice. & HOWE\\_KF2                                                                                     & PM16B24                                                                                        & Illumina HiSeq 2500                                                                            & EMP 16S V4 protocol 515fbc, 806r                                                               & GT                                                                                             & ⋯                                                                                              & UCSD LBR -80 freezer                                                                           & TRUE                                                                                           & stool                                                                                          & mouse gut metagenome                                                                           & male                                                                                           & OSA                                                                                            & Missing: Not provided                                                                          & 24.0                                                                                           & g                                                                                              & feces mouse 17 collection 4 of 13                                                             \\\\\n",
       "\\end{tabular}\n"
      ],
      "text/markdown": [
       "\n",
       "X.SampleID | BarcodeSequence | LinkerPrimerSequence | center_name | experiment_design_description | extraction_robot | extractionkit_lot | instrument_model | library_construction_protocol | linker | ⋯ | physical_specimen_location | physical_specimen_remaining | sample_type | scientific_name | sex | title | weekly_cage_food_consumption | weight | weight_units | Description | \n",
       "|---|---|---|---|---|---|\n",
       "| 10422.17.F.10                                                                                  | GTTGTTCTGGGA                                                                                   | GTGTGCCAGCMGCCGCGGTAA                                                                          | UCSDMI                                                                                         | Mouse cohort exposed to apnea and controls to assess the effect on the gut microbiome in mice. | HOWE_KF1                                                                                       | PM16B24                                                                                        | Illumina HiSeq 2500                                                                            | EMP 16S V4 protocol 515fbc, 806r                                                               | GT                                                                                             | ⋯                                                                                              | UCSD LBR -80 freezer                                                                           | TRUE                                                                                           | stool                                                                                          | mouse gut metagenome                                                                           | male                                                                                           | OSA                                                                                            | Missing: Not provided                                                                          | 25.6                                                                                           | g                                                                                              | feces mouse 17 collection 10 of 13                                                             | \n",
       "| 10422.17.F.11                                                                                  | TGTGCTTGTAGG                                                                                   | GTGTGCCAGCMGCCGCGGTAA                                                                          | UCSDMI                                                                                         | Mouse cohort exposed to apnea and controls to assess the effect on the gut microbiome in mice. | HOWE_KF2                                                                                       | PM16B24                                                                                        | Illumina HiSeq 2500                                                                            | EMP 16S V4 protocol 515fbc, 806r                                                               | GT                                                                                             | ⋯                                                                                              | UCSD LBR -80 freezer                                                                           | TRUE                                                                                           | stool                                                                                          | mouse gut metagenome                                                                           | male                                                                                           | OSA                                                                                            | 71.8                                                                                           | 25.2                                                                                           | g                                                                                              | feces mouse 17 collection 11 of 13                                                             | \n",
       "| 10422.17.F.12                                                                                  | AGAATCCACCAC                                                                                   | GTGTGCCAGCMGCCGCGGTAA                                                                          | UCSDMI                                                                                         | Mouse cohort exposed to apnea and controls to assess the effect on the gut microbiome in mice. | HOWE_KF1                                                                                       | PM16B24                                                                                        | Illumina HiSeq 2500                                                                            | EMP 16S V4 protocol 515fbc, 806r                                                               | GT                                                                                             | ⋯                                                                                              | UCSD LBR -80 freezer                                                                           | TRUE                                                                                           | stool                                                                                          | mouse gut metagenome                                                                           | male                                                                                           | OSA                                                                                            | Missing: Not provided                                                                          | 25.7                                                                                           | g                                                                                              | feces mouse 17 collection 12 of 13                                                             | \n",
       "| 10422.17.F.13                                                                                  | CTGTAAAGGTTG                                                                                   | GTGTGCCAGCMGCCGCGGTAA                                                                          | UCSDMI                                                                                         | Mouse cohort exposed to apnea and controls to assess the effect on the gut microbiome in mice. | HOWE_KF2                                                                                       | PM16B24                                                                                        | Illumina HiSeq 2500                                                                            | EMP 16S V4 protocol 515fbc, 806r                                                               | GT                                                                                             | ⋯                                                                                              | UCSD LBR -80 freezer                                                                           | TRUE                                                                                           | stool                                                                                          | mouse gut metagenome                                                                           | male                                                                                           | OSA                                                                                            | 71.7                                                                                           | 26.3                                                                                           | g                                                                                              | final feces mouse 17 collection 13 of 13                                                       | \n",
       "| 10422.17.F.3                                                                                   | CTCCCGAGCTCC                                                                                   | GTGTGCCAGCMGCCGCGGTAA                                                                          | UCSDMI                                                                                         | Mouse cohort exposed to apnea and controls to assess the effect on the gut microbiome in mice. | HOWE_KF2                                                                                       | PM16B24                                                                                        | Illumina HiSeq 2500                                                                            | EMP 16S V4 protocol 515fbc, 806r                                                               | GT                                                                                             | ⋯                                                                                              | UCSD LBR -80 freezer                                                                           | TRUE                                                                                           | stool                                                                                          | mouse gut metagenome                                                                           | male                                                                                           | OSA                                                                                            | 105.7                                                                                          | 24.9                                                                                           | g                                                                                              | feces mouse 17 collection 3 of 13                                                              | \n",
       "| 10422.17.F.4                                                                                   | GGTCTTAGCACC                                                                                   | GTGTGCCAGCMGCCGCGGTAA                                                                          | UCSDMI                                                                                         | Mouse cohort exposed to apnea and controls to assess the effect on the gut microbiome in mice. | HOWE_KF2                                                                                       | PM16B24                                                                                        | Illumina HiSeq 2500                                                                            | EMP 16S V4 protocol 515fbc, 806r                                                               | GT                                                                                             | ⋯                                                                                              | UCSD LBR -80 freezer                                                                           | TRUE                                                                                           | stool                                                                                          | mouse gut metagenome                                                                           | male                                                                                           | OSA                                                                                            | Missing: Not provided                                                                          | 24.0                                                                                           | g                                                                                              | feces mouse 17 collection 4 of 13                                                              | \n",
       "\n",
       "\n"
      ],
      "text/plain": [
       "  X.SampleID    BarcodeSequence LinkerPrimerSequence  center_name\n",
       "1 10422.17.F.10 GTTGTTCTGGGA    GTGTGCCAGCMGCCGCGGTAA UCSDMI     \n",
       "2 10422.17.F.11 TGTGCTTGTAGG    GTGTGCCAGCMGCCGCGGTAA UCSDMI     \n",
       "3 10422.17.F.12 AGAATCCACCAC    GTGTGCCAGCMGCCGCGGTAA UCSDMI     \n",
       "4 10422.17.F.13 CTGTAAAGGTTG    GTGTGCCAGCMGCCGCGGTAA UCSDMI     \n",
       "5 10422.17.F.3  CTCCCGAGCTCC    GTGTGCCAGCMGCCGCGGTAA UCSDMI     \n",
       "6 10422.17.F.4  GGTCTTAGCACC    GTGTGCCAGCMGCCGCGGTAA UCSDMI     \n",
       "  experiment_design_description                                                                 \n",
       "1 Mouse cohort exposed to apnea and controls to assess the effect on the gut microbiome in mice.\n",
       "2 Mouse cohort exposed to apnea and controls to assess the effect on the gut microbiome in mice.\n",
       "3 Mouse cohort exposed to apnea and controls to assess the effect on the gut microbiome in mice.\n",
       "4 Mouse cohort exposed to apnea and controls to assess the effect on the gut microbiome in mice.\n",
       "5 Mouse cohort exposed to apnea and controls to assess the effect on the gut microbiome in mice.\n",
       "6 Mouse cohort exposed to apnea and controls to assess the effect on the gut microbiome in mice.\n",
       "  extraction_robot extractionkit_lot instrument_model   \n",
       "1 HOWE_KF1         PM16B24           Illumina HiSeq 2500\n",
       "2 HOWE_KF2         PM16B24           Illumina HiSeq 2500\n",
       "3 HOWE_KF1         PM16B24           Illumina HiSeq 2500\n",
       "4 HOWE_KF2         PM16B24           Illumina HiSeq 2500\n",
       "5 HOWE_KF2         PM16B24           Illumina HiSeq 2500\n",
       "6 HOWE_KF2         PM16B24           Illumina HiSeq 2500\n",
       "  library_construction_protocol    linker ⋯ physical_specimen_location\n",
       "1 EMP 16S V4 protocol 515fbc, 806r GT     ⋯ UCSD LBR -80 freezer      \n",
       "2 EMP 16S V4 protocol 515fbc, 806r GT     ⋯ UCSD LBR -80 freezer      \n",
       "3 EMP 16S V4 protocol 515fbc, 806r GT     ⋯ UCSD LBR -80 freezer      \n",
       "4 EMP 16S V4 protocol 515fbc, 806r GT     ⋯ UCSD LBR -80 freezer      \n",
       "5 EMP 16S V4 protocol 515fbc, 806r GT     ⋯ UCSD LBR -80 freezer      \n",
       "6 EMP 16S V4 protocol 515fbc, 806r GT     ⋯ UCSD LBR -80 freezer      \n",
       "  physical_specimen_remaining sample_type scientific_name      sex  title\n",
       "1 TRUE                        stool       mouse gut metagenome male OSA  \n",
       "2 TRUE                        stool       mouse gut metagenome male OSA  \n",
       "3 TRUE                        stool       mouse gut metagenome male OSA  \n",
       "4 TRUE                        stool       mouse gut metagenome male OSA  \n",
       "5 TRUE                        stool       mouse gut metagenome male OSA  \n",
       "6 TRUE                        stool       mouse gut metagenome male OSA  \n",
       "  weekly_cage_food_consumption weight weight_units\n",
       "1 Missing: Not provided        25.6   g           \n",
       "2 71.8                         25.2   g           \n",
       "3 Missing: Not provided        25.7   g           \n",
       "4 71.7                         26.3   g           \n",
       "5 105.7                        24.9   g           \n",
       "6 Missing: Not provided        24.0   g           \n",
       "  Description                             \n",
       "1 feces mouse 17 collection 10 of 13      \n",
       "2 feces mouse 17 collection 11 of 13      \n",
       "3 feces mouse 17 collection 12 of 13      \n",
       "4 final feces mouse 17 collection 13 of 13\n",
       "5 feces mouse 17 collection 3 of 13       \n",
       "6 feces mouse 17 collection 4 of 13       "
      ]
     },
     "metadata": {},
     "output_type": "display_data"
    }
   ],
   "source": [
    "head(mf)"
   ]
  },
  {
   "cell_type": "code",
   "execution_count": 6,
   "metadata": {},
   "outputs": [
    {
     "data": {
      "text/html": [
       "<ol class=list-inline>\n",
       "\t<li>182</li>\n",
       "\t<li>11</li>\n",
       "</ol>\n"
      ],
      "text/latex": [
       "\\begin{enumerate*}\n",
       "\\item 182\n",
       "\\item 11\n",
       "\\end{enumerate*}\n"
      ],
      "text/markdown": [
       "1. 182\n",
       "2. 11\n",
       "\n",
       "\n"
      ],
      "text/plain": [
       "[1] 182  11"
      ]
     },
     "metadata": {},
     "output_type": "display_data"
    },
    {
     "data": {
      "text/html": [
       "<table>\n",
       "<thead><tr><th scope=col>X.SampleID</th><th scope=col>PC1</th><th scope=col>PC2</th><th scope=col>PC3</th><th scope=col>PC4</th><th scope=col>PC5</th><th scope=col>PC6</th><th scope=col>PC7</th><th scope=col>PC8</th><th scope=col>PC9</th><th scope=col>PC10</th></tr></thead>\n",
       "<tbody>\n",
       "\t<tr><td>10422.17.F.10</td><td>-0.05976827  </td><td>0.02645879   </td><td>0.01189369   </td><td>-0.04547830  </td><td> 0.01172535  </td><td>-0.081545470 </td><td> 0.05848336  </td><td>-0.054970208 </td><td>-0.072858399 </td><td> 0.007478379 </td></tr>\n",
       "\t<tr><td>10422.17.F.11</td><td>-0.06582195  </td><td>0.03003458   </td><td>0.04061219   </td><td>-0.08585809  </td><td> 0.09319215  </td><td>-0.064036326 </td><td> 0.04895493  </td><td> 0.009016226 </td><td>-0.031530171 </td><td> 0.029190749 </td></tr>\n",
       "\t<tr><td>10422.17.F.12</td><td>-0.08377180  </td><td>0.03660798   </td><td>0.03076735   </td><td>-0.06438793  </td><td> 0.09441188  </td><td>-0.016211537 </td><td> 0.05954417  </td><td> 0.004364525 </td><td>-0.028682820 </td><td> 0.032081034 </td></tr>\n",
       "\t<tr><td>10422.17.F.13</td><td>-0.08596504  </td><td>0.07530612   </td><td>0.03375580   </td><td>-0.08652844  </td><td> 0.09139416  </td><td>-0.007040922 </td><td>-0.04702710  </td><td> 0.003740529 </td><td> 0.005535416 </td><td> 0.034974764 </td></tr>\n",
       "\t<tr><td>10422.17.F.3 </td><td>-0.08772823  </td><td>0.05638292   </td><td>0.07824703   </td><td>-0.08641231  </td><td>-0.06389593  </td><td>-0.074539220 </td><td> 0.05786154  </td><td>-0.039576721 </td><td>-0.027889781 </td><td>-0.024444281 </td></tr>\n",
       "\t<tr><td>10422.17.F.4 </td><td>-0.09195258  </td><td>0.05062091   </td><td>0.07417381   </td><td>-0.08887333  </td><td>-0.02018471  </td><td>-0.035864497 </td><td> 0.08128657  </td><td>-0.042169148 </td><td>-0.023215416 </td><td> 0.024866731 </td></tr>\n",
       "</tbody>\n",
       "</table>\n"
      ],
      "text/latex": [
       "\\begin{tabular}{r|lllllllllll}\n",
       " X.SampleID & PC1 & PC2 & PC3 & PC4 & PC5 & PC6 & PC7 & PC8 & PC9 & PC10\\\\\n",
       "\\hline\n",
       "\t 10422.17.F.10 & -0.05976827   & 0.02645879    & 0.01189369    & -0.04547830   &  0.01172535   & -0.081545470  &  0.05848336   & -0.054970208  & -0.072858399  &  0.007478379 \\\\\n",
       "\t 10422.17.F.11 & -0.06582195   & 0.03003458    & 0.04061219    & -0.08585809   &  0.09319215   & -0.064036326  &  0.04895493   &  0.009016226  & -0.031530171  &  0.029190749 \\\\\n",
       "\t 10422.17.F.12 & -0.08377180   & 0.03660798    & 0.03076735    & -0.06438793   &  0.09441188   & -0.016211537  &  0.05954417   &  0.004364525  & -0.028682820  &  0.032081034 \\\\\n",
       "\t 10422.17.F.13 & -0.08596504   & 0.07530612    & 0.03375580    & -0.08652844   &  0.09139416   & -0.007040922  & -0.04702710   &  0.003740529  &  0.005535416  &  0.034974764 \\\\\n",
       "\t 10422.17.F.3  & -0.08772823   & 0.05638292    & 0.07824703    & -0.08641231   & -0.06389593   & -0.074539220  &  0.05786154   & -0.039576721  & -0.027889781  & -0.024444281 \\\\\n",
       "\t 10422.17.F.4  & -0.09195258   & 0.05062091    & 0.07417381    & -0.08887333   & -0.02018471   & -0.035864497  &  0.08128657   & -0.042169148  & -0.023215416  &  0.024866731 \\\\\n",
       "\\end{tabular}\n"
      ],
      "text/markdown": [
       "\n",
       "X.SampleID | PC1 | PC2 | PC3 | PC4 | PC5 | PC6 | PC7 | PC8 | PC9 | PC10 | \n",
       "|---|---|---|---|---|---|\n",
       "| 10422.17.F.10 | -0.05976827   | 0.02645879    | 0.01189369    | -0.04547830   |  0.01172535   | -0.081545470  |  0.05848336   | -0.054970208  | -0.072858399  |  0.007478379  | \n",
       "| 10422.17.F.11 | -0.06582195   | 0.03003458    | 0.04061219    | -0.08585809   |  0.09319215   | -0.064036326  |  0.04895493   |  0.009016226  | -0.031530171  |  0.029190749  | \n",
       "| 10422.17.F.12 | -0.08377180   | 0.03660798    | 0.03076735    | -0.06438793   |  0.09441188   | -0.016211537  |  0.05954417   |  0.004364525  | -0.028682820  |  0.032081034  | \n",
       "| 10422.17.F.13 | -0.08596504   | 0.07530612    | 0.03375580    | -0.08652844   |  0.09139416   | -0.007040922  | -0.04702710   |  0.003740529  |  0.005535416  |  0.034974764  | \n",
       "| 10422.17.F.3  | -0.08772823   | 0.05638292    | 0.07824703    | -0.08641231   | -0.06389593   | -0.074539220  |  0.05786154   | -0.039576721  | -0.027889781  | -0.024444281  | \n",
       "| 10422.17.F.4  | -0.09195258   | 0.05062091    | 0.07417381    | -0.08887333   | -0.02018471   | -0.035864497  |  0.08128657   | -0.042169148  | -0.023215416  |  0.024866731  | \n",
       "\n",
       "\n"
      ],
      "text/plain": [
       "  X.SampleID    PC1         PC2        PC3        PC4         PC5        \n",
       "1 10422.17.F.10 -0.05976827 0.02645879 0.01189369 -0.04547830  0.01172535\n",
       "2 10422.17.F.11 -0.06582195 0.03003458 0.04061219 -0.08585809  0.09319215\n",
       "3 10422.17.F.12 -0.08377180 0.03660798 0.03076735 -0.06438793  0.09441188\n",
       "4 10422.17.F.13 -0.08596504 0.07530612 0.03375580 -0.08652844  0.09139416\n",
       "5 10422.17.F.3  -0.08772823 0.05638292 0.07824703 -0.08641231 -0.06389593\n",
       "6 10422.17.F.4  -0.09195258 0.05062091 0.07417381 -0.08887333 -0.02018471\n",
       "  PC6          PC7         PC8          PC9          PC10        \n",
       "1 -0.081545470  0.05848336 -0.054970208 -0.072858399  0.007478379\n",
       "2 -0.064036326  0.04895493  0.009016226 -0.031530171  0.029190749\n",
       "3 -0.016211537  0.05954417  0.004364525 -0.028682820  0.032081034\n",
       "4 -0.007040922 -0.04702710  0.003740529  0.005535416  0.034974764\n",
       "5 -0.074539220  0.05786154 -0.039576721 -0.027889781 -0.024444281\n",
       "6 -0.035864497  0.08128657 -0.042169148 -0.023215416  0.024866731"
      ]
     },
     "metadata": {},
     "output_type": "display_data"
    }
   ],
   "source": [
    "pc_10 = pc[, 1:11]\n",
    "colnames(pc_10) = c('X.SampleID', 'PC1', 'PC2', 'PC3', 'PC4', 'PC5', 'PC6', 'PC7', 'PC8', 'PC9', 'PC10')\n",
    "dim(pc_10)\n",
    "head(pc_10)"
   ]
  },
  {
   "cell_type": "code",
   "execution_count": 7,
   "metadata": {},
   "outputs": [
    {
     "data": {
      "text/html": [
       "<ol class=list-inline>\n",
       "\t<li>182</li>\n",
       "\t<li>80</li>\n",
       "</ol>\n"
      ],
      "text/latex": [
       "\\begin{enumerate*}\n",
       "\\item 182\n",
       "\\item 80\n",
       "\\end{enumerate*}\n"
      ],
      "text/markdown": [
       "1. 182\n",
       "2. 80\n",
       "\n",
       "\n"
      ],
      "text/plain": [
       "[1] 182  80"
      ]
     },
     "metadata": {},
     "output_type": "display_data"
    }
   ],
   "source": [
    "dat = merge(mf, pc_10, by = \"X.SampleID\") \n",
    "dim(dat)"
   ]
  },
  {
   "cell_type": "code",
   "execution_count": 8,
   "metadata": {},
   "outputs": [
    {
     "data": {
      "text/html": [
       "<table>\n",
       "<thead><tr><th scope=col>X.SampleID</th><th scope=col>BarcodeSequence</th><th scope=col>LinkerPrimerSequence</th><th scope=col>center_name</th><th scope=col>experiment_design_description</th><th scope=col>extraction_robot</th><th scope=col>extractionkit_lot</th><th scope=col>instrument_model</th><th scope=col>library_construction_protocol</th><th scope=col>linker</th><th scope=col>⋯</th><th scope=col>PC1</th><th scope=col>PC2</th><th scope=col>PC3</th><th scope=col>PC4</th><th scope=col>PC5</th><th scope=col>PC6</th><th scope=col>PC7</th><th scope=col>PC8</th><th scope=col>PC9</th><th scope=col>PC10</th></tr></thead>\n",
       "<tbody>\n",
       "\t<tr><td>10422.17.F.10                                                                                 </td><td>GTTGTTCTGGGA                                                                                  </td><td>GTGTGCCAGCMGCCGCGGTAA                                                                         </td><td>UCSDMI                                                                                        </td><td>Mouse cohort exposed to apnea and controls to assess the effect on the gut microbiome in mice.</td><td>HOWE_KF1                                                                                      </td><td>PM16B24                                                                                       </td><td>Illumina HiSeq 2500                                                                           </td><td>EMP 16S V4 protocol 515fbc, 806r                                                              </td><td>GT                                                                                            </td><td>⋯                                                                                             </td><td>-0.05976827                                                                                   </td><td>0.02645879                                                                                    </td><td>0.01189369                                                                                    </td><td>-0.04547830                                                                                   </td><td> 0.01172535                                                                                   </td><td>-0.081545470                                                                                  </td><td> 0.05848336                                                                                   </td><td>-0.054970208                                                                                  </td><td>-0.072858399                                                                                  </td><td> 0.007478379                                                                                  </td></tr>\n",
       "\t<tr><td>10422.17.F.11                                                                                 </td><td>TGTGCTTGTAGG                                                                                  </td><td>GTGTGCCAGCMGCCGCGGTAA                                                                         </td><td>UCSDMI                                                                                        </td><td>Mouse cohort exposed to apnea and controls to assess the effect on the gut microbiome in mice.</td><td>HOWE_KF2                                                                                      </td><td>PM16B24                                                                                       </td><td>Illumina HiSeq 2500                                                                           </td><td>EMP 16S V4 protocol 515fbc, 806r                                                              </td><td>GT                                                                                            </td><td>⋯                                                                                             </td><td>-0.06582195                                                                                   </td><td>0.03003458                                                                                    </td><td>0.04061219                                                                                    </td><td>-0.08585809                                                                                   </td><td> 0.09319215                                                                                   </td><td>-0.064036326                                                                                  </td><td> 0.04895493                                                                                   </td><td> 0.009016226                                                                                  </td><td>-0.031530171                                                                                  </td><td> 0.029190749                                                                                  </td></tr>\n",
       "\t<tr><td>10422.17.F.12                                                                                 </td><td>AGAATCCACCAC                                                                                  </td><td>GTGTGCCAGCMGCCGCGGTAA                                                                         </td><td>UCSDMI                                                                                        </td><td>Mouse cohort exposed to apnea and controls to assess the effect on the gut microbiome in mice.</td><td>HOWE_KF1                                                                                      </td><td>PM16B24                                                                                       </td><td>Illumina HiSeq 2500                                                                           </td><td>EMP 16S V4 protocol 515fbc, 806r                                                              </td><td>GT                                                                                            </td><td>⋯                                                                                             </td><td>-0.08377180                                                                                   </td><td>0.03660798                                                                                    </td><td>0.03076735                                                                                    </td><td>-0.06438793                                                                                   </td><td> 0.09441188                                                                                   </td><td>-0.016211537                                                                                  </td><td> 0.05954417                                                                                   </td><td> 0.004364525                                                                                  </td><td>-0.028682820                                                                                  </td><td> 0.032081034                                                                                  </td></tr>\n",
       "\t<tr><td>10422.17.F.13                                                                                 </td><td>CTGTAAAGGTTG                                                                                  </td><td>GTGTGCCAGCMGCCGCGGTAA                                                                         </td><td>UCSDMI                                                                                        </td><td>Mouse cohort exposed to apnea and controls to assess the effect on the gut microbiome in mice.</td><td>HOWE_KF2                                                                                      </td><td>PM16B24                                                                                       </td><td>Illumina HiSeq 2500                                                                           </td><td>EMP 16S V4 protocol 515fbc, 806r                                                              </td><td>GT                                                                                            </td><td>⋯                                                                                             </td><td>-0.08596504                                                                                   </td><td>0.07530612                                                                                    </td><td>0.03375580                                                                                    </td><td>-0.08652844                                                                                   </td><td> 0.09139416                                                                                   </td><td>-0.007040922                                                                                  </td><td>-0.04702710                                                                                   </td><td> 0.003740529                                                                                  </td><td> 0.005535416                                                                                  </td><td> 0.034974764                                                                                  </td></tr>\n",
       "\t<tr><td>10422.17.F.3                                                                                  </td><td>CTCCCGAGCTCC                                                                                  </td><td>GTGTGCCAGCMGCCGCGGTAA                                                                         </td><td>UCSDMI                                                                                        </td><td>Mouse cohort exposed to apnea and controls to assess the effect on the gut microbiome in mice.</td><td>HOWE_KF2                                                                                      </td><td>PM16B24                                                                                       </td><td>Illumina HiSeq 2500                                                                           </td><td>EMP 16S V4 protocol 515fbc, 806r                                                              </td><td>GT                                                                                            </td><td>⋯                                                                                             </td><td>-0.08772823                                                                                   </td><td>0.05638292                                                                                    </td><td>0.07824703                                                                                    </td><td>-0.08641231                                                                                   </td><td>-0.06389593                                                                                   </td><td>-0.074539220                                                                                  </td><td> 0.05786154                                                                                   </td><td>-0.039576721                                                                                  </td><td>-0.027889781                                                                                  </td><td>-0.024444281                                                                                  </td></tr>\n",
       "\t<tr><td>10422.17.F.4                                                                                  </td><td>GGTCTTAGCACC                                                                                  </td><td>GTGTGCCAGCMGCCGCGGTAA                                                                         </td><td>UCSDMI                                                                                        </td><td>Mouse cohort exposed to apnea and controls to assess the effect on the gut microbiome in mice.</td><td>HOWE_KF2                                                                                      </td><td>PM16B24                                                                                       </td><td>Illumina HiSeq 2500                                                                           </td><td>EMP 16S V4 protocol 515fbc, 806r                                                              </td><td>GT                                                                                            </td><td>⋯                                                                                             </td><td>-0.09195258                                                                                   </td><td>0.05062091                                                                                    </td><td>0.07417381                                                                                    </td><td>-0.08887333                                                                                   </td><td>-0.02018471                                                                                   </td><td>-0.035864497                                                                                  </td><td> 0.08128657                                                                                   </td><td>-0.042169148                                                                                  </td><td>-0.023215416                                                                                  </td><td> 0.024866731                                                                                  </td></tr>\n",
       "</tbody>\n",
       "</table>\n"
      ],
      "text/latex": [
       "\\begin{tabular}{r|llllllllllllllllllllllllllllllllllllllllllllllllllllllllllllllllllllllllllllllll}\n",
       " X.SampleID & BarcodeSequence & LinkerPrimerSequence & center\\_name & experiment\\_design\\_description & extraction\\_robot & extractionkit\\_lot & instrument\\_model & library\\_construction\\_protocol & linker & ⋯ & PC1 & PC2 & PC3 & PC4 & PC5 & PC6 & PC7 & PC8 & PC9 & PC10\\\\\n",
       "\\hline\n",
       "\t 10422.17.F.10                                                                                  & GTTGTTCTGGGA                                                                                   & GTGTGCCAGCMGCCGCGGTAA                                                                          & UCSDMI                                                                                         & Mouse cohort exposed to apnea and controls to assess the effect on the gut microbiome in mice. & HOWE\\_KF1                                                                                     & PM16B24                                                                                        & Illumina HiSeq 2500                                                                            & EMP 16S V4 protocol 515fbc, 806r                                                               & GT                                                                                             & ⋯                                                                                              & -0.05976827                                                                                    & 0.02645879                                                                                     & 0.01189369                                                                                     & -0.04547830                                                                                    &  0.01172535                                                                                    & -0.081545470                                                                                   &  0.05848336                                                                                    & -0.054970208                                                                                   & -0.072858399                                                                                   &  0.007478379                                                                                  \\\\\n",
       "\t 10422.17.F.11                                                                                  & TGTGCTTGTAGG                                                                                   & GTGTGCCAGCMGCCGCGGTAA                                                                          & UCSDMI                                                                                         & Mouse cohort exposed to apnea and controls to assess the effect on the gut microbiome in mice. & HOWE\\_KF2                                                                                     & PM16B24                                                                                        & Illumina HiSeq 2500                                                                            & EMP 16S V4 protocol 515fbc, 806r                                                               & GT                                                                                             & ⋯                                                                                              & -0.06582195                                                                                    & 0.03003458                                                                                     & 0.04061219                                                                                     & -0.08585809                                                                                    &  0.09319215                                                                                    & -0.064036326                                                                                   &  0.04895493                                                                                    &  0.009016226                                                                                   & -0.031530171                                                                                   &  0.029190749                                                                                  \\\\\n",
       "\t 10422.17.F.12                                                                                  & AGAATCCACCAC                                                                                   & GTGTGCCAGCMGCCGCGGTAA                                                                          & UCSDMI                                                                                         & Mouse cohort exposed to apnea and controls to assess the effect on the gut microbiome in mice. & HOWE\\_KF1                                                                                     & PM16B24                                                                                        & Illumina HiSeq 2500                                                                            & EMP 16S V4 protocol 515fbc, 806r                                                               & GT                                                                                             & ⋯                                                                                              & -0.08377180                                                                                    & 0.03660798                                                                                     & 0.03076735                                                                                     & -0.06438793                                                                                    &  0.09441188                                                                                    & -0.016211537                                                                                   &  0.05954417                                                                                    &  0.004364525                                                                                   & -0.028682820                                                                                   &  0.032081034                                                                                  \\\\\n",
       "\t 10422.17.F.13                                                                                  & CTGTAAAGGTTG                                                                                   & GTGTGCCAGCMGCCGCGGTAA                                                                          & UCSDMI                                                                                         & Mouse cohort exposed to apnea and controls to assess the effect on the gut microbiome in mice. & HOWE\\_KF2                                                                                     & PM16B24                                                                                        & Illumina HiSeq 2500                                                                            & EMP 16S V4 protocol 515fbc, 806r                                                               & GT                                                                                             & ⋯                                                                                              & -0.08596504                                                                                    & 0.07530612                                                                                     & 0.03375580                                                                                     & -0.08652844                                                                                    &  0.09139416                                                                                    & -0.007040922                                                                                   & -0.04702710                                                                                    &  0.003740529                                                                                   &  0.005535416                                                                                   &  0.034974764                                                                                  \\\\\n",
       "\t 10422.17.F.3                                                                                   & CTCCCGAGCTCC                                                                                   & GTGTGCCAGCMGCCGCGGTAA                                                                          & UCSDMI                                                                                         & Mouse cohort exposed to apnea and controls to assess the effect on the gut microbiome in mice. & HOWE\\_KF2                                                                                     & PM16B24                                                                                        & Illumina HiSeq 2500                                                                            & EMP 16S V4 protocol 515fbc, 806r                                                               & GT                                                                                             & ⋯                                                                                              & -0.08772823                                                                                    & 0.05638292                                                                                     & 0.07824703                                                                                     & -0.08641231                                                                                    & -0.06389593                                                                                    & -0.074539220                                                                                   &  0.05786154                                                                                    & -0.039576721                                                                                   & -0.027889781                                                                                   & -0.024444281                                                                                  \\\\\n",
       "\t 10422.17.F.4                                                                                   & GGTCTTAGCACC                                                                                   & GTGTGCCAGCMGCCGCGGTAA                                                                          & UCSDMI                                                                                         & Mouse cohort exposed to apnea and controls to assess the effect on the gut microbiome in mice. & HOWE\\_KF2                                                                                     & PM16B24                                                                                        & Illumina HiSeq 2500                                                                            & EMP 16S V4 protocol 515fbc, 806r                                                               & GT                                                                                             & ⋯                                                                                              & -0.09195258                                                                                    & 0.05062091                                                                                     & 0.07417381                                                                                     & -0.08887333                                                                                    & -0.02018471                                                                                    & -0.035864497                                                                                   &  0.08128657                                                                                    & -0.042169148                                                                                   & -0.023215416                                                                                   &  0.024866731                                                                                  \\\\\n",
       "\\end{tabular}\n"
      ],
      "text/markdown": [
       "\n",
       "X.SampleID | BarcodeSequence | LinkerPrimerSequence | center_name | experiment_design_description | extraction_robot | extractionkit_lot | instrument_model | library_construction_protocol | linker | ⋯ | PC1 | PC2 | PC3 | PC4 | PC5 | PC6 | PC7 | PC8 | PC9 | PC10 | \n",
       "|---|---|---|---|---|---|\n",
       "| 10422.17.F.10                                                                                  | GTTGTTCTGGGA                                                                                   | GTGTGCCAGCMGCCGCGGTAA                                                                          | UCSDMI                                                                                         | Mouse cohort exposed to apnea and controls to assess the effect on the gut microbiome in mice. | HOWE_KF1                                                                                       | PM16B24                                                                                        | Illumina HiSeq 2500                                                                            | EMP 16S V4 protocol 515fbc, 806r                                                               | GT                                                                                             | ⋯                                                                                              | -0.05976827                                                                                    | 0.02645879                                                                                     | 0.01189369                                                                                     | -0.04547830                                                                                    |  0.01172535                                                                                    | -0.081545470                                                                                   |  0.05848336                                                                                    | -0.054970208                                                                                   | -0.072858399                                                                                   |  0.007478379                                                                                   | \n",
       "| 10422.17.F.11                                                                                  | TGTGCTTGTAGG                                                                                   | GTGTGCCAGCMGCCGCGGTAA                                                                          | UCSDMI                                                                                         | Mouse cohort exposed to apnea and controls to assess the effect on the gut microbiome in mice. | HOWE_KF2                                                                                       | PM16B24                                                                                        | Illumina HiSeq 2500                                                                            | EMP 16S V4 protocol 515fbc, 806r                                                               | GT                                                                                             | ⋯                                                                                              | -0.06582195                                                                                    | 0.03003458                                                                                     | 0.04061219                                                                                     | -0.08585809                                                                                    |  0.09319215                                                                                    | -0.064036326                                                                                   |  0.04895493                                                                                    |  0.009016226                                                                                   | -0.031530171                                                                                   |  0.029190749                                                                                   | \n",
       "| 10422.17.F.12                                                                                  | AGAATCCACCAC                                                                                   | GTGTGCCAGCMGCCGCGGTAA                                                                          | UCSDMI                                                                                         | Mouse cohort exposed to apnea and controls to assess the effect on the gut microbiome in mice. | HOWE_KF1                                                                                       | PM16B24                                                                                        | Illumina HiSeq 2500                                                                            | EMP 16S V4 protocol 515fbc, 806r                                                               | GT                                                                                             | ⋯                                                                                              | -0.08377180                                                                                    | 0.03660798                                                                                     | 0.03076735                                                                                     | -0.06438793                                                                                    |  0.09441188                                                                                    | -0.016211537                                                                                   |  0.05954417                                                                                    |  0.004364525                                                                                   | -0.028682820                                                                                   |  0.032081034                                                                                   | \n",
       "| 10422.17.F.13                                                                                  | CTGTAAAGGTTG                                                                                   | GTGTGCCAGCMGCCGCGGTAA                                                                          | UCSDMI                                                                                         | Mouse cohort exposed to apnea and controls to assess the effect on the gut microbiome in mice. | HOWE_KF2                                                                                       | PM16B24                                                                                        | Illumina HiSeq 2500                                                                            | EMP 16S V4 protocol 515fbc, 806r                                                               | GT                                                                                             | ⋯                                                                                              | -0.08596504                                                                                    | 0.07530612                                                                                     | 0.03375580                                                                                     | -0.08652844                                                                                    |  0.09139416                                                                                    | -0.007040922                                                                                   | -0.04702710                                                                                    |  0.003740529                                                                                   |  0.005535416                                                                                   |  0.034974764                                                                                   | \n",
       "| 10422.17.F.3                                                                                   | CTCCCGAGCTCC                                                                                   | GTGTGCCAGCMGCCGCGGTAA                                                                          | UCSDMI                                                                                         | Mouse cohort exposed to apnea and controls to assess the effect on the gut microbiome in mice. | HOWE_KF2                                                                                       | PM16B24                                                                                        | Illumina HiSeq 2500                                                                            | EMP 16S V4 protocol 515fbc, 806r                                                               | GT                                                                                             | ⋯                                                                                              | -0.08772823                                                                                    | 0.05638292                                                                                     | 0.07824703                                                                                     | -0.08641231                                                                                    | -0.06389593                                                                                    | -0.074539220                                                                                   |  0.05786154                                                                                    | -0.039576721                                                                                   | -0.027889781                                                                                   | -0.024444281                                                                                   | \n",
       "| 10422.17.F.4                                                                                   | GGTCTTAGCACC                                                                                   | GTGTGCCAGCMGCCGCGGTAA                                                                          | UCSDMI                                                                                         | Mouse cohort exposed to apnea and controls to assess the effect on the gut microbiome in mice. | HOWE_KF2                                                                                       | PM16B24                                                                                        | Illumina HiSeq 2500                                                                            | EMP 16S V4 protocol 515fbc, 806r                                                               | GT                                                                                             | ⋯                                                                                              | -0.09195258                                                                                    | 0.05062091                                                                                     | 0.07417381                                                                                     | -0.08887333                                                                                    | -0.02018471                                                                                    | -0.035864497                                                                                   |  0.08128657                                                                                    | -0.042169148                                                                                   | -0.023215416                                                                                   |  0.024866731                                                                                   | \n",
       "\n",
       "\n"
      ],
      "text/plain": [
       "  X.SampleID    BarcodeSequence LinkerPrimerSequence  center_name\n",
       "1 10422.17.F.10 GTTGTTCTGGGA    GTGTGCCAGCMGCCGCGGTAA UCSDMI     \n",
       "2 10422.17.F.11 TGTGCTTGTAGG    GTGTGCCAGCMGCCGCGGTAA UCSDMI     \n",
       "3 10422.17.F.12 AGAATCCACCAC    GTGTGCCAGCMGCCGCGGTAA UCSDMI     \n",
       "4 10422.17.F.13 CTGTAAAGGTTG    GTGTGCCAGCMGCCGCGGTAA UCSDMI     \n",
       "5 10422.17.F.3  CTCCCGAGCTCC    GTGTGCCAGCMGCCGCGGTAA UCSDMI     \n",
       "6 10422.17.F.4  GGTCTTAGCACC    GTGTGCCAGCMGCCGCGGTAA UCSDMI     \n",
       "  experiment_design_description                                                                 \n",
       "1 Mouse cohort exposed to apnea and controls to assess the effect on the gut microbiome in mice.\n",
       "2 Mouse cohort exposed to apnea and controls to assess the effect on the gut microbiome in mice.\n",
       "3 Mouse cohort exposed to apnea and controls to assess the effect on the gut microbiome in mice.\n",
       "4 Mouse cohort exposed to apnea and controls to assess the effect on the gut microbiome in mice.\n",
       "5 Mouse cohort exposed to apnea and controls to assess the effect on the gut microbiome in mice.\n",
       "6 Mouse cohort exposed to apnea and controls to assess the effect on the gut microbiome in mice.\n",
       "  extraction_robot extractionkit_lot instrument_model   \n",
       "1 HOWE_KF1         PM16B24           Illumina HiSeq 2500\n",
       "2 HOWE_KF2         PM16B24           Illumina HiSeq 2500\n",
       "3 HOWE_KF1         PM16B24           Illumina HiSeq 2500\n",
       "4 HOWE_KF2         PM16B24           Illumina HiSeq 2500\n",
       "5 HOWE_KF2         PM16B24           Illumina HiSeq 2500\n",
       "6 HOWE_KF2         PM16B24           Illumina HiSeq 2500\n",
       "  library_construction_protocol    linker ⋯ PC1         PC2        PC3       \n",
       "1 EMP 16S V4 protocol 515fbc, 806r GT     ⋯ -0.05976827 0.02645879 0.01189369\n",
       "2 EMP 16S V4 protocol 515fbc, 806r GT     ⋯ -0.06582195 0.03003458 0.04061219\n",
       "3 EMP 16S V4 protocol 515fbc, 806r GT     ⋯ -0.08377180 0.03660798 0.03076735\n",
       "4 EMP 16S V4 protocol 515fbc, 806r GT     ⋯ -0.08596504 0.07530612 0.03375580\n",
       "5 EMP 16S V4 protocol 515fbc, 806r GT     ⋯ -0.08772823 0.05638292 0.07824703\n",
       "6 EMP 16S V4 protocol 515fbc, 806r GT     ⋯ -0.09195258 0.05062091 0.07417381\n",
       "  PC4         PC5         PC6          PC7         PC8          PC9         \n",
       "1 -0.04547830  0.01172535 -0.081545470  0.05848336 -0.054970208 -0.072858399\n",
       "2 -0.08585809  0.09319215 -0.064036326  0.04895493  0.009016226 -0.031530171\n",
       "3 -0.06438793  0.09441188 -0.016211537  0.05954417  0.004364525 -0.028682820\n",
       "4 -0.08652844  0.09139416 -0.007040922 -0.04702710  0.003740529  0.005535416\n",
       "5 -0.08641231 -0.06389593 -0.074539220  0.05786154 -0.039576721 -0.027889781\n",
       "6 -0.08887333 -0.02018471 -0.035864497  0.08128657 -0.042169148 -0.023215416\n",
       "  PC10        \n",
       "1  0.007478379\n",
       "2  0.029190749\n",
       "3  0.032081034\n",
       "4  0.034974764\n",
       "5 -0.024444281\n",
       "6  0.024866731"
      ]
     },
     "metadata": {},
     "output_type": "display_data"
    }
   ],
   "source": [
    "head(dat)"
   ]
  },
  {
   "cell_type": "code",
   "execution_count": 9,
   "metadata": {
    "collapsed": true
   },
   "outputs": [],
   "source": [
    "X = dat[, c('age', 'cage_number', 'exposure_type', 'weight')]\n",
    "Y = dat[, c('PC1', 'PC2', 'PC3', 'PC4', 'PC5', 'PC6', 'PC7', 'PC8', 'PC9', 'PC10')]"
   ]
  },
  {
   "cell_type": "code",
   "execution_count": 10,
   "metadata": {},
   "outputs": [
    {
     "data": {
      "text/html": [
       "<ol class=list-inline>\n",
       "\t<li>182</li>\n",
       "\t<li>4</li>\n",
       "</ol>\n"
      ],
      "text/latex": [
       "\\begin{enumerate*}\n",
       "\\item 182\n",
       "\\item 4\n",
       "\\end{enumerate*}\n"
      ],
      "text/markdown": [
       "1. 182\n",
       "2. 4\n",
       "\n",
       "\n"
      ],
      "text/plain": [
       "[1] 182   4"
      ]
     },
     "metadata": {},
     "output_type": "display_data"
    },
    {
     "data": {
      "text/html": [
       "<ol class=list-inline>\n",
       "\t<li>182</li>\n",
       "\t<li>10</li>\n",
       "</ol>\n"
      ],
      "text/latex": [
       "\\begin{enumerate*}\n",
       "\\item 182\n",
       "\\item 10\n",
       "\\end{enumerate*}\n"
      ],
      "text/markdown": [
       "1. 182\n",
       "2. 10\n",
       "\n",
       "\n"
      ],
      "text/plain": [
       "[1] 182  10"
      ]
     },
     "metadata": {},
     "output_type": "display_data"
    }
   ],
   "source": [
    "dim(X)\n",
    "dim(Y)"
   ]
  },
  {
   "cell_type": "code",
   "execution_count": 11,
   "metadata": {},
   "outputs": [
    {
     "data": {
      "text/plain": [
       "      age         cage_number    exposure_type     weight     \n",
       " Min.   :10.00   Min.   :5.000   Air:90        Min.   :22.10  \n",
       " 1st Qu.:12.00   1st Qu.:5.250   IHH:92        1st Qu.:25.40  \n",
       " Median :13.50   Median :6.000                 Median :26.50  \n",
       " Mean   :13.28   Mean   :6.495                 Mean   :26.60  \n",
       " 3rd Qu.:14.50   3rd Qu.:7.750                 3rd Qu.:27.88  \n",
       " Max.   :16.00   Max.   :8.000                 Max.   :32.60  "
      ]
     },
     "metadata": {},
     "output_type": "display_data"
    }
   ],
   "source": [
    "summary(X)"
   ]
  },
  {
   "cell_type": "markdown",
   "metadata": {},
   "source": [
    "## RDA analysis to calculate effect size"
   ]
  },
  {
   "cell_type": "code",
   "execution_count": 14,
   "metadata": {
    "collapsed": true
   },
   "outputs": [],
   "source": [
    "mod1 <- rda(Y ~ 1, X)  # Model with intercept only\n",
    "mod2 <- rda(Y ~ ., X)  # Model with all explanatory variables"
   ]
  },
  {
   "cell_type": "code",
   "execution_count": 15,
   "metadata": {},
   "outputs": [
    {
     "name": "stdout",
     "output_type": "stream",
     "text": [
      "Step: R2.adj= 0 \n",
      "Call: Y ~ 1 \n",
      " \n",
      "                R2.adjusted\n",
      "<All variables>  0.29271674\n",
      "+ exposure_type  0.11596935\n",
      "+ cage_number    0.09760473\n",
      "+ age            0.08244343\n",
      "+ weight         0.06921500\n",
      "<none>           0.00000000\n",
      "\n",
      "                Df     AIC      F Pr(>F)   \n",
      "+ exposure_type  1 -519.27 24.744  0.002 **\n",
      "---\n",
      "Signif. codes:  0 ‘***’ 0.001 ‘**’ 0.01 ‘*’ 0.05 ‘.’ 0.1 ‘ ’ 1\n",
      "\n",
      "Step: R2.adj= 0.1159693 \n",
      "Call: Y ~ exposure_type \n",
      " \n",
      "                R2.adjusted\n",
      "<All variables>   0.2927167\n",
      "+ cage_number     0.2045359\n",
      "+ age             0.1994344\n",
      "+ weight          0.1655510\n",
      "<none>            0.1159693\n",
      "\n",
      "              Df    AIC      F Pr(>F)   \n",
      "+ cage_number  1 -537.5 21.041  0.002 **\n",
      "---\n",
      "Signif. codes:  0 ‘***’ 0.001 ‘**’ 0.01 ‘*’ 0.05 ‘.’ 0.1 ‘ ’ 1\n",
      "\n",
      "Step: R2.adj= 0.2045359 \n",
      "Call: Y ~ exposure_type + cage_number \n",
      " \n",
      "                R2.adjusted\n",
      "<All variables>   0.2927167\n",
      "+ age             0.2877463\n",
      "+ weight          0.2550476\n",
      "<none>            0.2045359\n",
      "\n",
      "      Df     AIC      F Pr(>F)   \n",
      "+ age  1 -556.63 21.912  0.002 **\n",
      "---\n",
      "Signif. codes:  0 ‘***’ 0.001 ‘**’ 0.01 ‘*’ 0.05 ‘.’ 0.1 ‘ ’ 1\n",
      "\n",
      "Step: R2.adj= 0.2877463 \n",
      "Call: Y ~ exposure_type + cage_number + age \n",
      " \n",
      "                R2.adjusted\n",
      "<All variables>   0.2927167\n",
      "+ weight          0.2927167\n",
      "<none>            0.2877463\n",
      "\n",
      "         Df     AIC      F Pr(>F)  \n",
      "+ weight  1 -556.93 2.2509  0.052 .\n",
      "---\n",
      "Signif. codes:  0 ‘***’ 0.001 ‘**’ 0.01 ‘*’ 0.05 ‘.’ 0.1 ‘ ’ 1\n",
      "\n"
     ]
    }
   ],
   "source": [
    "mdl <- ordiR2step(mod1, mod2, perm.max = 1000)"
   ]
  },
  {
   "cell_type": "markdown",
   "metadata": {},
   "source": [
    "## Output Result"
   ]
  },
  {
   "cell_type": "code",
   "execution_count": 17,
   "metadata": {},
   "outputs": [
    {
     "data": {
      "text/html": [
       "<table>\n",
       "<thead><tr><th></th><th scope=col>R2.adj</th><th scope=col>Df</th><th scope=col>AIC</th><th scope=col>F</th><th scope=col>Pr(&gt;F)</th></tr></thead>\n",
       "<tbody>\n",
       "\t<tr><th scope=row>+ exposure_type</th><td>0.1159693</td><td> 1       </td><td>-519.2703</td><td>24.74403 </td><td>0.002    </td></tr>\n",
       "\t<tr><th scope=row>+ cage_number</th><td>0.2045359</td><td> 1       </td><td>-537.4973</td><td>21.04111 </td><td>0.002    </td></tr>\n",
       "\t<tr><th scope=row>&lt;All variables&gt;</th><td>0.2045359</td><td>NA       </td><td>       NA</td><td>      NA </td><td>   NA    </td></tr>\n",
       "</tbody>\n",
       "</table>\n"
      ],
      "text/latex": [
       "\\begin{tabular}{r|lllll}\n",
       "  & R2.adj & Df & AIC & F & Pr(>F)\\\\\n",
       "\\hline\n",
       "\t+ exposure\\_type & 0.1159693 &  1        & -519.2703 & 24.74403  & 0.002    \\\\\n",
       "\t+ cage\\_number & 0.2045359 &  1        & -537.4973 & 21.04111  & 0.002    \\\\\n",
       "\t<All variables> & 0.2045359 & NA        &        NA &       NA  &    NA    \\\\\n",
       "\\end{tabular}\n"
      ],
      "text/markdown": [
       "\n",
       "| <!--/--> | R2.adj | Df | AIC | F | Pr(>F) | \n",
       "|---|---|---|\n",
       "| + exposure_type | 0.1159693 |  1        | -519.2703 | 24.74403  | 0.002     | \n",
       "| + cage_number | 0.2045359 |  1        | -537.4973 | 21.04111  | 0.002     | \n",
       "| <All variables> | 0.2045359 | NA        |        NA |       NA  |    NA     | \n",
       "\n",
       "\n"
      ],
      "text/plain": [
       "                R2.adj    Df AIC       F        Pr(>F)\n",
       "+ exposure_type 0.1159693  1 -519.2703 24.74403 0.002 \n",
       "+ cage_number   0.2045359  1 -537.4973 21.04111 0.002 \n",
       "<All variables> 0.2045359 NA        NA       NA    NA "
      ]
     },
     "metadata": {},
     "output_type": "display_data"
    }
   ],
   "source": [
    "table = mdl$anova\n",
    "table"
   ]
  },
  {
   "cell_type": "code",
   "execution_count": null,
   "metadata": {
    "collapsed": true
   },
   "outputs": [],
   "source": [
    "                R2.adjusted\n",
    "<All variables>  0.29271674\n",
    "+ exposure_type  0.11596935\n",
    "+ cage_number    0.09760473\n",
    "+ age            0.08244343\n",
    "+ weight         0.06921500\n",
    "<none>           0.00000000"
   ]
  },
  {
   "cell_type": "code",
   "execution_count": 38,
   "metadata": {},
   "outputs": [
    {
     "data": {
      "text/html": [
       "<table>\n",
       "<thead><tr><th></th><th scope=col>R2.adj</th><th scope=col>Df</th><th scope=col>AIC</th><th scope=col>F</th><th scope=col>Pr(&gt;F)</th><th scope=col>ES.independent</th><th scope=col>ES.RDA</th></tr></thead>\n",
       "<tbody>\n",
       "\t<tr><th scope=row>+ exposure_type</th><td>0.1159693  </td><td> 1         </td><td>-519.2703  </td><td>24.74403   </td><td>0.002      </td><td>0.11596935 </td><td>0.115969347</td></tr>\n",
       "\t<tr><th scope=row>+ cage_number</th><td>0.2045359  </td><td> 1         </td><td>-537.4973  </td><td>21.04111   </td><td>0.002      </td><td>0.09760473 </td><td>0.088566554</td></tr>\n",
       "\t<tr><th scope=row>+ age</th><td>0.2877463  </td><td> 1         </td><td>-556.6263  </td><td>21.91202   </td><td>0.002      </td><td>0.08244343 </td><td>0.083210398</td></tr>\n",
       "\t<tr><th scope=row>&lt;All variables&gt;</th><td>0.2927167  </td><td>NA         </td><td>       NA  </td><td>      NA   </td><td>   NA      </td><td>0.29271674 </td><td>0.004970444</td></tr>\n",
       "</tbody>\n",
       "</table>\n"
      ],
      "text/latex": [
       "\\begin{tabular}{r|lllllll}\n",
       "  & R2.adj & Df & AIC & F & Pr(>F) & ES.independent & ES.RDA\\\\\n",
       "\\hline\n",
       "\t+ exposure\\_type & 0.1159693   &  1          & -519.2703   & 24.74403    & 0.002       & 0.11596935  & 0.115969347\\\\\n",
       "\t+ cage\\_number & 0.2045359   &  1          & -537.4973   & 21.04111    & 0.002       & 0.09760473  & 0.088566554\\\\\n",
       "\t+ age & 0.2877463   &  1          & -556.6263   & 21.91202    & 0.002       & 0.08244343  & 0.083210398\\\\\n",
       "\t<All variables> & 0.2927167   & NA          &        NA   &       NA    &    NA       & 0.29271674  & 0.004970444\\\\\n",
       "\\end{tabular}\n"
      ],
      "text/markdown": [
       "\n",
       "| <!--/--> | R2.adj | Df | AIC | F | Pr(>F) | ES.independent | ES.RDA | \n",
       "|---|---|---|---|\n",
       "| + exposure_type | 0.1159693   |  1          | -519.2703   | 24.74403    | 0.002       | 0.11596935  | 0.115969347 | \n",
       "| + cage_number | 0.2045359   |  1          | -537.4973   | 21.04111    | 0.002       | 0.09760473  | 0.088566554 | \n",
       "| + age | 0.2877463   |  1          | -556.6263   | 21.91202    | 0.002       | 0.08244343  | 0.083210398 | \n",
       "| <All variables> | 0.2927167   | NA          |        NA   |       NA    |    NA       | 0.29271674  | 0.004970444 | \n",
       "\n",
       "\n"
      ],
      "text/plain": [
       "                R2.adj    Df AIC       F        Pr(>F) ES.independent\n",
       "+ exposure_type 0.1159693  1 -519.2703 24.74403 0.002  0.11596935    \n",
       "+ cage_number   0.2045359  1 -537.4973 21.04111 0.002  0.09760473    \n",
       "+ age           0.2877463  1 -556.6263 21.91202 0.002  0.08244343    \n",
       "<All variables> 0.2927167 NA        NA       NA    NA  0.29271674    \n",
       "                ES.RDA     \n",
       "+ exposure_type 0.115969347\n",
       "+ cage_number   0.088566554\n",
       "+ age           0.083210398\n",
       "<All variables> 0.004970444"
      ]
     },
     "metadata": {},
     "output_type": "display_data"
    }
   ],
   "source": [
    "table$ES.independent = c(0.11596935, 0.09760473, 0.08244343, 0.29271674)\n",
    "table$ES.RDA = c(table$R2.adj[1], table$R2.adj[2]-table$R2.adj[1], \n",
    "                       table$R2.adj[3]-table$R2.adj[2], table$R2.adj[4]-table$R2.adj[3])\n",
    "table"
   ]
  },
  {
   "cell_type": "code",
   "execution_count": null,
   "metadata": {
    "collapsed": true
   },
   "outputs": [],
   "source": []
  }
 ],
 "metadata": {
  "kernelspec": {
   "display_name": "R",
   "language": "R",
   "name": "ir"
  },
  "language_info": {
   "codemirror_mode": "r",
   "file_extension": ".r",
   "mimetype": "text/x-r-source",
   "name": "R",
   "pygments_lexer": "r",
   "version": "3.2.4"
  }
 },
 "nbformat": 4,
 "nbformat_minor": 2
}
