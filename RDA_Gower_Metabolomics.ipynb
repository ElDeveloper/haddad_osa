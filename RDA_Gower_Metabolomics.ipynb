{
 "cells": [
  {
   "cell_type": "markdown",
   "metadata": {},
   "source": [
    "This notebook is to apply the Redundancy Analysis (RDA) to metabolomics data to compare the effect size for treatment and cage effects (reference: Falony, Science, 2016)."
   ]
  },
  {
   "cell_type": "code",
   "execution_count": 1,
   "metadata": {},
   "outputs": [
    {
     "name": "stderr",
     "output_type": "stream",
     "text": [
      "Warning message:\n",
      "“package ‘vegan’ was built under R version 3.2.5”Loading required package: permute\n",
      "Warning message:\n",
      "“package ‘permute’ was built under R version 3.2.5”Loading required package: lattice\n",
      "This is vegan 2.4-4\n"
     ]
    }
   ],
   "source": [
    "library(vegan)"
   ]
  },
  {
   "cell_type": "markdown",
   "metadata": {},
   "source": [
    "## Data Preparation for RDA Analysis"
   ]
  },
  {
   "cell_type": "code",
   "execution_count": 2,
   "metadata": {
    "collapsed": true
   },
   "outputs": [],
   "source": [
    "mf = read.csv('haddad_6week_metadata_matched_rare2k.txt', sep='\\t')"
   ]
  },
  {
   "cell_type": "code",
   "execution_count": 3,
   "metadata": {
    "collapsed": true
   },
   "outputs": [],
   "source": [
    "pc = read.csv('gower_pc.txt', header=FALSE, sep='\\t')"
   ]
  },
  {
   "cell_type": "code",
   "execution_count": 4,
   "metadata": {},
   "outputs": [
    {
     "data": {
      "text/html": [
       "<ol class=list-inline>\n",
       "\t<li>182</li>\n",
       "\t<li>70</li>\n",
       "</ol>\n"
      ],
      "text/latex": [
       "\\begin{enumerate*}\n",
       "\\item 182\n",
       "\\item 70\n",
       "\\end{enumerate*}\n"
      ],
      "text/markdown": [
       "1. 182\n",
       "2. 70\n",
       "\n",
       "\n"
      ],
      "text/plain": [
       "[1] 182  70"
      ]
     },
     "metadata": {},
     "output_type": "display_data"
    },
    {
     "data": {
      "text/html": [
       "<ol class=list-inline>\n",
       "\t<li>182</li>\n",
       "\t<li>183</li>\n",
       "</ol>\n"
      ],
      "text/latex": [
       "\\begin{enumerate*}\n",
       "\\item 182\n",
       "\\item 183\n",
       "\\end{enumerate*}\n"
      ],
      "text/markdown": [
       "1. 182\n",
       "2. 183\n",
       "\n",
       "\n"
      ],
      "text/plain": [
       "[1] 182 183"
      ]
     },
     "metadata": {},
     "output_type": "display_data"
    }
   ],
   "source": [
    "dim(mf)\n",
    "dim(pc)"
   ]
  },
  {
   "cell_type": "code",
   "execution_count": 5,
   "metadata": {},
   "outputs": [
    {
     "data": {
      "text/html": [
       "<table>\n",
       "<thead><tr><th scope=col>X.SampleID</th><th scope=col>BarcodeSequence</th><th scope=col>LinkerPrimerSequence</th><th scope=col>center_name</th><th scope=col>experiment_design_description</th><th scope=col>extraction_robot</th><th scope=col>extractionkit_lot</th><th scope=col>instrument_model</th><th scope=col>library_construction_protocol</th><th scope=col>linker</th><th scope=col>⋯</th><th scope=col>physical_specimen_location</th><th scope=col>physical_specimen_remaining</th><th scope=col>sample_type</th><th scope=col>scientific_name</th><th scope=col>sex</th><th scope=col>title</th><th scope=col>weekly_cage_food_consumption</th><th scope=col>weight</th><th scope=col>weight_units</th><th scope=col>Description</th></tr></thead>\n",
       "<tbody>\n",
       "\t<tr><td>10422.17.F.10                                                                                 </td><td>GTTGTTCTGGGA                                                                                  </td><td>GTGTGCCAGCMGCCGCGGTAA                                                                         </td><td>UCSDMI                                                                                        </td><td>Mouse cohort exposed to apnea and controls to assess the effect on the gut microbiome in mice.</td><td>HOWE_KF1                                                                                      </td><td>PM16B24                                                                                       </td><td>Illumina HiSeq 2500                                                                           </td><td>EMP 16S V4 protocol 515fbc, 806r                                                              </td><td>GT                                                                                            </td><td>⋯                                                                                             </td><td>UCSD LBR -80 freezer                                                                          </td><td>TRUE                                                                                          </td><td>stool                                                                                         </td><td>mouse gut metagenome                                                                          </td><td>male                                                                                          </td><td>OSA                                                                                           </td><td>Missing: Not provided                                                                         </td><td>25.6                                                                                          </td><td>g                                                                                             </td><td>feces mouse 17 collection 10 of 13                                                            </td></tr>\n",
       "\t<tr><td>10422.17.F.11                                                                                 </td><td>TGTGCTTGTAGG                                                                                  </td><td>GTGTGCCAGCMGCCGCGGTAA                                                                         </td><td>UCSDMI                                                                                        </td><td>Mouse cohort exposed to apnea and controls to assess the effect on the gut microbiome in mice.</td><td>HOWE_KF2                                                                                      </td><td>PM16B24                                                                                       </td><td>Illumina HiSeq 2500                                                                           </td><td>EMP 16S V4 protocol 515fbc, 806r                                                              </td><td>GT                                                                                            </td><td>⋯                                                                                             </td><td>UCSD LBR -80 freezer                                                                          </td><td>TRUE                                                                                          </td><td>stool                                                                                         </td><td>mouse gut metagenome                                                                          </td><td>male                                                                                          </td><td>OSA                                                                                           </td><td>71.8                                                                                          </td><td>25.2                                                                                          </td><td>g                                                                                             </td><td>feces mouse 17 collection 11 of 13                                                            </td></tr>\n",
       "\t<tr><td>10422.17.F.12                                                                                 </td><td>AGAATCCACCAC                                                                                  </td><td>GTGTGCCAGCMGCCGCGGTAA                                                                         </td><td>UCSDMI                                                                                        </td><td>Mouse cohort exposed to apnea and controls to assess the effect on the gut microbiome in mice.</td><td>HOWE_KF1                                                                                      </td><td>PM16B24                                                                                       </td><td>Illumina HiSeq 2500                                                                           </td><td>EMP 16S V4 protocol 515fbc, 806r                                                              </td><td>GT                                                                                            </td><td>⋯                                                                                             </td><td>UCSD LBR -80 freezer                                                                          </td><td>TRUE                                                                                          </td><td>stool                                                                                         </td><td>mouse gut metagenome                                                                          </td><td>male                                                                                          </td><td>OSA                                                                                           </td><td>Missing: Not provided                                                                         </td><td>25.7                                                                                          </td><td>g                                                                                             </td><td>feces mouse 17 collection 12 of 13                                                            </td></tr>\n",
       "\t<tr><td>10422.17.F.13                                                                                 </td><td>CTGTAAAGGTTG                                                                                  </td><td>GTGTGCCAGCMGCCGCGGTAA                                                                         </td><td>UCSDMI                                                                                        </td><td>Mouse cohort exposed to apnea and controls to assess the effect on the gut microbiome in mice.</td><td>HOWE_KF2                                                                                      </td><td>PM16B24                                                                                       </td><td>Illumina HiSeq 2500                                                                           </td><td>EMP 16S V4 protocol 515fbc, 806r                                                              </td><td>GT                                                                                            </td><td>⋯                                                                                             </td><td>UCSD LBR -80 freezer                                                                          </td><td>TRUE                                                                                          </td><td>stool                                                                                         </td><td>mouse gut metagenome                                                                          </td><td>male                                                                                          </td><td>OSA                                                                                           </td><td>71.7                                                                                          </td><td>26.3                                                                                          </td><td>g                                                                                             </td><td>final feces mouse 17 collection 13 of 13                                                      </td></tr>\n",
       "\t<tr><td>10422.17.F.3                                                                                  </td><td>CTCCCGAGCTCC                                                                                  </td><td>GTGTGCCAGCMGCCGCGGTAA                                                                         </td><td>UCSDMI                                                                                        </td><td>Mouse cohort exposed to apnea and controls to assess the effect on the gut microbiome in mice.</td><td>HOWE_KF2                                                                                      </td><td>PM16B24                                                                                       </td><td>Illumina HiSeq 2500                                                                           </td><td>EMP 16S V4 protocol 515fbc, 806r                                                              </td><td>GT                                                                                            </td><td>⋯                                                                                             </td><td>UCSD LBR -80 freezer                                                                          </td><td>TRUE                                                                                          </td><td>stool                                                                                         </td><td>mouse gut metagenome                                                                          </td><td>male                                                                                          </td><td>OSA                                                                                           </td><td>105.7                                                                                         </td><td>24.9                                                                                          </td><td>g                                                                                             </td><td>feces mouse 17 collection 3 of 13                                                             </td></tr>\n",
       "\t<tr><td>10422.17.F.4                                                                                  </td><td>GGTCTTAGCACC                                                                                  </td><td>GTGTGCCAGCMGCCGCGGTAA                                                                         </td><td>UCSDMI                                                                                        </td><td>Mouse cohort exposed to apnea and controls to assess the effect on the gut microbiome in mice.</td><td>HOWE_KF2                                                                                      </td><td>PM16B24                                                                                       </td><td>Illumina HiSeq 2500                                                                           </td><td>EMP 16S V4 protocol 515fbc, 806r                                                              </td><td>GT                                                                                            </td><td>⋯                                                                                             </td><td>UCSD LBR -80 freezer                                                                          </td><td>TRUE                                                                                          </td><td>stool                                                                                         </td><td>mouse gut metagenome                                                                          </td><td>male                                                                                          </td><td>OSA                                                                                           </td><td>Missing: Not provided                                                                         </td><td>24.0                                                                                          </td><td>g                                                                                             </td><td>feces mouse 17 collection 4 of 13                                                             </td></tr>\n",
       "</tbody>\n",
       "</table>\n"
      ],
      "text/latex": [
       "\\begin{tabular}{r|llllllllllllllllllllllllllllllllllllllllllllllllllllllllllllllllllllll}\n",
       " X.SampleID & BarcodeSequence & LinkerPrimerSequence & center\\_name & experiment\\_design\\_description & extraction\\_robot & extractionkit\\_lot & instrument\\_model & library\\_construction\\_protocol & linker & ⋯ & physical\\_specimen\\_location & physical\\_specimen\\_remaining & sample\\_type & scientific\\_name & sex & title & weekly\\_cage\\_food\\_consumption & weight & weight\\_units & Description\\\\\n",
       "\\hline\n",
       "\t 10422.17.F.10                                                                                  & GTTGTTCTGGGA                                                                                   & GTGTGCCAGCMGCCGCGGTAA                                                                          & UCSDMI                                                                                         & Mouse cohort exposed to apnea and controls to assess the effect on the gut microbiome in mice. & HOWE\\_KF1                                                                                     & PM16B24                                                                                        & Illumina HiSeq 2500                                                                            & EMP 16S V4 protocol 515fbc, 806r                                                               & GT                                                                                             & ⋯                                                                                              & UCSD LBR -80 freezer                                                                           & TRUE                                                                                           & stool                                                                                          & mouse gut metagenome                                                                           & male                                                                                           & OSA                                                                                            & Missing: Not provided                                                                          & 25.6                                                                                           & g                                                                                              & feces mouse 17 collection 10 of 13                                                            \\\\\n",
       "\t 10422.17.F.11                                                                                  & TGTGCTTGTAGG                                                                                   & GTGTGCCAGCMGCCGCGGTAA                                                                          & UCSDMI                                                                                         & Mouse cohort exposed to apnea and controls to assess the effect on the gut microbiome in mice. & HOWE\\_KF2                                                                                     & PM16B24                                                                                        & Illumina HiSeq 2500                                                                            & EMP 16S V4 protocol 515fbc, 806r                                                               & GT                                                                                             & ⋯                                                                                              & UCSD LBR -80 freezer                                                                           & TRUE                                                                                           & stool                                                                                          & mouse gut metagenome                                                                           & male                                                                                           & OSA                                                                                            & 71.8                                                                                           & 25.2                                                                                           & g                                                                                              & feces mouse 17 collection 11 of 13                                                            \\\\\n",
       "\t 10422.17.F.12                                                                                  & AGAATCCACCAC                                                                                   & GTGTGCCAGCMGCCGCGGTAA                                                                          & UCSDMI                                                                                         & Mouse cohort exposed to apnea and controls to assess the effect on the gut microbiome in mice. & HOWE\\_KF1                                                                                     & PM16B24                                                                                        & Illumina HiSeq 2500                                                                            & EMP 16S V4 protocol 515fbc, 806r                                                               & GT                                                                                             & ⋯                                                                                              & UCSD LBR -80 freezer                                                                           & TRUE                                                                                           & stool                                                                                          & mouse gut metagenome                                                                           & male                                                                                           & OSA                                                                                            & Missing: Not provided                                                                          & 25.7                                                                                           & g                                                                                              & feces mouse 17 collection 12 of 13                                                            \\\\\n",
       "\t 10422.17.F.13                                                                                  & CTGTAAAGGTTG                                                                                   & GTGTGCCAGCMGCCGCGGTAA                                                                          & UCSDMI                                                                                         & Mouse cohort exposed to apnea and controls to assess the effect on the gut microbiome in mice. & HOWE\\_KF2                                                                                     & PM16B24                                                                                        & Illumina HiSeq 2500                                                                            & EMP 16S V4 protocol 515fbc, 806r                                                               & GT                                                                                             & ⋯                                                                                              & UCSD LBR -80 freezer                                                                           & TRUE                                                                                           & stool                                                                                          & mouse gut metagenome                                                                           & male                                                                                           & OSA                                                                                            & 71.7                                                                                           & 26.3                                                                                           & g                                                                                              & final feces mouse 17 collection 13 of 13                                                      \\\\\n",
       "\t 10422.17.F.3                                                                                   & CTCCCGAGCTCC                                                                                   & GTGTGCCAGCMGCCGCGGTAA                                                                          & UCSDMI                                                                                         & Mouse cohort exposed to apnea and controls to assess the effect on the gut microbiome in mice. & HOWE\\_KF2                                                                                     & PM16B24                                                                                        & Illumina HiSeq 2500                                                                            & EMP 16S V4 protocol 515fbc, 806r                                                               & GT                                                                                             & ⋯                                                                                              & UCSD LBR -80 freezer                                                                           & TRUE                                                                                           & stool                                                                                          & mouse gut metagenome                                                                           & male                                                                                           & OSA                                                                                            & 105.7                                                                                          & 24.9                                                                                           & g                                                                                              & feces mouse 17 collection 3 of 13                                                             \\\\\n",
       "\t 10422.17.F.4                                                                                   & GGTCTTAGCACC                                                                                   & GTGTGCCAGCMGCCGCGGTAA                                                                          & UCSDMI                                                                                         & Mouse cohort exposed to apnea and controls to assess the effect on the gut microbiome in mice. & HOWE\\_KF2                                                                                     & PM16B24                                                                                        & Illumina HiSeq 2500                                                                            & EMP 16S V4 protocol 515fbc, 806r                                                               & GT                                                                                             & ⋯                                                                                              & UCSD LBR -80 freezer                                                                           & TRUE                                                                                           & stool                                                                                          & mouse gut metagenome                                                                           & male                                                                                           & OSA                                                                                            & Missing: Not provided                                                                          & 24.0                                                                                           & g                                                                                              & feces mouse 17 collection 4 of 13                                                             \\\\\n",
       "\\end{tabular}\n"
      ],
      "text/markdown": [
       "\n",
       "X.SampleID | BarcodeSequence | LinkerPrimerSequence | center_name | experiment_design_description | extraction_robot | extractionkit_lot | instrument_model | library_construction_protocol | linker | ⋯ | physical_specimen_location | physical_specimen_remaining | sample_type | scientific_name | sex | title | weekly_cage_food_consumption | weight | weight_units | Description | \n",
       "|---|---|---|---|---|---|\n",
       "| 10422.17.F.10                                                                                  | GTTGTTCTGGGA                                                                                   | GTGTGCCAGCMGCCGCGGTAA                                                                          | UCSDMI                                                                                         | Mouse cohort exposed to apnea and controls to assess the effect on the gut microbiome in mice. | HOWE_KF1                                                                                       | PM16B24                                                                                        | Illumina HiSeq 2500                                                                            | EMP 16S V4 protocol 515fbc, 806r                                                               | GT                                                                                             | ⋯                                                                                              | UCSD LBR -80 freezer                                                                           | TRUE                                                                                           | stool                                                                                          | mouse gut metagenome                                                                           | male                                                                                           | OSA                                                                                            | Missing: Not provided                                                                          | 25.6                                                                                           | g                                                                                              | feces mouse 17 collection 10 of 13                                                             | \n",
       "| 10422.17.F.11                                                                                  | TGTGCTTGTAGG                                                                                   | GTGTGCCAGCMGCCGCGGTAA                                                                          | UCSDMI                                                                                         | Mouse cohort exposed to apnea and controls to assess the effect on the gut microbiome in mice. | HOWE_KF2                                                                                       | PM16B24                                                                                        | Illumina HiSeq 2500                                                                            | EMP 16S V4 protocol 515fbc, 806r                                                               | GT                                                                                             | ⋯                                                                                              | UCSD LBR -80 freezer                                                                           | TRUE                                                                                           | stool                                                                                          | mouse gut metagenome                                                                           | male                                                                                           | OSA                                                                                            | 71.8                                                                                           | 25.2                                                                                           | g                                                                                              | feces mouse 17 collection 11 of 13                                                             | \n",
       "| 10422.17.F.12                                                                                  | AGAATCCACCAC                                                                                   | GTGTGCCAGCMGCCGCGGTAA                                                                          | UCSDMI                                                                                         | Mouse cohort exposed to apnea and controls to assess the effect on the gut microbiome in mice. | HOWE_KF1                                                                                       | PM16B24                                                                                        | Illumina HiSeq 2500                                                                            | EMP 16S V4 protocol 515fbc, 806r                                                               | GT                                                                                             | ⋯                                                                                              | UCSD LBR -80 freezer                                                                           | TRUE                                                                                           | stool                                                                                          | mouse gut metagenome                                                                           | male                                                                                           | OSA                                                                                            | Missing: Not provided                                                                          | 25.7                                                                                           | g                                                                                              | feces mouse 17 collection 12 of 13                                                             | \n",
       "| 10422.17.F.13                                                                                  | CTGTAAAGGTTG                                                                                   | GTGTGCCAGCMGCCGCGGTAA                                                                          | UCSDMI                                                                                         | Mouse cohort exposed to apnea and controls to assess the effect on the gut microbiome in mice. | HOWE_KF2                                                                                       | PM16B24                                                                                        | Illumina HiSeq 2500                                                                            | EMP 16S V4 protocol 515fbc, 806r                                                               | GT                                                                                             | ⋯                                                                                              | UCSD LBR -80 freezer                                                                           | TRUE                                                                                           | stool                                                                                          | mouse gut metagenome                                                                           | male                                                                                           | OSA                                                                                            | 71.7                                                                                           | 26.3                                                                                           | g                                                                                              | final feces mouse 17 collection 13 of 13                                                       | \n",
       "| 10422.17.F.3                                                                                   | CTCCCGAGCTCC                                                                                   | GTGTGCCAGCMGCCGCGGTAA                                                                          | UCSDMI                                                                                         | Mouse cohort exposed to apnea and controls to assess the effect on the gut microbiome in mice. | HOWE_KF2                                                                                       | PM16B24                                                                                        | Illumina HiSeq 2500                                                                            | EMP 16S V4 protocol 515fbc, 806r                                                               | GT                                                                                             | ⋯                                                                                              | UCSD LBR -80 freezer                                                                           | TRUE                                                                                           | stool                                                                                          | mouse gut metagenome                                                                           | male                                                                                           | OSA                                                                                            | 105.7                                                                                          | 24.9                                                                                           | g                                                                                              | feces mouse 17 collection 3 of 13                                                              | \n",
       "| 10422.17.F.4                                                                                   | GGTCTTAGCACC                                                                                   | GTGTGCCAGCMGCCGCGGTAA                                                                          | UCSDMI                                                                                         | Mouse cohort exposed to apnea and controls to assess the effect on the gut microbiome in mice. | HOWE_KF2                                                                                       | PM16B24                                                                                        | Illumina HiSeq 2500                                                                            | EMP 16S V4 protocol 515fbc, 806r                                                               | GT                                                                                             | ⋯                                                                                              | UCSD LBR -80 freezer                                                                           | TRUE                                                                                           | stool                                                                                          | mouse gut metagenome                                                                           | male                                                                                           | OSA                                                                                            | Missing: Not provided                                                                          | 24.0                                                                                           | g                                                                                              | feces mouse 17 collection 4 of 13                                                              | \n",
       "\n",
       "\n"
      ],
      "text/plain": [
       "  X.SampleID    BarcodeSequence LinkerPrimerSequence  center_name\n",
       "1 10422.17.F.10 GTTGTTCTGGGA    GTGTGCCAGCMGCCGCGGTAA UCSDMI     \n",
       "2 10422.17.F.11 TGTGCTTGTAGG    GTGTGCCAGCMGCCGCGGTAA UCSDMI     \n",
       "3 10422.17.F.12 AGAATCCACCAC    GTGTGCCAGCMGCCGCGGTAA UCSDMI     \n",
       "4 10422.17.F.13 CTGTAAAGGTTG    GTGTGCCAGCMGCCGCGGTAA UCSDMI     \n",
       "5 10422.17.F.3  CTCCCGAGCTCC    GTGTGCCAGCMGCCGCGGTAA UCSDMI     \n",
       "6 10422.17.F.4  GGTCTTAGCACC    GTGTGCCAGCMGCCGCGGTAA UCSDMI     \n",
       "  experiment_design_description                                                                 \n",
       "1 Mouse cohort exposed to apnea and controls to assess the effect on the gut microbiome in mice.\n",
       "2 Mouse cohort exposed to apnea and controls to assess the effect on the gut microbiome in mice.\n",
       "3 Mouse cohort exposed to apnea and controls to assess the effect on the gut microbiome in mice.\n",
       "4 Mouse cohort exposed to apnea and controls to assess the effect on the gut microbiome in mice.\n",
       "5 Mouse cohort exposed to apnea and controls to assess the effect on the gut microbiome in mice.\n",
       "6 Mouse cohort exposed to apnea and controls to assess the effect on the gut microbiome in mice.\n",
       "  extraction_robot extractionkit_lot instrument_model   \n",
       "1 HOWE_KF1         PM16B24           Illumina HiSeq 2500\n",
       "2 HOWE_KF2         PM16B24           Illumina HiSeq 2500\n",
       "3 HOWE_KF1         PM16B24           Illumina HiSeq 2500\n",
       "4 HOWE_KF2         PM16B24           Illumina HiSeq 2500\n",
       "5 HOWE_KF2         PM16B24           Illumina HiSeq 2500\n",
       "6 HOWE_KF2         PM16B24           Illumina HiSeq 2500\n",
       "  library_construction_protocol    linker ⋯ physical_specimen_location\n",
       "1 EMP 16S V4 protocol 515fbc, 806r GT     ⋯ UCSD LBR -80 freezer      \n",
       "2 EMP 16S V4 protocol 515fbc, 806r GT     ⋯ UCSD LBR -80 freezer      \n",
       "3 EMP 16S V4 protocol 515fbc, 806r GT     ⋯ UCSD LBR -80 freezer      \n",
       "4 EMP 16S V4 protocol 515fbc, 806r GT     ⋯ UCSD LBR -80 freezer      \n",
       "5 EMP 16S V4 protocol 515fbc, 806r GT     ⋯ UCSD LBR -80 freezer      \n",
       "6 EMP 16S V4 protocol 515fbc, 806r GT     ⋯ UCSD LBR -80 freezer      \n",
       "  physical_specimen_remaining sample_type scientific_name      sex  title\n",
       "1 TRUE                        stool       mouse gut metagenome male OSA  \n",
       "2 TRUE                        stool       mouse gut metagenome male OSA  \n",
       "3 TRUE                        stool       mouse gut metagenome male OSA  \n",
       "4 TRUE                        stool       mouse gut metagenome male OSA  \n",
       "5 TRUE                        stool       mouse gut metagenome male OSA  \n",
       "6 TRUE                        stool       mouse gut metagenome male OSA  \n",
       "  weekly_cage_food_consumption weight weight_units\n",
       "1 Missing: Not provided        25.6   g           \n",
       "2 71.8                         25.2   g           \n",
       "3 Missing: Not provided        25.7   g           \n",
       "4 71.7                         26.3   g           \n",
       "5 105.7                        24.9   g           \n",
       "6 Missing: Not provided        24.0   g           \n",
       "  Description                             \n",
       "1 feces mouse 17 collection 10 of 13      \n",
       "2 feces mouse 17 collection 11 of 13      \n",
       "3 feces mouse 17 collection 12 of 13      \n",
       "4 final feces mouse 17 collection 13 of 13\n",
       "5 feces mouse 17 collection 3 of 13       \n",
       "6 feces mouse 17 collection 4 of 13       "
      ]
     },
     "metadata": {},
     "output_type": "display_data"
    }
   ],
   "source": [
    "head(mf)"
   ]
  },
  {
   "cell_type": "code",
   "execution_count": 6,
   "metadata": {},
   "outputs": [
    {
     "data": {
      "text/html": [
       "<table>\n",
       "<thead><tr><th scope=col>V1</th><th scope=col>V2</th><th scope=col>V3</th><th scope=col>V4</th><th scope=col>V5</th><th scope=col>V6</th><th scope=col>V7</th><th scope=col>V8</th><th scope=col>V9</th><th scope=col>V10</th><th scope=col>⋯</th><th scope=col>V174</th><th scope=col>V175</th><th scope=col>V176</th><th scope=col>V177</th><th scope=col>V178</th><th scope=col>V179</th><th scope=col>V180</th><th scope=col>V181</th><th scope=col>V182</th><th scope=col>V183</th></tr></thead>\n",
       "<tbody>\n",
       "\t<tr><td>10422.17.F.10</td><td> 23.142174   </td><td>  -2.547855  </td><td>-34.9972372  </td><td> 49.657923   </td><td> -7.355300   </td><td> 0.3921491   </td><td> -3.8325385  </td><td>18.452123    </td><td> -3.775725   </td><td>⋯            </td><td>0            </td><td>0            </td><td>0            </td><td>0            </td><td>0            </td><td>0            </td><td>0            </td><td>0            </td><td>0            </td><td>0            </td></tr>\n",
       "\t<tr><td>10422.17.F.11</td><td>-43.346726   </td><td>  43.453340  </td><td> -7.4992363  </td><td> 54.433617   </td><td> 10.307290   </td><td>22.6996433   </td><td>-24.2811032  </td><td>-7.963140    </td><td>  8.977522   </td><td>⋯            </td><td>0            </td><td>0            </td><td>0            </td><td>0            </td><td>0            </td><td>0            </td><td>0            </td><td>0            </td><td>0            </td><td>0            </td></tr>\n",
       "\t<tr><td>10422.17.F.12</td><td>  1.315299   </td><td>  12.354304  </td><td>-19.7943174  </td><td> 36.322173   </td><td> 21.299721   </td><td>21.0990025   </td><td>  0.5893194  </td><td> 2.770653    </td><td> -7.943843   </td><td>⋯            </td><td>0            </td><td>0            </td><td>0            </td><td>0            </td><td>0            </td><td>0            </td><td>0            </td><td>0            </td><td>0            </td><td>0            </td></tr>\n",
       "\t<tr><td>10422.17.F.13</td><td>-40.949758   </td><td>  28.272926  </td><td>-18.5197684  </td><td>  5.734954   </td><td>  4.773362   </td><td>52.2757097   </td><td> 18.4996261  </td><td> 9.205369    </td><td>  1.692490   </td><td>⋯            </td><td>0            </td><td>0            </td><td>0            </td><td>0            </td><td>0            </td><td>0            </td><td>0            </td><td>0            </td><td>0            </td><td>0            </td></tr>\n",
       "\t<tr><td>10422.17.F.3 </td><td> 17.244964   </td><td>-112.443567  </td><td> -0.6944819  </td><td>-24.985465   </td><td>-52.762613   </td><td> 7.2012673   </td><td> -8.6475240  </td><td>18.240301    </td><td>  6.145081   </td><td>⋯            </td><td>0            </td><td>0            </td><td>0            </td><td>0            </td><td>0            </td><td>0            </td><td>0            </td><td>0            </td><td>0            </td><td>0            </td></tr>\n",
       "\t<tr><td>10422.17.F.4 </td><td> 22.093192   </td><td> -92.224312  </td><td>  0.3704718  </td><td>-33.686568   </td><td>  1.310252   </td><td>17.2442619   </td><td>  0.7064991  </td><td> 2.679129    </td><td>-33.160098   </td><td>⋯            </td><td>0            </td><td>0            </td><td>0            </td><td>0            </td><td>0            </td><td>0            </td><td>0            </td><td>0            </td><td>0            </td><td>0            </td></tr>\n",
       "</tbody>\n",
       "</table>\n"
      ],
      "text/latex": [
       "\\begin{tabular}{r|lllllllllllllllllllllllllllllllllllllllllllllllllllllllllllllllllllllllllllllllllllllllllllllllllllllllllllllllllllllllllllllllllllllllllllllllllllllllllllllllllllllllllllllllllllllll}\n",
       " V1 & V2 & V3 & V4 & V5 & V6 & V7 & V8 & V9 & V10 & ⋯ & V174 & V175 & V176 & V177 & V178 & V179 & V180 & V181 & V182 & V183\\\\\n",
       "\\hline\n",
       "\t 10422.17.F.10 &  23.142174    &   -2.547855   & -34.9972372   &  49.657923    &  -7.355300    &  0.3921491    &  -3.8325385   & 18.452123     &  -3.775725    & ⋯             & 0             & 0             & 0             & 0             & 0             & 0             & 0             & 0             & 0             & 0            \\\\\n",
       "\t 10422.17.F.11 & -43.346726    &   43.453340   &  -7.4992363   &  54.433617    &  10.307290    & 22.6996433    & -24.2811032   & -7.963140     &   8.977522    & ⋯             & 0             & 0             & 0             & 0             & 0             & 0             & 0             & 0             & 0             & 0            \\\\\n",
       "\t 10422.17.F.12 &   1.315299    &   12.354304   & -19.7943174   &  36.322173    &  21.299721    & 21.0990025    &   0.5893194   &  2.770653     &  -7.943843    & ⋯             & 0             & 0             & 0             & 0             & 0             & 0             & 0             & 0             & 0             & 0            \\\\\n",
       "\t 10422.17.F.13 & -40.949758    &   28.272926   & -18.5197684   &   5.734954    &   4.773362    & 52.2757097    &  18.4996261   &  9.205369     &   1.692490    & ⋯             & 0             & 0             & 0             & 0             & 0             & 0             & 0             & 0             & 0             & 0            \\\\\n",
       "\t 10422.17.F.3  &  17.244964    & -112.443567   &  -0.6944819   & -24.985465    & -52.762613    &  7.2012673    &  -8.6475240   & 18.240301     &   6.145081    & ⋯             & 0             & 0             & 0             & 0             & 0             & 0             & 0             & 0             & 0             & 0            \\\\\n",
       "\t 10422.17.F.4  &  22.093192    &  -92.224312   &   0.3704718   & -33.686568    &   1.310252    & 17.2442619    &   0.7064991   &  2.679129     & -33.160098    & ⋯             & 0             & 0             & 0             & 0             & 0             & 0             & 0             & 0             & 0             & 0            \\\\\n",
       "\\end{tabular}\n"
      ],
      "text/markdown": [
       "\n",
       "V1 | V2 | V3 | V4 | V5 | V6 | V7 | V8 | V9 | V10 | ⋯ | V174 | V175 | V176 | V177 | V178 | V179 | V180 | V181 | V182 | V183 | \n",
       "|---|---|---|---|---|---|\n",
       "| 10422.17.F.10 |  23.142174    |   -2.547855   | -34.9972372   |  49.657923    |  -7.355300    |  0.3921491    |  -3.8325385   | 18.452123     |  -3.775725    | ⋯             | 0             | 0             | 0             | 0             | 0             | 0             | 0             | 0             | 0             | 0             | \n",
       "| 10422.17.F.11 | -43.346726    |   43.453340   |  -7.4992363   |  54.433617    |  10.307290    | 22.6996433    | -24.2811032   | -7.963140     |   8.977522    | ⋯             | 0             | 0             | 0             | 0             | 0             | 0             | 0             | 0             | 0             | 0             | \n",
       "| 10422.17.F.12 |   1.315299    |   12.354304   | -19.7943174   |  36.322173    |  21.299721    | 21.0990025    |   0.5893194   |  2.770653     |  -7.943843    | ⋯             | 0             | 0             | 0             | 0             | 0             | 0             | 0             | 0             | 0             | 0             | \n",
       "| 10422.17.F.13 | -40.949758    |   28.272926   | -18.5197684   |   5.734954    |   4.773362    | 52.2757097    |  18.4996261   |  9.205369     |   1.692490    | ⋯             | 0             | 0             | 0             | 0             | 0             | 0             | 0             | 0             | 0             | 0             | \n",
       "| 10422.17.F.3  |  17.244964    | -112.443567   |  -0.6944819   | -24.985465    | -52.762613    |  7.2012673    |  -8.6475240   | 18.240301     |   6.145081    | ⋯             | 0             | 0             | 0             | 0             | 0             | 0             | 0             | 0             | 0             | 0             | \n",
       "| 10422.17.F.4  |  22.093192    |  -92.224312   |   0.3704718   | -33.686568    |   1.310252    | 17.2442619    |   0.7064991   |  2.679129     | -33.160098    | ⋯             | 0             | 0             | 0             | 0             | 0             | 0             | 0             | 0             | 0             | 0             | \n",
       "\n",
       "\n"
      ],
      "text/plain": [
       "  V1            V2         V3          V4          V5         V6        \n",
       "1 10422.17.F.10  23.142174   -2.547855 -34.9972372  49.657923  -7.355300\n",
       "2 10422.17.F.11 -43.346726   43.453340  -7.4992363  54.433617  10.307290\n",
       "3 10422.17.F.12   1.315299   12.354304 -19.7943174  36.322173  21.299721\n",
       "4 10422.17.F.13 -40.949758   28.272926 -18.5197684   5.734954   4.773362\n",
       "5 10422.17.F.3   17.244964 -112.443567  -0.6944819 -24.985465 -52.762613\n",
       "6 10422.17.F.4   22.093192  -92.224312   0.3704718 -33.686568   1.310252\n",
       "  V7         V8          V9        V10        ⋯ V174 V175 V176 V177 V178 V179\n",
       "1  0.3921491  -3.8325385 18.452123  -3.775725 ⋯ 0    0    0    0    0    0   \n",
       "2 22.6996433 -24.2811032 -7.963140   8.977522 ⋯ 0    0    0    0    0    0   \n",
       "3 21.0990025   0.5893194  2.770653  -7.943843 ⋯ 0    0    0    0    0    0   \n",
       "4 52.2757097  18.4996261  9.205369   1.692490 ⋯ 0    0    0    0    0    0   \n",
       "5  7.2012673  -8.6475240 18.240301   6.145081 ⋯ 0    0    0    0    0    0   \n",
       "6 17.2442619   0.7064991  2.679129 -33.160098 ⋯ 0    0    0    0    0    0   \n",
       "  V180 V181 V182 V183\n",
       "1 0    0    0    0   \n",
       "2 0    0    0    0   \n",
       "3 0    0    0    0   \n",
       "4 0    0    0    0   \n",
       "5 0    0    0    0   \n",
       "6 0    0    0    0   "
      ]
     },
     "metadata": {},
     "output_type": "display_data"
    }
   ],
   "source": [
    "head(pc)"
   ]
  },
  {
   "cell_type": "code",
   "execution_count": 7,
   "metadata": {},
   "outputs": [
    {
     "data": {
      "text/html": [
       "<ol class=list-inline>\n",
       "\t<li>182</li>\n",
       "\t<li>11</li>\n",
       "</ol>\n"
      ],
      "text/latex": [
       "\\begin{enumerate*}\n",
       "\\item 182\n",
       "\\item 11\n",
       "\\end{enumerate*}\n"
      ],
      "text/markdown": [
       "1. 182\n",
       "2. 11\n",
       "\n",
       "\n"
      ],
      "text/plain": [
       "[1] 182  11"
      ]
     },
     "metadata": {},
     "output_type": "display_data"
    },
    {
     "data": {
      "text/html": [
       "<table>\n",
       "<thead><tr><th scope=col>X.SampleID</th><th scope=col>PC1</th><th scope=col>PC2</th><th scope=col>PC3</th><th scope=col>PC4</th><th scope=col>PC5</th><th scope=col>PC6</th><th scope=col>PC7</th><th scope=col>PC8</th><th scope=col>PC9</th><th scope=col>PC10</th></tr></thead>\n",
       "<tbody>\n",
       "\t<tr><td>10422.17.F.10</td><td> 23.142174   </td><td>  -2.547855  </td><td>-34.9972372  </td><td> 49.657923   </td><td> -7.355300   </td><td> 0.3921491   </td><td> -3.8325385  </td><td>18.452123    </td><td> -3.775725   </td><td>10.488982    </td></tr>\n",
       "\t<tr><td>10422.17.F.11</td><td>-43.346726   </td><td>  43.453340  </td><td> -7.4992363  </td><td> 54.433617   </td><td> 10.307290   </td><td>22.6996433   </td><td>-24.2811032  </td><td>-7.963140    </td><td>  8.977522   </td><td>38.068554    </td></tr>\n",
       "\t<tr><td>10422.17.F.12</td><td>  1.315299   </td><td>  12.354304  </td><td>-19.7943174  </td><td> 36.322173   </td><td> 21.299721   </td><td>21.0990025   </td><td>  0.5893194  </td><td> 2.770653    </td><td> -7.943843   </td><td> 9.566073    </td></tr>\n",
       "\t<tr><td>10422.17.F.13</td><td>-40.949758   </td><td>  28.272926  </td><td>-18.5197684  </td><td>  5.734954   </td><td>  4.773362   </td><td>52.2757097   </td><td> 18.4996261  </td><td> 9.205369    </td><td>  1.692490   </td><td>28.634358    </td></tr>\n",
       "\t<tr><td>10422.17.F.3 </td><td> 17.244964   </td><td>-112.443567  </td><td> -0.6944819  </td><td>-24.985465   </td><td>-52.762613   </td><td> 7.2012673   </td><td> -8.6475240  </td><td>18.240301    </td><td>  6.145081   </td><td>23.414405    </td></tr>\n",
       "\t<tr><td>10422.17.F.4 </td><td> 22.093192   </td><td> -92.224312  </td><td>  0.3704718  </td><td>-33.686568   </td><td>  1.310252   </td><td>17.2442619   </td><td>  0.7064991  </td><td> 2.679129    </td><td>-33.160098   </td><td> 1.361084    </td></tr>\n",
       "</tbody>\n",
       "</table>\n"
      ],
      "text/latex": [
       "\\begin{tabular}{r|lllllllllll}\n",
       " X.SampleID & PC1 & PC2 & PC3 & PC4 & PC5 & PC6 & PC7 & PC8 & PC9 & PC10\\\\\n",
       "\\hline\n",
       "\t 10422.17.F.10 &  23.142174    &   -2.547855   & -34.9972372   &  49.657923    &  -7.355300    &  0.3921491    &  -3.8325385   & 18.452123     &  -3.775725    & 10.488982    \\\\\n",
       "\t 10422.17.F.11 & -43.346726    &   43.453340   &  -7.4992363   &  54.433617    &  10.307290    & 22.6996433    & -24.2811032   & -7.963140     &   8.977522    & 38.068554    \\\\\n",
       "\t 10422.17.F.12 &   1.315299    &   12.354304   & -19.7943174   &  36.322173    &  21.299721    & 21.0990025    &   0.5893194   &  2.770653     &  -7.943843    &  9.566073    \\\\\n",
       "\t 10422.17.F.13 & -40.949758    &   28.272926   & -18.5197684   &   5.734954    &   4.773362    & 52.2757097    &  18.4996261   &  9.205369     &   1.692490    & 28.634358    \\\\\n",
       "\t 10422.17.F.3  &  17.244964    & -112.443567   &  -0.6944819   & -24.985465    & -52.762613    &  7.2012673    &  -8.6475240   & 18.240301     &   6.145081    & 23.414405    \\\\\n",
       "\t 10422.17.F.4  &  22.093192    &  -92.224312   &   0.3704718   & -33.686568    &   1.310252    & 17.2442619    &   0.7064991   &  2.679129     & -33.160098    &  1.361084    \\\\\n",
       "\\end{tabular}\n"
      ],
      "text/markdown": [
       "\n",
       "X.SampleID | PC1 | PC2 | PC3 | PC4 | PC5 | PC6 | PC7 | PC8 | PC9 | PC10 | \n",
       "|---|---|---|---|---|---|\n",
       "| 10422.17.F.10 |  23.142174    |   -2.547855   | -34.9972372   |  49.657923    |  -7.355300    |  0.3921491    |  -3.8325385   | 18.452123     |  -3.775725    | 10.488982     | \n",
       "| 10422.17.F.11 | -43.346726    |   43.453340   |  -7.4992363   |  54.433617    |  10.307290    | 22.6996433    | -24.2811032   | -7.963140     |   8.977522    | 38.068554     | \n",
       "| 10422.17.F.12 |   1.315299    |   12.354304   | -19.7943174   |  36.322173    |  21.299721    | 21.0990025    |   0.5893194   |  2.770653     |  -7.943843    |  9.566073     | \n",
       "| 10422.17.F.13 | -40.949758    |   28.272926   | -18.5197684   |   5.734954    |   4.773362    | 52.2757097    |  18.4996261   |  9.205369     |   1.692490    | 28.634358     | \n",
       "| 10422.17.F.3  |  17.244964    | -112.443567   |  -0.6944819   | -24.985465    | -52.762613    |  7.2012673    |  -8.6475240   | 18.240301     |   6.145081    | 23.414405     | \n",
       "| 10422.17.F.4  |  22.093192    |  -92.224312   |   0.3704718   | -33.686568    |   1.310252    | 17.2442619    |   0.7064991   |  2.679129     | -33.160098    |  1.361084     | \n",
       "\n",
       "\n"
      ],
      "text/plain": [
       "  X.SampleID    PC1        PC2         PC3         PC4        PC5       \n",
       "1 10422.17.F.10  23.142174   -2.547855 -34.9972372  49.657923  -7.355300\n",
       "2 10422.17.F.11 -43.346726   43.453340  -7.4992363  54.433617  10.307290\n",
       "3 10422.17.F.12   1.315299   12.354304 -19.7943174  36.322173  21.299721\n",
       "4 10422.17.F.13 -40.949758   28.272926 -18.5197684   5.734954   4.773362\n",
       "5 10422.17.F.3   17.244964 -112.443567  -0.6944819 -24.985465 -52.762613\n",
       "6 10422.17.F.4   22.093192  -92.224312   0.3704718 -33.686568   1.310252\n",
       "  PC6        PC7         PC8       PC9        PC10     \n",
       "1  0.3921491  -3.8325385 18.452123  -3.775725 10.488982\n",
       "2 22.6996433 -24.2811032 -7.963140   8.977522 38.068554\n",
       "3 21.0990025   0.5893194  2.770653  -7.943843  9.566073\n",
       "4 52.2757097  18.4996261  9.205369   1.692490 28.634358\n",
       "5  7.2012673  -8.6475240 18.240301   6.145081 23.414405\n",
       "6 17.2442619   0.7064991  2.679129 -33.160098  1.361084"
      ]
     },
     "metadata": {},
     "output_type": "display_data"
    }
   ],
   "source": [
    "pc_10 = pc[, 1:11]\n",
    "colnames(pc_10) = c('X.SampleID', 'PC1', 'PC2', 'PC3', 'PC4', 'PC5', 'PC6', 'PC7', 'PC8', 'PC9', 'PC10')\n",
    "dim(pc_10)\n",
    "head(pc_10)"
   ]
  },
  {
   "cell_type": "code",
   "execution_count": 8,
   "metadata": {},
   "outputs": [
    {
     "data": {
      "text/html": [
       "<ol class=list-inline>\n",
       "\t<li>182</li>\n",
       "\t<li>80</li>\n",
       "</ol>\n"
      ],
      "text/latex": [
       "\\begin{enumerate*}\n",
       "\\item 182\n",
       "\\item 80\n",
       "\\end{enumerate*}\n"
      ],
      "text/markdown": [
       "1. 182\n",
       "2. 80\n",
       "\n",
       "\n"
      ],
      "text/plain": [
       "[1] 182  80"
      ]
     },
     "metadata": {},
     "output_type": "display_data"
    }
   ],
   "source": [
    "dat = merge(mf, pc_10, by = \"X.SampleID\") \n",
    "dim(dat)"
   ]
  },
  {
   "cell_type": "code",
   "execution_count": 9,
   "metadata": {},
   "outputs": [
    {
     "data": {
      "text/html": [
       "<table>\n",
       "<thead><tr><th scope=col>X.SampleID</th><th scope=col>BarcodeSequence</th><th scope=col>LinkerPrimerSequence</th><th scope=col>center_name</th><th scope=col>experiment_design_description</th><th scope=col>extraction_robot</th><th scope=col>extractionkit_lot</th><th scope=col>instrument_model</th><th scope=col>library_construction_protocol</th><th scope=col>linker</th><th scope=col>⋯</th><th scope=col>PC1</th><th scope=col>PC2</th><th scope=col>PC3</th><th scope=col>PC4</th><th scope=col>PC5</th><th scope=col>PC6</th><th scope=col>PC7</th><th scope=col>PC8</th><th scope=col>PC9</th><th scope=col>PC10</th></tr></thead>\n",
       "<tbody>\n",
       "\t<tr><td>10422.17.F.10                                                                                 </td><td>GTTGTTCTGGGA                                                                                  </td><td>GTGTGCCAGCMGCCGCGGTAA                                                                         </td><td>UCSDMI                                                                                        </td><td>Mouse cohort exposed to apnea and controls to assess the effect on the gut microbiome in mice.</td><td>HOWE_KF1                                                                                      </td><td>PM16B24                                                                                       </td><td>Illumina HiSeq 2500                                                                           </td><td>EMP 16S V4 protocol 515fbc, 806r                                                              </td><td>GT                                                                                            </td><td>⋯                                                                                             </td><td> 23.142174                                                                                    </td><td>  -2.547855                                                                                   </td><td>-34.9972372                                                                                   </td><td> 49.657923                                                                                    </td><td> -7.355300                                                                                    </td><td> 0.3921491                                                                                    </td><td> -3.8325385                                                                                   </td><td>18.452123                                                                                     </td><td> -3.775725                                                                                    </td><td>10.488982                                                                                     </td></tr>\n",
       "\t<tr><td>10422.17.F.11                                                                                 </td><td>TGTGCTTGTAGG                                                                                  </td><td>GTGTGCCAGCMGCCGCGGTAA                                                                         </td><td>UCSDMI                                                                                        </td><td>Mouse cohort exposed to apnea and controls to assess the effect on the gut microbiome in mice.</td><td>HOWE_KF2                                                                                      </td><td>PM16B24                                                                                       </td><td>Illumina HiSeq 2500                                                                           </td><td>EMP 16S V4 protocol 515fbc, 806r                                                              </td><td>GT                                                                                            </td><td>⋯                                                                                             </td><td>-43.346726                                                                                    </td><td>  43.453340                                                                                   </td><td> -7.4992363                                                                                   </td><td> 54.433617                                                                                    </td><td> 10.307290                                                                                    </td><td>22.6996433                                                                                    </td><td>-24.2811032                                                                                   </td><td>-7.963140                                                                                     </td><td>  8.977522                                                                                    </td><td>38.068554                                                                                     </td></tr>\n",
       "\t<tr><td>10422.17.F.12                                                                                 </td><td>AGAATCCACCAC                                                                                  </td><td>GTGTGCCAGCMGCCGCGGTAA                                                                         </td><td>UCSDMI                                                                                        </td><td>Mouse cohort exposed to apnea and controls to assess the effect on the gut microbiome in mice.</td><td>HOWE_KF1                                                                                      </td><td>PM16B24                                                                                       </td><td>Illumina HiSeq 2500                                                                           </td><td>EMP 16S V4 protocol 515fbc, 806r                                                              </td><td>GT                                                                                            </td><td>⋯                                                                                             </td><td>  1.315299                                                                                    </td><td>  12.354304                                                                                   </td><td>-19.7943174                                                                                   </td><td> 36.322173                                                                                    </td><td> 21.299721                                                                                    </td><td>21.0990025                                                                                    </td><td>  0.5893194                                                                                   </td><td> 2.770653                                                                                     </td><td> -7.943843                                                                                    </td><td> 9.566073                                                                                     </td></tr>\n",
       "\t<tr><td>10422.17.F.13                                                                                 </td><td>CTGTAAAGGTTG                                                                                  </td><td>GTGTGCCAGCMGCCGCGGTAA                                                                         </td><td>UCSDMI                                                                                        </td><td>Mouse cohort exposed to apnea and controls to assess the effect on the gut microbiome in mice.</td><td>HOWE_KF2                                                                                      </td><td>PM16B24                                                                                       </td><td>Illumina HiSeq 2500                                                                           </td><td>EMP 16S V4 protocol 515fbc, 806r                                                              </td><td>GT                                                                                            </td><td>⋯                                                                                             </td><td>-40.949758                                                                                    </td><td>  28.272926                                                                                   </td><td>-18.5197684                                                                                   </td><td>  5.734954                                                                                    </td><td>  4.773362                                                                                    </td><td>52.2757097                                                                                    </td><td> 18.4996261                                                                                   </td><td> 9.205369                                                                                     </td><td>  1.692490                                                                                    </td><td>28.634358                                                                                     </td></tr>\n",
       "\t<tr><td>10422.17.F.3                                                                                  </td><td>CTCCCGAGCTCC                                                                                  </td><td>GTGTGCCAGCMGCCGCGGTAA                                                                         </td><td>UCSDMI                                                                                        </td><td>Mouse cohort exposed to apnea and controls to assess the effect on the gut microbiome in mice.</td><td>HOWE_KF2                                                                                      </td><td>PM16B24                                                                                       </td><td>Illumina HiSeq 2500                                                                           </td><td>EMP 16S V4 protocol 515fbc, 806r                                                              </td><td>GT                                                                                            </td><td>⋯                                                                                             </td><td> 17.244964                                                                                    </td><td>-112.443567                                                                                   </td><td> -0.6944819                                                                                   </td><td>-24.985465                                                                                    </td><td>-52.762613                                                                                    </td><td> 7.2012673                                                                                    </td><td> -8.6475240                                                                                   </td><td>18.240301                                                                                     </td><td>  6.145081                                                                                    </td><td>23.414405                                                                                     </td></tr>\n",
       "\t<tr><td>10422.17.F.4                                                                                  </td><td>GGTCTTAGCACC                                                                                  </td><td>GTGTGCCAGCMGCCGCGGTAA                                                                         </td><td>UCSDMI                                                                                        </td><td>Mouse cohort exposed to apnea and controls to assess the effect on the gut microbiome in mice.</td><td>HOWE_KF2                                                                                      </td><td>PM16B24                                                                                       </td><td>Illumina HiSeq 2500                                                                           </td><td>EMP 16S V4 protocol 515fbc, 806r                                                              </td><td>GT                                                                                            </td><td>⋯                                                                                             </td><td> 22.093192                                                                                    </td><td> -92.224312                                                                                   </td><td>  0.3704718                                                                                   </td><td>-33.686568                                                                                    </td><td>  1.310252                                                                                    </td><td>17.2442619                                                                                    </td><td>  0.7064991                                                                                   </td><td> 2.679129                                                                                     </td><td>-33.160098                                                                                    </td><td> 1.361084                                                                                     </td></tr>\n",
       "</tbody>\n",
       "</table>\n"
      ],
      "text/latex": [
       "\\begin{tabular}{r|llllllllllllllllllllllllllllllllllllllllllllllllllllllllllllllllllllllllllllllll}\n",
       " X.SampleID & BarcodeSequence & LinkerPrimerSequence & center\\_name & experiment\\_design\\_description & extraction\\_robot & extractionkit\\_lot & instrument\\_model & library\\_construction\\_protocol & linker & ⋯ & PC1 & PC2 & PC3 & PC4 & PC5 & PC6 & PC7 & PC8 & PC9 & PC10\\\\\n",
       "\\hline\n",
       "\t 10422.17.F.10                                                                                  & GTTGTTCTGGGA                                                                                   & GTGTGCCAGCMGCCGCGGTAA                                                                          & UCSDMI                                                                                         & Mouse cohort exposed to apnea and controls to assess the effect on the gut microbiome in mice. & HOWE\\_KF1                                                                                     & PM16B24                                                                                        & Illumina HiSeq 2500                                                                            & EMP 16S V4 protocol 515fbc, 806r                                                               & GT                                                                                             & ⋯                                                                                              &  23.142174                                                                                     &   -2.547855                                                                                    & -34.9972372                                                                                    &  49.657923                                                                                     &  -7.355300                                                                                     &  0.3921491                                                                                     &  -3.8325385                                                                                    & 18.452123                                                                                      &  -3.775725                                                                                     & 10.488982                                                                                     \\\\\n",
       "\t 10422.17.F.11                                                                                  & TGTGCTTGTAGG                                                                                   & GTGTGCCAGCMGCCGCGGTAA                                                                          & UCSDMI                                                                                         & Mouse cohort exposed to apnea and controls to assess the effect on the gut microbiome in mice. & HOWE\\_KF2                                                                                     & PM16B24                                                                                        & Illumina HiSeq 2500                                                                            & EMP 16S V4 protocol 515fbc, 806r                                                               & GT                                                                                             & ⋯                                                                                              & -43.346726                                                                                     &   43.453340                                                                                    &  -7.4992363                                                                                    &  54.433617                                                                                     &  10.307290                                                                                     & 22.6996433                                                                                     & -24.2811032                                                                                    & -7.963140                                                                                      &   8.977522                                                                                     & 38.068554                                                                                     \\\\\n",
       "\t 10422.17.F.12                                                                                  & AGAATCCACCAC                                                                                   & GTGTGCCAGCMGCCGCGGTAA                                                                          & UCSDMI                                                                                         & Mouse cohort exposed to apnea and controls to assess the effect on the gut microbiome in mice. & HOWE\\_KF1                                                                                     & PM16B24                                                                                        & Illumina HiSeq 2500                                                                            & EMP 16S V4 protocol 515fbc, 806r                                                               & GT                                                                                             & ⋯                                                                                              &   1.315299                                                                                     &   12.354304                                                                                    & -19.7943174                                                                                    &  36.322173                                                                                     &  21.299721                                                                                     & 21.0990025                                                                                     &   0.5893194                                                                                    &  2.770653                                                                                      &  -7.943843                                                                                     &  9.566073                                                                                     \\\\\n",
       "\t 10422.17.F.13                                                                                  & CTGTAAAGGTTG                                                                                   & GTGTGCCAGCMGCCGCGGTAA                                                                          & UCSDMI                                                                                         & Mouse cohort exposed to apnea and controls to assess the effect on the gut microbiome in mice. & HOWE\\_KF2                                                                                     & PM16B24                                                                                        & Illumina HiSeq 2500                                                                            & EMP 16S V4 protocol 515fbc, 806r                                                               & GT                                                                                             & ⋯                                                                                              & -40.949758                                                                                     &   28.272926                                                                                    & -18.5197684                                                                                    &   5.734954                                                                                     &   4.773362                                                                                     & 52.2757097                                                                                     &  18.4996261                                                                                    &  9.205369                                                                                      &   1.692490                                                                                     & 28.634358                                                                                     \\\\\n",
       "\t 10422.17.F.3                                                                                   & CTCCCGAGCTCC                                                                                   & GTGTGCCAGCMGCCGCGGTAA                                                                          & UCSDMI                                                                                         & Mouse cohort exposed to apnea and controls to assess the effect on the gut microbiome in mice. & HOWE\\_KF2                                                                                     & PM16B24                                                                                        & Illumina HiSeq 2500                                                                            & EMP 16S V4 protocol 515fbc, 806r                                                               & GT                                                                                             & ⋯                                                                                              &  17.244964                                                                                     & -112.443567                                                                                    &  -0.6944819                                                                                    & -24.985465                                                                                     & -52.762613                                                                                     &  7.2012673                                                                                     &  -8.6475240                                                                                    & 18.240301                                                                                      &   6.145081                                                                                     & 23.414405                                                                                     \\\\\n",
       "\t 10422.17.F.4                                                                                   & GGTCTTAGCACC                                                                                   & GTGTGCCAGCMGCCGCGGTAA                                                                          & UCSDMI                                                                                         & Mouse cohort exposed to apnea and controls to assess the effect on the gut microbiome in mice. & HOWE\\_KF2                                                                                     & PM16B24                                                                                        & Illumina HiSeq 2500                                                                            & EMP 16S V4 protocol 515fbc, 806r                                                               & GT                                                                                             & ⋯                                                                                              &  22.093192                                                                                     &  -92.224312                                                                                    &   0.3704718                                                                                    & -33.686568                                                                                     &   1.310252                                                                                     & 17.2442619                                                                                     &   0.7064991                                                                                    &  2.679129                                                                                      & -33.160098                                                                                     &  1.361084                                                                                     \\\\\n",
       "\\end{tabular}\n"
      ],
      "text/markdown": [
       "\n",
       "X.SampleID | BarcodeSequence | LinkerPrimerSequence | center_name | experiment_design_description | extraction_robot | extractionkit_lot | instrument_model | library_construction_protocol | linker | ⋯ | PC1 | PC2 | PC3 | PC4 | PC5 | PC6 | PC7 | PC8 | PC9 | PC10 | \n",
       "|---|---|---|---|---|---|\n",
       "| 10422.17.F.10                                                                                  | GTTGTTCTGGGA                                                                                   | GTGTGCCAGCMGCCGCGGTAA                                                                          | UCSDMI                                                                                         | Mouse cohort exposed to apnea and controls to assess the effect on the gut microbiome in mice. | HOWE_KF1                                                                                       | PM16B24                                                                                        | Illumina HiSeq 2500                                                                            | EMP 16S V4 protocol 515fbc, 806r                                                               | GT                                                                                             | ⋯                                                                                              |  23.142174                                                                                     |   -2.547855                                                                                    | -34.9972372                                                                                    |  49.657923                                                                                     |  -7.355300                                                                                     |  0.3921491                                                                                     |  -3.8325385                                                                                    | 18.452123                                                                                      |  -3.775725                                                                                     | 10.488982                                                                                      | \n",
       "| 10422.17.F.11                                                                                  | TGTGCTTGTAGG                                                                                   | GTGTGCCAGCMGCCGCGGTAA                                                                          | UCSDMI                                                                                         | Mouse cohort exposed to apnea and controls to assess the effect on the gut microbiome in mice. | HOWE_KF2                                                                                       | PM16B24                                                                                        | Illumina HiSeq 2500                                                                            | EMP 16S V4 protocol 515fbc, 806r                                                               | GT                                                                                             | ⋯                                                                                              | -43.346726                                                                                     |   43.453340                                                                                    |  -7.4992363                                                                                    |  54.433617                                                                                     |  10.307290                                                                                     | 22.6996433                                                                                     | -24.2811032                                                                                    | -7.963140                                                                                      |   8.977522                                                                                     | 38.068554                                                                                      | \n",
       "| 10422.17.F.12                                                                                  | AGAATCCACCAC                                                                                   | GTGTGCCAGCMGCCGCGGTAA                                                                          | UCSDMI                                                                                         | Mouse cohort exposed to apnea and controls to assess the effect on the gut microbiome in mice. | HOWE_KF1                                                                                       | PM16B24                                                                                        | Illumina HiSeq 2500                                                                            | EMP 16S V4 protocol 515fbc, 806r                                                               | GT                                                                                             | ⋯                                                                                              |   1.315299                                                                                     |   12.354304                                                                                    | -19.7943174                                                                                    |  36.322173                                                                                     |  21.299721                                                                                     | 21.0990025                                                                                     |   0.5893194                                                                                    |  2.770653                                                                                      |  -7.943843                                                                                     |  9.566073                                                                                      | \n",
       "| 10422.17.F.13                                                                                  | CTGTAAAGGTTG                                                                                   | GTGTGCCAGCMGCCGCGGTAA                                                                          | UCSDMI                                                                                         | Mouse cohort exposed to apnea and controls to assess the effect on the gut microbiome in mice. | HOWE_KF2                                                                                       | PM16B24                                                                                        | Illumina HiSeq 2500                                                                            | EMP 16S V4 protocol 515fbc, 806r                                                               | GT                                                                                             | ⋯                                                                                              | -40.949758                                                                                     |   28.272926                                                                                    | -18.5197684                                                                                    |   5.734954                                                                                     |   4.773362                                                                                     | 52.2757097                                                                                     |  18.4996261                                                                                    |  9.205369                                                                                      |   1.692490                                                                                     | 28.634358                                                                                      | \n",
       "| 10422.17.F.3                                                                                   | CTCCCGAGCTCC                                                                                   | GTGTGCCAGCMGCCGCGGTAA                                                                          | UCSDMI                                                                                         | Mouse cohort exposed to apnea and controls to assess the effect on the gut microbiome in mice. | HOWE_KF2                                                                                       | PM16B24                                                                                        | Illumina HiSeq 2500                                                                            | EMP 16S V4 protocol 515fbc, 806r                                                               | GT                                                                                             | ⋯                                                                                              |  17.244964                                                                                     | -112.443567                                                                                    |  -0.6944819                                                                                    | -24.985465                                                                                     | -52.762613                                                                                     |  7.2012673                                                                                     |  -8.6475240                                                                                    | 18.240301                                                                                      |   6.145081                                                                                     | 23.414405                                                                                      | \n",
       "| 10422.17.F.4                                                                                   | GGTCTTAGCACC                                                                                   | GTGTGCCAGCMGCCGCGGTAA                                                                          | UCSDMI                                                                                         | Mouse cohort exposed to apnea and controls to assess the effect on the gut microbiome in mice. | HOWE_KF2                                                                                       | PM16B24                                                                                        | Illumina HiSeq 2500                                                                            | EMP 16S V4 protocol 515fbc, 806r                                                               | GT                                                                                             | ⋯                                                                                              |  22.093192                                                                                     |  -92.224312                                                                                    |   0.3704718                                                                                    | -33.686568                                                                                     |   1.310252                                                                                     | 17.2442619                                                                                     |   0.7064991                                                                                    |  2.679129                                                                                      | -33.160098                                                                                     |  1.361084                                                                                      | \n",
       "\n",
       "\n"
      ],
      "text/plain": [
       "  X.SampleID    BarcodeSequence LinkerPrimerSequence  center_name\n",
       "1 10422.17.F.10 GTTGTTCTGGGA    GTGTGCCAGCMGCCGCGGTAA UCSDMI     \n",
       "2 10422.17.F.11 TGTGCTTGTAGG    GTGTGCCAGCMGCCGCGGTAA UCSDMI     \n",
       "3 10422.17.F.12 AGAATCCACCAC    GTGTGCCAGCMGCCGCGGTAA UCSDMI     \n",
       "4 10422.17.F.13 CTGTAAAGGTTG    GTGTGCCAGCMGCCGCGGTAA UCSDMI     \n",
       "5 10422.17.F.3  CTCCCGAGCTCC    GTGTGCCAGCMGCCGCGGTAA UCSDMI     \n",
       "6 10422.17.F.4  GGTCTTAGCACC    GTGTGCCAGCMGCCGCGGTAA UCSDMI     \n",
       "  experiment_design_description                                                                 \n",
       "1 Mouse cohort exposed to apnea and controls to assess the effect on the gut microbiome in mice.\n",
       "2 Mouse cohort exposed to apnea and controls to assess the effect on the gut microbiome in mice.\n",
       "3 Mouse cohort exposed to apnea and controls to assess the effect on the gut microbiome in mice.\n",
       "4 Mouse cohort exposed to apnea and controls to assess the effect on the gut microbiome in mice.\n",
       "5 Mouse cohort exposed to apnea and controls to assess the effect on the gut microbiome in mice.\n",
       "6 Mouse cohort exposed to apnea and controls to assess the effect on the gut microbiome in mice.\n",
       "  extraction_robot extractionkit_lot instrument_model   \n",
       "1 HOWE_KF1         PM16B24           Illumina HiSeq 2500\n",
       "2 HOWE_KF2         PM16B24           Illumina HiSeq 2500\n",
       "3 HOWE_KF1         PM16B24           Illumina HiSeq 2500\n",
       "4 HOWE_KF2         PM16B24           Illumina HiSeq 2500\n",
       "5 HOWE_KF2         PM16B24           Illumina HiSeq 2500\n",
       "6 HOWE_KF2         PM16B24           Illumina HiSeq 2500\n",
       "  library_construction_protocol    linker ⋯ PC1        PC2         PC3        \n",
       "1 EMP 16S V4 protocol 515fbc, 806r GT     ⋯  23.142174   -2.547855 -34.9972372\n",
       "2 EMP 16S V4 protocol 515fbc, 806r GT     ⋯ -43.346726   43.453340  -7.4992363\n",
       "3 EMP 16S V4 protocol 515fbc, 806r GT     ⋯   1.315299   12.354304 -19.7943174\n",
       "4 EMP 16S V4 protocol 515fbc, 806r GT     ⋯ -40.949758   28.272926 -18.5197684\n",
       "5 EMP 16S V4 protocol 515fbc, 806r GT     ⋯  17.244964 -112.443567  -0.6944819\n",
       "6 EMP 16S V4 protocol 515fbc, 806r GT     ⋯  22.093192  -92.224312   0.3704718\n",
       "  PC4        PC5        PC6        PC7         PC8       PC9        PC10     \n",
       "1  49.657923  -7.355300  0.3921491  -3.8325385 18.452123  -3.775725 10.488982\n",
       "2  54.433617  10.307290 22.6996433 -24.2811032 -7.963140   8.977522 38.068554\n",
       "3  36.322173  21.299721 21.0990025   0.5893194  2.770653  -7.943843  9.566073\n",
       "4   5.734954   4.773362 52.2757097  18.4996261  9.205369   1.692490 28.634358\n",
       "5 -24.985465 -52.762613  7.2012673  -8.6475240 18.240301   6.145081 23.414405\n",
       "6 -33.686568   1.310252 17.2442619   0.7064991  2.679129 -33.160098  1.361084"
      ]
     },
     "metadata": {},
     "output_type": "display_data"
    }
   ],
   "source": [
    "head(dat)"
   ]
  },
  {
   "cell_type": "code",
   "execution_count": 10,
   "metadata": {
    "collapsed": true
   },
   "outputs": [],
   "source": [
    "X = dat[, c('cage_number', 'exposure_type')]\n",
    "Y = dat[, c('PC1', 'PC2', 'PC3', 'PC4', 'PC5', 'PC6', 'PC7', 'PC8', 'PC9', 'PC10')]"
   ]
  },
  {
   "cell_type": "code",
   "execution_count": 11,
   "metadata": {},
   "outputs": [
    {
     "data": {
      "text/html": [
       "<ol class=list-inline>\n",
       "\t<li>182</li>\n",
       "\t<li>2</li>\n",
       "</ol>\n"
      ],
      "text/latex": [
       "\\begin{enumerate*}\n",
       "\\item 182\n",
       "\\item 2\n",
       "\\end{enumerate*}\n"
      ],
      "text/markdown": [
       "1. 182\n",
       "2. 2\n",
       "\n",
       "\n"
      ],
      "text/plain": [
       "[1] 182   2"
      ]
     },
     "metadata": {},
     "output_type": "display_data"
    },
    {
     "data": {
      "text/html": [
       "<ol class=list-inline>\n",
       "\t<li>182</li>\n",
       "\t<li>10</li>\n",
       "</ol>\n"
      ],
      "text/latex": [
       "\\begin{enumerate*}\n",
       "\\item 182\n",
       "\\item 10\n",
       "\\end{enumerate*}\n"
      ],
      "text/markdown": [
       "1. 182\n",
       "2. 10\n",
       "\n",
       "\n"
      ],
      "text/plain": [
       "[1] 182  10"
      ]
     },
     "metadata": {},
     "output_type": "display_data"
    }
   ],
   "source": [
    "dim(X)\n",
    "dim(Y)"
   ]
  },
  {
   "cell_type": "code",
   "execution_count": 12,
   "metadata": {},
   "outputs": [
    {
     "data": {
      "text/plain": [
       "  cage_number    exposure_type\n",
       " Min.   :5.000   Air:90       \n",
       " 1st Qu.:5.250   IHH:92       \n",
       " Median :6.000                \n",
       " Mean   :6.495                \n",
       " 3rd Qu.:7.750                \n",
       " Max.   :8.000                "
      ]
     },
     "metadata": {},
     "output_type": "display_data"
    }
   ],
   "source": [
    "summary(X)"
   ]
  },
  {
   "cell_type": "markdown",
   "metadata": {},
   "source": [
    "## RDA Analysis for Effect Size Calculation"
   ]
  },
  {
   "cell_type": "code",
   "execution_count": 15,
   "metadata": {
    "collapsed": true
   },
   "outputs": [],
   "source": [
    "mod1 <- rda(Y ~ 1, X)  # Model with intercept only\n",
    "mod2 <- rda(Y ~ ., X)  # Model with all explanatory variables"
   ]
  },
  {
   "cell_type": "code",
   "execution_count": 16,
   "metadata": {},
   "outputs": [
    {
     "name": "stdout",
     "output_type": "stream",
     "text": [
      "Step: R2.adj= 0 \n",
      "Call: Y ~ 1 \n",
      " \n",
      "                R2.adjusted\n",
      "<All variables>  0.06836575\n",
      "+ exposure_type  0.06158682\n",
      "+ cage_number    0.04791669\n",
      "<none>           0.00000000\n",
      "\n",
      "                Df    AIC      F Pr(>F)   \n",
      "+ exposure_type  1 1783.6 12.879  0.002 **\n",
      "---\n",
      "Signif. codes:  0 ‘***’ 0.001 ‘**’ 0.01 ‘*’ 0.05 ‘.’ 0.1 ‘ ’ 1\n",
      "\n",
      "Step: R2.adj= 0.06158682 \n",
      "Call: Y ~ exposure_type \n",
      " \n",
      "                R2.adjusted\n",
      "+ cage_number    0.06836575\n",
      "<All variables>  0.06836575\n",
      "<none>           0.06158682\n",
      "\n"
     ]
    }
   ],
   "source": [
    "mdl <- ordiR2step(mod1, mod2, perm.max = 1000)"
   ]
  },
  {
   "cell_type": "markdown",
   "metadata": {},
   "source": [
    "## Output Result"
   ]
  },
  {
   "cell_type": "code",
   "execution_count": 18,
   "metadata": {},
   "outputs": [
    {
     "data": {
      "text/html": [
       "<table>\n",
       "<thead><tr><th></th><th scope=col>R2.adj</th><th scope=col>Df</th><th scope=col>AIC</th><th scope=col>F</th><th scope=col>Pr(&gt;F)</th></tr></thead>\n",
       "<tbody>\n",
       "\t<tr><th scope=row>+ exposure_type</th><td>0.06158682</td><td> 1        </td><td>1783.632  </td><td>12.87879  </td><td>0.002     </td></tr>\n",
       "\t<tr><th scope=row>&lt;All variables&gt;</th><td>0.06836575</td><td>NA        </td><td>      NA  </td><td>      NA  </td><td>   NA     </td></tr>\n",
       "</tbody>\n",
       "</table>\n"
      ],
      "text/latex": [
       "\\begin{tabular}{r|lllll}\n",
       "  & R2.adj & Df & AIC & F & Pr(>F)\\\\\n",
       "\\hline\n",
       "\t+ exposure\\_type & 0.06158682 &  1         & 1783.632   & 12.87879   & 0.002     \\\\\n",
       "\t<All variables> & 0.06836575 & NA         &       NA   &       NA   &    NA     \\\\\n",
       "\\end{tabular}\n"
      ],
      "text/markdown": [
       "\n",
       "| <!--/--> | R2.adj | Df | AIC | F | Pr(>F) | \n",
       "|---|---|\n",
       "| + exposure_type | 0.06158682 |  1         | 1783.632   | 12.87879   | 0.002      | \n",
       "| <All variables> | 0.06836575 | NA         |       NA   |       NA   |    NA      | \n",
       "\n",
       "\n"
      ],
      "text/plain": [
       "                R2.adj     Df AIC      F        Pr(>F)\n",
       "+ exposure_type 0.06158682  1 1783.632 12.87879 0.002 \n",
       "<All variables> 0.06836575 NA       NA       NA    NA "
      ]
     },
     "metadata": {},
     "output_type": "display_data"
    }
   ],
   "source": [
    "table = mdl$anova\n",
    "table"
   ]
  },
  {
   "cell_type": "code",
   "execution_count": null,
   "metadata": {
    "collapsed": true
   },
   "outputs": [],
   "source": [
    "                R2.adjusted\n",
    "<All variables>  0.06836575\n",
    "+ exposure_type  0.06158682\n",
    "+ cage_number    0.04791669\n",
    "<none>           0.00000000"
   ]
  },
  {
   "cell_type": "code",
   "execution_count": 19,
   "metadata": {},
   "outputs": [
    {
     "data": {
      "text/html": [
       "<table>\n",
       "<thead><tr><th></th><th scope=col>R2.adj</th><th scope=col>Df</th><th scope=col>AIC</th><th scope=col>F</th><th scope=col>Pr(&gt;F)</th><th scope=col>ES.independent</th><th scope=col>ES.RDA</th></tr></thead>\n",
       "<tbody>\n",
       "\t<tr><th scope=row>+ exposure_type</th><td>0.06158682 </td><td> 1         </td><td>1783.632   </td><td>12.87879   </td><td>0.002      </td><td>0.06158682 </td><td>0.061586816</td></tr>\n",
       "\t<tr><th scope=row>&lt;All variables&gt;</th><td>0.06836575 </td><td>NA         </td><td>      NA   </td><td>      NA   </td><td>   NA      </td><td>0.06836575 </td><td>0.006778934</td></tr>\n",
       "</tbody>\n",
       "</table>\n"
      ],
      "text/latex": [
       "\\begin{tabular}{r|lllllll}\n",
       "  & R2.adj & Df & AIC & F & Pr(>F) & ES.independent & ES.RDA\\\\\n",
       "\\hline\n",
       "\t+ exposure\\_type & 0.06158682  &  1          & 1783.632    & 12.87879    & 0.002       & 0.06158682  & 0.061586816\\\\\n",
       "\t<All variables> & 0.06836575  & NA          &       NA    &       NA    &    NA       & 0.06836575  & 0.006778934\\\\\n",
       "\\end{tabular}\n"
      ],
      "text/markdown": [
       "\n",
       "| <!--/--> | R2.adj | Df | AIC | F | Pr(>F) | ES.independent | ES.RDA | \n",
       "|---|---|\n",
       "| + exposure_type | 0.06158682  |  1          | 1783.632    | 12.87879    | 0.002       | 0.06158682  | 0.061586816 | \n",
       "| <All variables> | 0.06836575  | NA          |       NA    |       NA    |    NA       | 0.06836575  | 0.006778934 | \n",
       "\n",
       "\n"
      ],
      "text/plain": [
       "                R2.adj     Df AIC      F        Pr(>F) ES.independent\n",
       "+ exposure_type 0.06158682  1 1783.632 12.87879 0.002  0.06158682    \n",
       "<All variables> 0.06836575 NA       NA       NA    NA  0.06836575    \n",
       "                ES.RDA     \n",
       "+ exposure_type 0.061586816\n",
       "<All variables> 0.006778934"
      ]
     },
     "metadata": {},
     "output_type": "display_data"
    }
   ],
   "source": [
    "table$ES.independent = c(0.06158682, 0.06836575)\n",
    "table$ES.RDA = c(table$R2.adj[1], table$R2.adj[2]-table$R2.adj[1])\n",
    "table"
   ]
  },
  {
   "cell_type": "code",
   "execution_count": null,
   "metadata": {
    "collapsed": true
   },
   "outputs": [],
   "source": []
  }
 ],
 "metadata": {
  "kernelspec": {
   "display_name": "R",
   "language": "R",
   "name": "ir"
  },
  "language_info": {
   "codemirror_mode": "r",
   "file_extension": ".r",
   "mimetype": "text/x-r-source",
   "name": "R",
   "pygments_lexer": "r",
   "version": "3.2.4"
  }
 },
 "nbformat": 4,
 "nbformat_minor": 2
}
