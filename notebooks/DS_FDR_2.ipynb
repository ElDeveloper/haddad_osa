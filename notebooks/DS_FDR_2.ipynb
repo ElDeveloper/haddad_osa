{
 "cells": [
  {
   "cell_type": "code",
   "execution_count": 1,
   "metadata": {
    "collapsed": true
   },
   "outputs": [],
   "source": [
    "# for haddad_6week_allFeatures_sampMatch_norm_rare2k_hdf5"
   ]
  },
  {
   "cell_type": "code",
   "execution_count": 2,
   "metadata": {
    "collapsed": true
   },
   "outputs": [],
   "source": [
    "import numpy as np\n",
    "import pandas as pd\n",
    "from biom import load_table\n",
    "from gneiss.util import match\n",
    "\n",
    "import matplotlib.pyplot as plt\n",
    "%matplotlib inline"
   ]
  },
  {
   "cell_type": "code",
   "execution_count": 3,
   "metadata": {
    "collapsed": true
   },
   "outputs": [],
   "source": [
    "from dsfdr import dsfdr\n",
    "from dsfdr import simulation\n",
    "from dsfdr import statistics\n",
    "from dsfdr import transform"
   ]
  },
  {
   "cell_type": "code",
   "execution_count": 4,
   "metadata": {
    "collapsed": true
   },
   "outputs": [],
   "source": [
    "## load biom table"
   ]
  },
  {
   "cell_type": "code",
   "execution_count": 5,
   "metadata": {
    "collapsed": true
   },
   "outputs": [],
   "source": [
    "def convert_biom_to_pandas(table):\n",
    "    otu_table = pd.DataFrame(np.array(table.matrix_data.todense()).T,\n",
    "                             index=table.ids(axis='sample'),\n",
    "                             columns=table.ids(axis='observation'))\n",
    "    return otu_table"
   ]
  },
  {
   "cell_type": "code",
   "execution_count": 6,
   "metadata": {
    "collapsed": true
   },
   "outputs": [],
   "source": [
    "table = load_table('../../data/haddad_6week_allFeatures_sampMatch_norm_rare2k_hdf5.biom')\n",
    "otu_table = convert_biom_to_pandas(table)"
   ]
  },
  {
   "cell_type": "code",
   "execution_count": 7,
   "metadata": {},
   "outputs": [
    {
     "data": {
      "text/html": [
       "<div>\n",
       "<style>\n",
       "    .dataframe thead tr:only-child th {\n",
       "        text-align: right;\n",
       "    }\n",
       "\n",
       "    .dataframe thead th {\n",
       "        text-align: left;\n",
       "    }\n",
       "\n",
       "    .dataframe tbody tr th {\n",
       "        vertical-align: top;\n",
       "    }\n",
       "</style>\n",
       "<table border=\"1\" class=\"dataframe\">\n",
       "  <thead>\n",
       "    <tr style=\"text-align: right;\">\n",
       "      <th></th>\n",
       "      <th>132.1020924_0.449153766</th>\n",
       "      <th>166.0862755_0.585879327</th>\n",
       "      <th>357.2784139_5.010000161</th>\n",
       "      <th>104.1070008_0.335921715</th>\n",
       "      <th>373.2735012_3.97918766</th>\n",
       "      <th>496.3397537_5.193326248</th>\n",
       "      <th>118.0863174_0.376440304</th>\n",
       "      <th>373.2734876_4.338406811</th>\n",
       "      <th>86.09642685_0.447378365</th>\n",
       "      <th>391.2841105_4.130280369</th>\n",
       "      <th>...</th>\n",
       "      <th>186.1128693_2.558739333</th>\n",
       "      <th>218.1388063_2.565294444</th>\n",
       "      <th>127.1119397_2.218331567</th>\n",
       "      <th>176.0377626_1.846640909</th>\n",
       "      <th>144.0836803_0.989505556</th>\n",
       "      <th>146.0604976_2.344461681</th>\n",
       "      <th>148.0758861_2.63692963</th>\n",
       "      <th>111.0458191_0.315484568</th>\n",
       "      <th>224.092138_1.512663978</th>\n",
       "      <th>181.0611441_1.222565789</th>\n",
       "    </tr>\n",
       "  </thead>\n",
       "  <tbody>\n",
       "    <tr>\n",
       "      <th>10422.17.F.10</th>\n",
       "      <td>2379.403416</td>\n",
       "      <td>1201.366475</td>\n",
       "      <td>610.363039</td>\n",
       "      <td>826.167771</td>\n",
       "      <td>495.320254</td>\n",
       "      <td>593.378401</td>\n",
       "      <td>446.573375</td>\n",
       "      <td>510.036563</td>\n",
       "      <td>365.878086</td>\n",
       "      <td>411.027445</td>\n",
       "      <td>...</td>\n",
       "      <td>0.004542</td>\n",
       "      <td>0.005258</td>\n",
       "      <td>0.009568</td>\n",
       "      <td>0.0</td>\n",
       "      <td>0.0</td>\n",
       "      <td>0.000000</td>\n",
       "      <td>0.002785</td>\n",
       "      <td>0.000000</td>\n",
       "      <td>0.000000</td>\n",
       "      <td>0.000000</td>\n",
       "    </tr>\n",
       "    <tr>\n",
       "      <th>10422.17.F.11</th>\n",
       "      <td>3503.737675</td>\n",
       "      <td>2210.429967</td>\n",
       "      <td>731.395632</td>\n",
       "      <td>842.625840</td>\n",
       "      <td>1030.821247</td>\n",
       "      <td>247.931741</td>\n",
       "      <td>595.781004</td>\n",
       "      <td>547.589285</td>\n",
       "      <td>590.431693</td>\n",
       "      <td>550.347755</td>\n",
       "      <td>...</td>\n",
       "      <td>0.029633</td>\n",
       "      <td>0.014660</td>\n",
       "      <td>0.006689</td>\n",
       "      <td>0.0</td>\n",
       "      <td>0.0</td>\n",
       "      <td>0.000000</td>\n",
       "      <td>0.005719</td>\n",
       "      <td>0.000000</td>\n",
       "      <td>0.000000</td>\n",
       "      <td>0.000000</td>\n",
       "    </tr>\n",
       "    <tr>\n",
       "      <th>10422.17.F.12</th>\n",
       "      <td>1556.621366</td>\n",
       "      <td>746.503619</td>\n",
       "      <td>719.316828</td>\n",
       "      <td>346.763089</td>\n",
       "      <td>834.251291</td>\n",
       "      <td>218.191664</td>\n",
       "      <td>272.419137</td>\n",
       "      <td>458.135332</td>\n",
       "      <td>239.331214</td>\n",
       "      <td>433.900551</td>\n",
       "      <td>...</td>\n",
       "      <td>0.008574</td>\n",
       "      <td>0.000000</td>\n",
       "      <td>0.006959</td>\n",
       "      <td>0.0</td>\n",
       "      <td>0.0</td>\n",
       "      <td>0.000000</td>\n",
       "      <td>0.000000</td>\n",
       "      <td>0.000000</td>\n",
       "      <td>0.009642</td>\n",
       "      <td>0.000000</td>\n",
       "    </tr>\n",
       "    <tr>\n",
       "      <th>10422.17.F.13</th>\n",
       "      <td>2258.819506</td>\n",
       "      <td>1287.312528</td>\n",
       "      <td>679.733775</td>\n",
       "      <td>809.619996</td>\n",
       "      <td>899.478175</td>\n",
       "      <td>655.524295</td>\n",
       "      <td>401.276209</td>\n",
       "      <td>440.294614</td>\n",
       "      <td>384.202976</td>\n",
       "      <td>418.461368</td>\n",
       "      <td>...</td>\n",
       "      <td>0.032288</td>\n",
       "      <td>0.000000</td>\n",
       "      <td>0.000000</td>\n",
       "      <td>0.0</td>\n",
       "      <td>0.0</td>\n",
       "      <td>0.008206</td>\n",
       "      <td>0.000000</td>\n",
       "      <td>0.000000</td>\n",
       "      <td>0.000000</td>\n",
       "      <td>0.000000</td>\n",
       "    </tr>\n",
       "    <tr>\n",
       "      <th>10422.17.F.3</th>\n",
       "      <td>1283.597075</td>\n",
       "      <td>686.039592</td>\n",
       "      <td>448.487685</td>\n",
       "      <td>344.161721</td>\n",
       "      <td>338.302811</td>\n",
       "      <td>675.748067</td>\n",
       "      <td>274.193477</td>\n",
       "      <td>453.655342</td>\n",
       "      <td>215.747289</td>\n",
       "      <td>252.909432</td>\n",
       "      <td>...</td>\n",
       "      <td>0.003569</td>\n",
       "      <td>0.000000</td>\n",
       "      <td>0.000000</td>\n",
       "      <td>0.0</td>\n",
       "      <td>0.0</td>\n",
       "      <td>0.000000</td>\n",
       "      <td>0.000000</td>\n",
       "      <td>0.005337</td>\n",
       "      <td>0.000000</td>\n",
       "      <td>0.004605</td>\n",
       "    </tr>\n",
       "  </tbody>\n",
       "</table>\n",
       "<p>5 rows × 1611 columns</p>\n",
       "</div>"
      ],
      "text/plain": [
       "               132.1020924_0.449153766  166.0862755_0.585879327  \\\n",
       "10422.17.F.10              2379.403416              1201.366475   \n",
       "10422.17.F.11              3503.737675              2210.429967   \n",
       "10422.17.F.12              1556.621366               746.503619   \n",
       "10422.17.F.13              2258.819506              1287.312528   \n",
       "10422.17.F.3               1283.597075               686.039592   \n",
       "\n",
       "               357.2784139_5.010000161  104.1070008_0.335921715  \\\n",
       "10422.17.F.10               610.363039               826.167771   \n",
       "10422.17.F.11               731.395632               842.625840   \n",
       "10422.17.F.12               719.316828               346.763089   \n",
       "10422.17.F.13               679.733775               809.619996   \n",
       "10422.17.F.3                448.487685               344.161721   \n",
       "\n",
       "               373.2735012_3.97918766  496.3397537_5.193326248  \\\n",
       "10422.17.F.10              495.320254               593.378401   \n",
       "10422.17.F.11             1030.821247               247.931741   \n",
       "10422.17.F.12              834.251291               218.191664   \n",
       "10422.17.F.13              899.478175               655.524295   \n",
       "10422.17.F.3               338.302811               675.748067   \n",
       "\n",
       "               118.0863174_0.376440304  373.2734876_4.338406811  \\\n",
       "10422.17.F.10               446.573375               510.036563   \n",
       "10422.17.F.11               595.781004               547.589285   \n",
       "10422.17.F.12               272.419137               458.135332   \n",
       "10422.17.F.13               401.276209               440.294614   \n",
       "10422.17.F.3                274.193477               453.655342   \n",
       "\n",
       "               86.09642685_0.447378365  391.2841105_4.130280369  \\\n",
       "10422.17.F.10               365.878086               411.027445   \n",
       "10422.17.F.11               590.431693               550.347755   \n",
       "10422.17.F.12               239.331214               433.900551   \n",
       "10422.17.F.13               384.202976               418.461368   \n",
       "10422.17.F.3                215.747289               252.909432   \n",
       "\n",
       "                        ...             186.1128693_2.558739333  \\\n",
       "10422.17.F.10           ...                            0.004542   \n",
       "10422.17.F.11           ...                            0.029633   \n",
       "10422.17.F.12           ...                            0.008574   \n",
       "10422.17.F.13           ...                            0.032288   \n",
       "10422.17.F.3            ...                            0.003569   \n",
       "\n",
       "               218.1388063_2.565294444  127.1119397_2.218331567  \\\n",
       "10422.17.F.10                 0.005258                 0.009568   \n",
       "10422.17.F.11                 0.014660                 0.006689   \n",
       "10422.17.F.12                 0.000000                 0.006959   \n",
       "10422.17.F.13                 0.000000                 0.000000   \n",
       "10422.17.F.3                  0.000000                 0.000000   \n",
       "\n",
       "               176.0377626_1.846640909  144.0836803_0.989505556  \\\n",
       "10422.17.F.10                      0.0                      0.0   \n",
       "10422.17.F.11                      0.0                      0.0   \n",
       "10422.17.F.12                      0.0                      0.0   \n",
       "10422.17.F.13                      0.0                      0.0   \n",
       "10422.17.F.3                       0.0                      0.0   \n",
       "\n",
       "               146.0604976_2.344461681  148.0758861_2.63692963  \\\n",
       "10422.17.F.10                 0.000000                0.002785   \n",
       "10422.17.F.11                 0.000000                0.005719   \n",
       "10422.17.F.12                 0.000000                0.000000   \n",
       "10422.17.F.13                 0.008206                0.000000   \n",
       "10422.17.F.3                  0.000000                0.000000   \n",
       "\n",
       "               111.0458191_0.315484568  224.092138_1.512663978  \\\n",
       "10422.17.F.10                 0.000000                0.000000   \n",
       "10422.17.F.11                 0.000000                0.000000   \n",
       "10422.17.F.12                 0.000000                0.009642   \n",
       "10422.17.F.13                 0.000000                0.000000   \n",
       "10422.17.F.3                  0.005337                0.000000   \n",
       "\n",
       "               181.0611441_1.222565789  \n",
       "10422.17.F.10                 0.000000  \n",
       "10422.17.F.11                 0.000000  \n",
       "10422.17.F.12                 0.000000  \n",
       "10422.17.F.13                 0.000000  \n",
       "10422.17.F.3                  0.004605  \n",
       "\n",
       "[5 rows x 1611 columns]"
      ]
     },
     "execution_count": 7,
     "metadata": {},
     "output_type": "execute_result"
    }
   ],
   "source": [
    "otu_table.head()"
   ]
  },
  {
   "cell_type": "code",
   "execution_count": 8,
   "metadata": {},
   "outputs": [
    {
     "data": {
      "text/plain": [
       "(182, 1611)"
      ]
     },
     "execution_count": 8,
     "metadata": {},
     "output_type": "execute_result"
    }
   ],
   "source": [
    "otu_table.shape"
   ]
  },
  {
   "cell_type": "code",
   "execution_count": 9,
   "metadata": {
    "collapsed": true
   },
   "outputs": [],
   "source": [
    "## load mapping file"
   ]
  },
  {
   "cell_type": "code",
   "execution_count": 10,
   "metadata": {
    "collapsed": true
   },
   "outputs": [],
   "source": [
    "mapping = pd.read_table(\"../../data/haddad_6week_metadata_sampMatch_rare2k.txt\", sep='\\t', header=0, index_col=0)"
   ]
  },
  {
   "cell_type": "code",
   "execution_count": 11,
   "metadata": {},
   "outputs": [
    {
     "data": {
      "text/plain": [
       "(182, 69)"
      ]
     },
     "execution_count": 11,
     "metadata": {},
     "output_type": "execute_result"
    }
   ],
   "source": [
    "mapping.shape"
   ]
  },
  {
   "cell_type": "code",
   "execution_count": 12,
   "metadata": {},
   "outputs": [
    {
     "data": {
      "text/html": [
       "<div>\n",
       "<style>\n",
       "    .dataframe thead tr:only-child th {\n",
       "        text-align: right;\n",
       "    }\n",
       "\n",
       "    .dataframe thead th {\n",
       "        text-align: left;\n",
       "    }\n",
       "\n",
       "    .dataframe tbody tr th {\n",
       "        vertical-align: top;\n",
       "    }\n",
       "</style>\n",
       "<table border=\"1\" class=\"dataframe\">\n",
       "  <thead>\n",
       "    <tr style=\"text-align: right;\">\n",
       "      <th></th>\n",
       "      <th>BarcodeSequence</th>\n",
       "      <th>LinkerPrimerSequence</th>\n",
       "      <th>center_name</th>\n",
       "      <th>experiment_design_description</th>\n",
       "      <th>extraction_robot</th>\n",
       "      <th>extractionkit_lot</th>\n",
       "      <th>instrument_model</th>\n",
       "      <th>library_construction_protocol</th>\n",
       "      <th>linker</th>\n",
       "      <th>mastermix_lot</th>\n",
       "      <th>...</th>\n",
       "      <th>physical_specimen_location</th>\n",
       "      <th>physical_specimen_remaining</th>\n",
       "      <th>sample_type</th>\n",
       "      <th>scientific_name</th>\n",
       "      <th>sex</th>\n",
       "      <th>title</th>\n",
       "      <th>weekly_cage_food_consumption</th>\n",
       "      <th>weight</th>\n",
       "      <th>weight_units</th>\n",
       "      <th>Description</th>\n",
       "    </tr>\n",
       "    <tr>\n",
       "      <th>#SampleID</th>\n",
       "      <th></th>\n",
       "      <th></th>\n",
       "      <th></th>\n",
       "      <th></th>\n",
       "      <th></th>\n",
       "      <th></th>\n",
       "      <th></th>\n",
       "      <th></th>\n",
       "      <th></th>\n",
       "      <th></th>\n",
       "      <th></th>\n",
       "      <th></th>\n",
       "      <th></th>\n",
       "      <th></th>\n",
       "      <th></th>\n",
       "      <th></th>\n",
       "      <th></th>\n",
       "      <th></th>\n",
       "      <th></th>\n",
       "      <th></th>\n",
       "      <th></th>\n",
       "    </tr>\n",
       "  </thead>\n",
       "  <tbody>\n",
       "    <tr>\n",
       "      <th>10422.17.F.10</th>\n",
       "      <td>GTTGTTCTGGGA</td>\n",
       "      <td>GTGTGCCAGCMGCCGCGGTAA</td>\n",
       "      <td>UCSDMI</td>\n",
       "      <td>Mouse cohort exposed to apnea and controls to ...</td>\n",
       "      <td>HOWE_KF1</td>\n",
       "      <td>PM16B24</td>\n",
       "      <td>Illumina HiSeq 2500</td>\n",
       "      <td>EMP 16S V4 protocol 515fbc, 806r</td>\n",
       "      <td>GT</td>\n",
       "      <td>14663</td>\n",
       "      <td>...</td>\n",
       "      <td>UCSD LBR -80 freezer</td>\n",
       "      <td>True</td>\n",
       "      <td>stool</td>\n",
       "      <td>mouse gut metagenome</td>\n",
       "      <td>male</td>\n",
       "      <td>OSA</td>\n",
       "      <td>Missing: Not provided</td>\n",
       "      <td>25.6</td>\n",
       "      <td>g</td>\n",
       "      <td>feces mouse 17 collection 10 of 13</td>\n",
       "    </tr>\n",
       "    <tr>\n",
       "      <th>10422.17.F.11</th>\n",
       "      <td>TGTGCTTGTAGG</td>\n",
       "      <td>GTGTGCCAGCMGCCGCGGTAA</td>\n",
       "      <td>UCSDMI</td>\n",
       "      <td>Mouse cohort exposed to apnea and controls to ...</td>\n",
       "      <td>HOWE_KF2</td>\n",
       "      <td>PM16B24</td>\n",
       "      <td>Illumina HiSeq 2500</td>\n",
       "      <td>EMP 16S V4 protocol 515fbc, 806r</td>\n",
       "      <td>GT</td>\n",
       "      <td>14663</td>\n",
       "      <td>...</td>\n",
       "      <td>UCSD LBR -80 freezer</td>\n",
       "      <td>True</td>\n",
       "      <td>stool</td>\n",
       "      <td>mouse gut metagenome</td>\n",
       "      <td>male</td>\n",
       "      <td>OSA</td>\n",
       "      <td>71.8</td>\n",
       "      <td>25.2</td>\n",
       "      <td>g</td>\n",
       "      <td>feces mouse 17 collection 11 of 13</td>\n",
       "    </tr>\n",
       "    <tr>\n",
       "      <th>10422.17.F.12</th>\n",
       "      <td>AGAATCCACCAC</td>\n",
       "      <td>GTGTGCCAGCMGCCGCGGTAA</td>\n",
       "      <td>UCSDMI</td>\n",
       "      <td>Mouse cohort exposed to apnea and controls to ...</td>\n",
       "      <td>HOWE_KF1</td>\n",
       "      <td>PM16B24</td>\n",
       "      <td>Illumina HiSeq 2500</td>\n",
       "      <td>EMP 16S V4 protocol 515fbc, 806r</td>\n",
       "      <td>GT</td>\n",
       "      <td>14663</td>\n",
       "      <td>...</td>\n",
       "      <td>UCSD LBR -80 freezer</td>\n",
       "      <td>True</td>\n",
       "      <td>stool</td>\n",
       "      <td>mouse gut metagenome</td>\n",
       "      <td>male</td>\n",
       "      <td>OSA</td>\n",
       "      <td>Missing: Not provided</td>\n",
       "      <td>25.7</td>\n",
       "      <td>g</td>\n",
       "      <td>feces mouse 17 collection 12 of 13</td>\n",
       "    </tr>\n",
       "    <tr>\n",
       "      <th>10422.17.F.13</th>\n",
       "      <td>CTGTAAAGGTTG</td>\n",
       "      <td>GTGTGCCAGCMGCCGCGGTAA</td>\n",
       "      <td>UCSDMI</td>\n",
       "      <td>Mouse cohort exposed to apnea and controls to ...</td>\n",
       "      <td>HOWE_KF2</td>\n",
       "      <td>PM16B24</td>\n",
       "      <td>Illumina HiSeq 2500</td>\n",
       "      <td>EMP 16S V4 protocol 515fbc, 806r</td>\n",
       "      <td>GT</td>\n",
       "      <td>14663</td>\n",
       "      <td>...</td>\n",
       "      <td>UCSD LBR -80 freezer</td>\n",
       "      <td>True</td>\n",
       "      <td>stool</td>\n",
       "      <td>mouse gut metagenome</td>\n",
       "      <td>male</td>\n",
       "      <td>OSA</td>\n",
       "      <td>71.7</td>\n",
       "      <td>26.3</td>\n",
       "      <td>g</td>\n",
       "      <td>final feces mouse 17 collection 13 of 13</td>\n",
       "    </tr>\n",
       "    <tr>\n",
       "      <th>10422.17.F.3</th>\n",
       "      <td>CTCCCGAGCTCC</td>\n",
       "      <td>GTGTGCCAGCMGCCGCGGTAA</td>\n",
       "      <td>UCSDMI</td>\n",
       "      <td>Mouse cohort exposed to apnea and controls to ...</td>\n",
       "      <td>HOWE_KF2</td>\n",
       "      <td>PM16B24</td>\n",
       "      <td>Illumina HiSeq 2500</td>\n",
       "      <td>EMP 16S V4 protocol 515fbc, 806r</td>\n",
       "      <td>GT</td>\n",
       "      <td>14663</td>\n",
       "      <td>...</td>\n",
       "      <td>UCSD LBR -80 freezer</td>\n",
       "      <td>True</td>\n",
       "      <td>stool</td>\n",
       "      <td>mouse gut metagenome</td>\n",
       "      <td>male</td>\n",
       "      <td>OSA</td>\n",
       "      <td>105.7</td>\n",
       "      <td>24.9</td>\n",
       "      <td>g</td>\n",
       "      <td>feces mouse 17 collection 3 of 13</td>\n",
       "    </tr>\n",
       "  </tbody>\n",
       "</table>\n",
       "<p>5 rows × 69 columns</p>\n",
       "</div>"
      ],
      "text/plain": [
       "              BarcodeSequence   LinkerPrimerSequence center_name  \\\n",
       "#SampleID                                                          \n",
       "10422.17.F.10    GTTGTTCTGGGA  GTGTGCCAGCMGCCGCGGTAA      UCSDMI   \n",
       "10422.17.F.11    TGTGCTTGTAGG  GTGTGCCAGCMGCCGCGGTAA      UCSDMI   \n",
       "10422.17.F.12    AGAATCCACCAC  GTGTGCCAGCMGCCGCGGTAA      UCSDMI   \n",
       "10422.17.F.13    CTGTAAAGGTTG  GTGTGCCAGCMGCCGCGGTAA      UCSDMI   \n",
       "10422.17.F.3     CTCCCGAGCTCC  GTGTGCCAGCMGCCGCGGTAA      UCSDMI   \n",
       "\n",
       "                                   experiment_design_description  \\\n",
       "#SampleID                                                          \n",
       "10422.17.F.10  Mouse cohort exposed to apnea and controls to ...   \n",
       "10422.17.F.11  Mouse cohort exposed to apnea and controls to ...   \n",
       "10422.17.F.12  Mouse cohort exposed to apnea and controls to ...   \n",
       "10422.17.F.13  Mouse cohort exposed to apnea and controls to ...   \n",
       "10422.17.F.3   Mouse cohort exposed to apnea and controls to ...   \n",
       "\n",
       "              extraction_robot extractionkit_lot     instrument_model  \\\n",
       "#SampleID                                                               \n",
       "10422.17.F.10         HOWE_KF1           PM16B24  Illumina HiSeq 2500   \n",
       "10422.17.F.11         HOWE_KF2           PM16B24  Illumina HiSeq 2500   \n",
       "10422.17.F.12         HOWE_KF1           PM16B24  Illumina HiSeq 2500   \n",
       "10422.17.F.13         HOWE_KF2           PM16B24  Illumina HiSeq 2500   \n",
       "10422.17.F.3          HOWE_KF2           PM16B24  Illumina HiSeq 2500   \n",
       "\n",
       "                  library_construction_protocol linker  mastermix_lot  \\\n",
       "#SampleID                                                               \n",
       "10422.17.F.10  EMP 16S V4 protocol 515fbc, 806r     GT          14663   \n",
       "10422.17.F.11  EMP 16S V4 protocol 515fbc, 806r     GT          14663   \n",
       "10422.17.F.12  EMP 16S V4 protocol 515fbc, 806r     GT          14663   \n",
       "10422.17.F.13  EMP 16S V4 protocol 515fbc, 806r     GT          14663   \n",
       "10422.17.F.3   EMP 16S V4 protocol 515fbc, 806r     GT          14663   \n",
       "\n",
       "                                 ...                     \\\n",
       "#SampleID                        ...                      \n",
       "10422.17.F.10                    ...                      \n",
       "10422.17.F.11                    ...                      \n",
       "10422.17.F.12                    ...                      \n",
       "10422.17.F.13                    ...                      \n",
       "10422.17.F.3                     ...                      \n",
       "\n",
       "              physical_specimen_location physical_specimen_remaining  \\\n",
       "#SampleID                                                              \n",
       "10422.17.F.10       UCSD LBR -80 freezer                        True   \n",
       "10422.17.F.11       UCSD LBR -80 freezer                        True   \n",
       "10422.17.F.12       UCSD LBR -80 freezer                        True   \n",
       "10422.17.F.13       UCSD LBR -80 freezer                        True   \n",
       "10422.17.F.3        UCSD LBR -80 freezer                        True   \n",
       "\n",
       "              sample_type       scientific_name   sex title  \\\n",
       "#SampleID                                                     \n",
       "10422.17.F.10       stool  mouse gut metagenome  male   OSA   \n",
       "10422.17.F.11       stool  mouse gut metagenome  male   OSA   \n",
       "10422.17.F.12       stool  mouse gut metagenome  male   OSA   \n",
       "10422.17.F.13       stool  mouse gut metagenome  male   OSA   \n",
       "10422.17.F.3        stool  mouse gut metagenome  male   OSA   \n",
       "\n",
       "              weekly_cage_food_consumption weight weight_units  \\\n",
       "#SampleID                                                        \n",
       "10422.17.F.10        Missing: Not provided   25.6            g   \n",
       "10422.17.F.11                         71.8   25.2            g   \n",
       "10422.17.F.12        Missing: Not provided   25.7            g   \n",
       "10422.17.F.13                         71.7   26.3            g   \n",
       "10422.17.F.3                         105.7   24.9            g   \n",
       "\n",
       "                                            Description  \n",
       "#SampleID                                                \n",
       "10422.17.F.10        feces mouse 17 collection 10 of 13  \n",
       "10422.17.F.11        feces mouse 17 collection 11 of 13  \n",
       "10422.17.F.12        feces mouse 17 collection 12 of 13  \n",
       "10422.17.F.13  final feces mouse 17 collection 13 of 13  \n",
       "10422.17.F.3          feces mouse 17 collection 3 of 13  \n",
       "\n",
       "[5 rows x 69 columns]"
      ]
     },
     "execution_count": 12,
     "metadata": {},
     "output_type": "execute_result"
    }
   ],
   "source": [
    "mapping.head()"
   ]
  },
  {
   "cell_type": "code",
   "execution_count": 13,
   "metadata": {},
   "outputs": [
    {
     "data": {
      "text/plain": [
       "IHH    92\n",
       "Air    90\n",
       "Name: exposure_type, dtype: int64"
      ]
     },
     "execution_count": 13,
     "metadata": {},
     "output_type": "execute_result"
    }
   ],
   "source": [
    "mapping.exposure_type.value_counts()"
   ]
  },
  {
   "cell_type": "code",
   "execution_count": 14,
   "metadata": {
    "collapsed": true
   },
   "outputs": [],
   "source": [
    "# match mapping file and biom table\n",
    "mapping, otu_table = match(mapping, otu_table)"
   ]
  },
  {
   "cell_type": "code",
   "execution_count": 15,
   "metadata": {},
   "outputs": [
    {
     "name": "stdout",
     "output_type": "stream",
     "text": [
      "(182, 69)\n",
      "(182, 1611)\n"
     ]
    }
   ],
   "source": [
    "print(mapping.shape)\n",
    "print(otu_table.shape)"
   ]
  },
  {
   "cell_type": "code",
   "execution_count": 16,
   "metadata": {
    "collapsed": true
   },
   "outputs": [],
   "source": [
    "# convert values in exposure_type to be integers\n",
    "labels = np.array((mapping['exposure_type'] == 'IHH').astype(int))"
   ]
  },
  {
   "cell_type": "code",
   "execution_count": 17,
   "metadata": {},
   "outputs": [
    {
     "data": {
      "text/plain": [
       "array([1, 1, 1, 0, 0, 1, 0, 0, 0, 1, 1, 1, 1, 0, 0, 1, 1, 1, 1, 0, 1, 0, 0,\n",
       "       0, 1, 1, 1, 1, 1, 0, 0, 1, 0, 0, 1, 1, 1, 0, 0, 1, 1, 1, 0, 0, 1, 0,\n",
       "       0, 1, 0, 0, 0, 0, 0, 1, 1, 1, 1, 0, 1, 0, 1, 1, 0, 1, 0, 0, 0, 0, 1,\n",
       "       0, 0, 0, 1, 0, 1, 1, 0, 0, 0, 0, 1, 1, 0, 1, 0, 1, 0, 1, 1, 0, 0, 0,\n",
       "       1, 1, 1, 1, 0, 0, 0, 1, 1, 1, 0, 0, 0, 0, 1, 1, 1, 1, 0, 1, 0, 1, 1,\n",
       "       0, 1, 1, 1, 1, 0, 0, 0, 0, 1, 0, 1, 0, 0, 0, 1, 0, 0, 1, 1, 0, 0, 1,\n",
       "       0, 1, 0, 0, 1, 1, 1, 1, 0, 0, 0, 1, 1, 1, 0, 1, 1, 1, 1, 1, 0, 1, 0,\n",
       "       0, 0, 0, 0, 0, 0, 1, 0, 1, 1, 1, 1, 0, 1, 0, 0, 0, 1, 1, 0, 1])"
      ]
     },
     "execution_count": 17,
     "metadata": {},
     "output_type": "execute_result"
    }
   ],
   "source": [
    "labels"
   ]
  },
  {
   "cell_type": "code",
   "execution_count": 18,
   "metadata": {
    "collapsed": true
   },
   "outputs": [],
   "source": [
    "# transpose otu_table to have OTUs as rows and samples as columns\n",
    "dat = np.transpose(np.array(otu_table))"
   ]
  },
  {
   "cell_type": "code",
   "execution_count": 19,
   "metadata": {},
   "outputs": [
    {
     "data": {
      "text/plain": [
       "(1611, 182)"
      ]
     },
     "execution_count": 19,
     "metadata": {},
     "output_type": "execute_result"
    }
   ],
   "source": [
    "dat.shape"
   ]
  },
  {
   "cell_type": "code",
   "execution_count": 20,
   "metadata": {
    "collapsed": true
   },
   "outputs": [],
   "source": [
    "# apply DS-FDR\n",
    "result = dsfdr.dsfdr(dat, labels, transform_type='rankdata', method='meandiff', alpha=0.01, numperm=10000, fdr_method='dsfdr')"
   ]
  },
  {
   "cell_type": "code",
   "execution_count": 21,
   "metadata": {
    "collapsed": true
   },
   "outputs": [],
   "source": [
    "rej = result[0]"
   ]
  },
  {
   "cell_type": "code",
   "execution_count": 22,
   "metadata": {},
   "outputs": [
    {
     "data": {
      "text/plain": [
       "351"
      ]
     },
     "execution_count": 22,
     "metadata": {},
     "output_type": "execute_result"
    }
   ],
   "source": [
    "# total number of significant hypotheses\n",
    "np.sum(rej)"
   ]
  },
  {
   "cell_type": "code",
   "execution_count": 23,
   "metadata": {
    "collapsed": true
   },
   "outputs": [],
   "source": [
    "s = pd.Series(rej, name='bools')"
   ]
  },
  {
   "cell_type": "code",
   "execution_count": 24,
   "metadata": {
    "collapsed": true
   },
   "outputs": [],
   "source": [
    "out = otu_table.T[s.values]"
   ]
  },
  {
   "cell_type": "code",
   "execution_count": 25,
   "metadata": {},
   "outputs": [
    {
     "data": {
      "text/html": [
       "<div>\n",
       "<style>\n",
       "    .dataframe thead tr:only-child th {\n",
       "        text-align: right;\n",
       "    }\n",
       "\n",
       "    .dataframe thead th {\n",
       "        text-align: left;\n",
       "    }\n",
       "\n",
       "    .dataframe tbody tr th {\n",
       "        vertical-align: top;\n",
       "    }\n",
       "</style>\n",
       "<table border=\"1\" class=\"dataframe\">\n",
       "  <thead>\n",
       "    <tr style=\"text-align: right;\">\n",
       "      <th></th>\n",
       "      <th>10422.20.F.12</th>\n",
       "      <th>10422.18.F.8</th>\n",
       "      <th>10422.24.F.12</th>\n",
       "      <th>10422.30.F.11</th>\n",
       "      <th>10422.30.F.6</th>\n",
       "      <th>10422.22.F.7</th>\n",
       "      <th>10422.28.F.7</th>\n",
       "      <th>10422.26.F.6</th>\n",
       "      <th>10422.28.F.9</th>\n",
       "      <th>10422.17.F.6</th>\n",
       "      <th>...</th>\n",
       "      <th>10422.22.F.1</th>\n",
       "      <th>10422.32.F.9</th>\n",
       "      <th>10422.24.F.7</th>\n",
       "      <th>10422.25.F.8</th>\n",
       "      <th>10422.32.F.4</th>\n",
       "      <th>10422.32.F.11</th>\n",
       "      <th>10422.22.F.13</th>\n",
       "      <th>10422.20.F.13</th>\n",
       "      <th>10422.29.F.12</th>\n",
       "      <th>10422.19.F.3</th>\n",
       "    </tr>\n",
       "  </thead>\n",
       "  <tbody>\n",
       "    <tr>\n",
       "      <th>357.2784139_5.010000161</th>\n",
       "      <td>471.516811</td>\n",
       "      <td>466.184544</td>\n",
       "      <td>965.771556</td>\n",
       "      <td>608.576768</td>\n",
       "      <td>428.536737</td>\n",
       "      <td>676.377070</td>\n",
       "      <td>790.394307</td>\n",
       "      <td>525.418796</td>\n",
       "      <td>306.929575</td>\n",
       "      <td>461.858126</td>\n",
       "      <td>...</td>\n",
       "      <td>95.268029</td>\n",
       "      <td>1005.750325</td>\n",
       "      <td>925.992319</td>\n",
       "      <td>201.490477</td>\n",
       "      <td>554.352759</td>\n",
       "      <td>942.430562</td>\n",
       "      <td>959.774888</td>\n",
       "      <td>789.577615</td>\n",
       "      <td>733.967777</td>\n",
       "      <td>1033.591612</td>\n",
       "    </tr>\n",
       "    <tr>\n",
       "      <th>104.1070008_0.335921715</th>\n",
       "      <td>282.540913</td>\n",
       "      <td>415.550085</td>\n",
       "      <td>582.838781</td>\n",
       "      <td>814.366252</td>\n",
       "      <td>479.484934</td>\n",
       "      <td>449.302453</td>\n",
       "      <td>776.874241</td>\n",
       "      <td>471.279717</td>\n",
       "      <td>1313.823335</td>\n",
       "      <td>457.259323</td>\n",
       "      <td>...</td>\n",
       "      <td>42.113443</td>\n",
       "      <td>1144.905767</td>\n",
       "      <td>515.907630</td>\n",
       "      <td>429.611577</td>\n",
       "      <td>462.740349</td>\n",
       "      <td>1283.368758</td>\n",
       "      <td>417.749250</td>\n",
       "      <td>596.656598</td>\n",
       "      <td>1154.225283</td>\n",
       "      <td>500.610255</td>\n",
       "    </tr>\n",
       "    <tr>\n",
       "      <th>373.2734876_4.338406811</th>\n",
       "      <td>335.838234</td>\n",
       "      <td>300.248547</td>\n",
       "      <td>617.216350</td>\n",
       "      <td>554.947815</td>\n",
       "      <td>349.477924</td>\n",
       "      <td>378.476594</td>\n",
       "      <td>310.028805</td>\n",
       "      <td>391.035439</td>\n",
       "      <td>124.976060</td>\n",
       "      <td>588.562637</td>\n",
       "      <td>...</td>\n",
       "      <td>11.900354</td>\n",
       "      <td>572.993917</td>\n",
       "      <td>441.900139</td>\n",
       "      <td>60.864032</td>\n",
       "      <td>435.145205</td>\n",
       "      <td>547.367003</td>\n",
       "      <td>721.205775</td>\n",
       "      <td>407.488364</td>\n",
       "      <td>393.772316</td>\n",
       "      <td>499.428623</td>\n",
       "    </tr>\n",
       "    <tr>\n",
       "      <th>391.2841105_4.130280369</th>\n",
       "      <td>320.407310</td>\n",
       "      <td>244.761076</td>\n",
       "      <td>474.402171</td>\n",
       "      <td>314.009202</td>\n",
       "      <td>259.442432</td>\n",
       "      <td>260.820510</td>\n",
       "      <td>361.539403</td>\n",
       "      <td>259.297379</td>\n",
       "      <td>265.004726</td>\n",
       "      <td>376.787628</td>\n",
       "      <td>...</td>\n",
       "      <td>27.509162</td>\n",
       "      <td>301.780426</td>\n",
       "      <td>488.518425</td>\n",
       "      <td>98.952514</td>\n",
       "      <td>319.816568</td>\n",
       "      <td>363.705202</td>\n",
       "      <td>513.624733</td>\n",
       "      <td>395.816150</td>\n",
       "      <td>303.364002</td>\n",
       "      <td>422.920611</td>\n",
       "    </tr>\n",
       "    <tr>\n",
       "      <th>283.2623651_5.462460306</th>\n",
       "      <td>55.839187</td>\n",
       "      <td>81.414177</td>\n",
       "      <td>283.158986</td>\n",
       "      <td>159.504809</td>\n",
       "      <td>75.491721</td>\n",
       "      <td>408.352450</td>\n",
       "      <td>567.898152</td>\n",
       "      <td>103.145224</td>\n",
       "      <td>668.824058</td>\n",
       "      <td>42.000612</td>\n",
       "      <td>...</td>\n",
       "      <td>126.556062</td>\n",
       "      <td>657.024703</td>\n",
       "      <td>170.917553</td>\n",
       "      <td>196.735251</td>\n",
       "      <td>307.379751</td>\n",
       "      <td>526.788578</td>\n",
       "      <td>217.352952</td>\n",
       "      <td>204.654271</td>\n",
       "      <td>411.542770</td>\n",
       "      <td>245.188247</td>\n",
       "    </tr>\n",
       "  </tbody>\n",
       "</table>\n",
       "<p>5 rows × 182 columns</p>\n",
       "</div>"
      ],
      "text/plain": [
       "                         10422.20.F.12  10422.18.F.8  10422.24.F.12  \\\n",
       "357.2784139_5.010000161     471.516811    466.184544     965.771556   \n",
       "104.1070008_0.335921715     282.540913    415.550085     582.838781   \n",
       "373.2734876_4.338406811     335.838234    300.248547     617.216350   \n",
       "391.2841105_4.130280369     320.407310    244.761076     474.402171   \n",
       "283.2623651_5.462460306      55.839187     81.414177     283.158986   \n",
       "\n",
       "                         10422.30.F.11  10422.30.F.6  10422.22.F.7  \\\n",
       "357.2784139_5.010000161     608.576768    428.536737    676.377070   \n",
       "104.1070008_0.335921715     814.366252    479.484934    449.302453   \n",
       "373.2734876_4.338406811     554.947815    349.477924    378.476594   \n",
       "391.2841105_4.130280369     314.009202    259.442432    260.820510   \n",
       "283.2623651_5.462460306     159.504809     75.491721    408.352450   \n",
       "\n",
       "                         10422.28.F.7  10422.26.F.6  10422.28.F.9  \\\n",
       "357.2784139_5.010000161    790.394307    525.418796    306.929575   \n",
       "104.1070008_0.335921715    776.874241    471.279717   1313.823335   \n",
       "373.2734876_4.338406811    310.028805    391.035439    124.976060   \n",
       "391.2841105_4.130280369    361.539403    259.297379    265.004726   \n",
       "283.2623651_5.462460306    567.898152    103.145224    668.824058   \n",
       "\n",
       "                         10422.17.F.6      ...       10422.22.F.1  \\\n",
       "357.2784139_5.010000161    461.858126      ...          95.268029   \n",
       "104.1070008_0.335921715    457.259323      ...          42.113443   \n",
       "373.2734876_4.338406811    588.562637      ...          11.900354   \n",
       "391.2841105_4.130280369    376.787628      ...          27.509162   \n",
       "283.2623651_5.462460306     42.000612      ...         126.556062   \n",
       "\n",
       "                         10422.32.F.9  10422.24.F.7  10422.25.F.8  \\\n",
       "357.2784139_5.010000161   1005.750325    925.992319    201.490477   \n",
       "104.1070008_0.335921715   1144.905767    515.907630    429.611577   \n",
       "373.2734876_4.338406811    572.993917    441.900139     60.864032   \n",
       "391.2841105_4.130280369    301.780426    488.518425     98.952514   \n",
       "283.2623651_5.462460306    657.024703    170.917553    196.735251   \n",
       "\n",
       "                         10422.32.F.4  10422.32.F.11  10422.22.F.13  \\\n",
       "357.2784139_5.010000161    554.352759     942.430562     959.774888   \n",
       "104.1070008_0.335921715    462.740349    1283.368758     417.749250   \n",
       "373.2734876_4.338406811    435.145205     547.367003     721.205775   \n",
       "391.2841105_4.130280369    319.816568     363.705202     513.624733   \n",
       "283.2623651_5.462460306    307.379751     526.788578     217.352952   \n",
       "\n",
       "                         10422.20.F.13  10422.29.F.12  10422.19.F.3  \n",
       "357.2784139_5.010000161     789.577615     733.967777   1033.591612  \n",
       "104.1070008_0.335921715     596.656598    1154.225283    500.610255  \n",
       "373.2734876_4.338406811     407.488364     393.772316    499.428623  \n",
       "391.2841105_4.130280369     395.816150     303.364002    422.920611  \n",
       "283.2623651_5.462460306     204.654271     411.542770    245.188247  \n",
       "\n",
       "[5 rows x 182 columns]"
      ]
     },
     "execution_count": 25,
     "metadata": {},
     "output_type": "execute_result"
    }
   ],
   "source": [
    "out.head()"
   ]
  },
  {
   "cell_type": "code",
   "execution_count": 26,
   "metadata": {
    "collapsed": true
   },
   "outputs": [],
   "source": [
    "out.reset_index(inplace=True)\n",
    "out.rename(columns={'index': '#featureID'}, inplace=True)"
   ]
  },
  {
   "cell_type": "code",
   "execution_count": 27,
   "metadata": {
    "collapsed": true
   },
   "outputs": [],
   "source": [
    "out.to_csv('../../results/features_dsfdr.tsv', sep='\\t', index=False)"
   ]
  }
 ],
 "metadata": {
  "kernelspec": {
   "display_name": "Python 3",
   "language": "python",
   "name": "python3"
  },
  "language_info": {
   "codemirror_mode": {
    "name": "ipython",
    "version": 3
   },
   "file_extension": ".py",
   "mimetype": "text/x-python",
   "name": "python",
   "nbconvert_exporter": "python",
   "pygments_lexer": "ipython3",
   "version": "3.5.3"
  }
 },
 "nbformat": 4,
 "nbformat_minor": 2
}
