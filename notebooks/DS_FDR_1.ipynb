{
 "cells": [
  {
   "cell_type": "code",
   "execution_count": 1,
   "metadata": {
    "collapsed": true
   },
   "outputs": [],
   "source": [
    "# for deblur_table_sotus_ucase_hdf5_rare2k"
   ]
  },
  {
   "cell_type": "code",
   "execution_count": 2,
   "metadata": {
    "collapsed": true
   },
   "outputs": [],
   "source": [
    "import numpy as np\n",
    "import pandas as pd\n",
    "from biom import load_table\n",
    "from gneiss.util import match\n",
    "\n",
    "import matplotlib.pyplot as plt\n",
    "%matplotlib inline"
   ]
  },
  {
   "cell_type": "code",
   "execution_count": 3,
   "metadata": {
    "collapsed": true
   },
   "outputs": [],
   "source": [
    "from dsfdr import dsfdr\n",
    "from dsfdr import simulation\n",
    "from dsfdr import statistics\n",
    "from dsfdr import transform"
   ]
  },
  {
   "cell_type": "code",
   "execution_count": 4,
   "metadata": {
    "collapsed": true
   },
   "outputs": [],
   "source": [
    "## load biom table"
   ]
  },
  {
   "cell_type": "code",
   "execution_count": 5,
   "metadata": {
    "collapsed": true
   },
   "outputs": [],
   "source": [
    "def convert_biom_to_pandas(table):\n",
    "    otu_table = pd.DataFrame(np.array(table.matrix_data.todense()).T,\n",
    "                             index=table.ids(axis='sample'),\n",
    "                             columns=table.ids(axis='observation'))\n",
    "    return otu_table"
   ]
  },
  {
   "cell_type": "code",
   "execution_count": 6,
   "metadata": {
    "collapsed": true
   },
   "outputs": [],
   "source": [
    "table = load_table('deblur_table_sotus_ucase_hdf5_rare2k.biom')\n",
    "otu_table = convert_biom_to_pandas(table)"
   ]
  },
  {
   "cell_type": "code",
   "execution_count": 7,
   "metadata": {},
   "outputs": [
    {
     "data": {
      "text/html": [
       "<div>\n",
       "<style>\n",
       "    .dataframe thead tr:only-child th {\n",
       "        text-align: right;\n",
       "    }\n",
       "\n",
       "    .dataframe thead th {\n",
       "        text-align: left;\n",
       "    }\n",
       "\n",
       "    .dataframe tbody tr th {\n",
       "        vertical-align: top;\n",
       "    }\n",
       "</style>\n",
       "<table border=\"1\" class=\"dataframe\">\n",
       "  <thead>\n",
       "    <tr style=\"text-align: right;\">\n",
       "      <th></th>\n",
       "      <th>TACGGAGGATGCGAGCGTTATCCGGATTTATTGGGTTTAAAGGGTGCGTAGGCGGACTGTCAAGTCAGCGGTAAAATTGAGAGGCTCAACCTCTTCCCGCCGTTGAAACTGGTGGTCTTGAGTGGATGAGAAGTACGCGGAATGCGTGGT</th>\n",
       "      <th>TACGGAGGATGCGAGCGTTATCCGGATTTATTGGGTTTAAAGGGTGCGTAGGCGGACAGTTAAGTCAGCGGTAAAATTGAGAGGCTCAACCTCTTCCCGCCGTTGAAACTGATTGTCTTGAGTGGGCGAGAAGTATGCGGAATGCGTGGT</th>\n",
       "      <th>TACGTAGGTGGCGAGCGTTATCCGGAATGATTGGGCGTAAAGGGTGCGCAGGCGGTCCTGCAAGTCTGGAGTGAAACGCATGAGCTCAACTCATGCATGGCTTTGGAAACTGGAGGACTGGAGAGCAGGAGAGGGCGGTGGAACTCCATG</th>\n",
       "      <th>TACGTAGGTGGCAAGCGTTATCCGGAATTATTGGGCGTAAAGAGGGAGCAGGCGGCAGCAAAGGTCTGTGGTGAAAGACTGAAGCTTAACTTCAGTAAGCCATAGAAACCGGGCAGCTAGAGTGCAGGAGAGGATCGTGGAATTCCATGT</th>\n",
       "      <th>TACGTAGGGGGCAAGCGTTATCCGGATTTACTGGGTGTAAAGGGGGCGCAGACGGCGATGCAAGCCAGGAGTGAAAGCCCGGGGCCCAACCCCGGGACTGCTCTTGGAACTGCGTGGCTGGAGTGCAGGAGGGGCAGGCGGAATTCCTGG</th>\n",
       "      <th>TACGGAGGATGCGAGCGTTATCCGGATTTATTGGGTTTAAAGGGTGCGTAGGCGGTCCGTTAAGTCAGCGGTAAAATTGCGGGGCTCAACCCCGTCGAGCCGTTGAAACTGGCAGACTTGAGTTGGCGAGAAGTACGCGGAATGCGCGGT</th>\n",
       "      <th>TACGTATGGAGCAAGCGTTATCCGGATTTACTGGGTGTAAAGGGAGCGTAGGCGGCCTGCCAAGTCTGATGTGAAATACCGGGGCTCAACCCCGGGGCTGCATTGGAAACTGGCAGGCTGGAGTGTCGGAGAGGCAGGCGGAATTCCTAG</th>\n",
       "      <th>TACGTAGGTGGCAAGCGTTATCCGGATTTACTGGGTGTAAAGGGCGTGTAGGCGGGAAAGCAAGTCAGATGTGAAAACCATGGGCTCAACCTGTGGCCTGCATTTGAAACTGTTTTTCTTGAGTACTGGAGAGGCAGACGGAATTCCTAG</th>\n",
       "      <th>TACGGAGGATGCGAGCGTTATCCGGATTTATTGGGTTTAAAGGGTGCGCAGGCGGACTCTCAAGTCAGCGGTCAAATCGCGGGGCTCAACCCCGTTCCGCCGTTGAAACTGGGAGCCTTGAGTGCGCGAGAAGTAGGCGGAATGCGTGGT</th>\n",
       "      <th>TACGTAGGGGGCAAGCGTTATCCGGATTTACTGGGTGTAAAGGGAGCGTAGACGGTGATGCAAGTCTGAAGTGAAAGGCGGGGGCTCAACCCCCGGACTGCTTTGGAAACTGTATGACTGGAGTGCAGGAGAGGTAAGTGGAATTCCTAG</th>\n",
       "      <th>...</th>\n",
       "      <th>TACGGAGGATGCGAGCGTTATCCGGATTTATTGGGTTTAAAGGGTGCGCAGGCGGACTCTCAAGTCAGCGGTCAAATCGCGGGGCTCAACCCCGTTCCGCCGTTGAAACTGGTGGTCTTGAGTGGATGAGAAGTACGCGGAATGCGTGGT</th>\n",
       "      <th>TATAAGACAGATGTGAAATCCCCGGGCTCAACCTGGGACCTGCATTTGTGACTGTATCGCTAGAGTACGGTAGAGGGGGATGGAATTCCGCGTGTAGCAGTGAAATGCGTAGATATGCGGAGGAACACCGATGGCGAAGGCAATCCCCTG</th>\n",
       "      <th>TACGTAGGGTGCAAGCGTTAATCGGAATTACTGGGCGTAAAGCGTGCGCAGGCGGTATGTAAGACAGTTGTGAAATCCCCGGGCTCAACCTGGGAACTGCATCTGTGACTGCATAGCTAGAGTACGGTAGAGTGGGATGGAATTCCGCGT</th>\n",
       "      <th>TACGTAGGGGGCAAGCGTTATCCGGATTTACTGGGTGTAAAGGGAGCGTAGACGGCCATGCAAGCCTGGAGTGAAAGCCCGGGGCCCAACCCCGGGACTGCTCTGGGAACTGTGCGGCTGGAGTGCGGGAGGGGCAGGCGGAATTCCTGG</th>\n",
       "      <th>TACGTAGGTGGCAAGCGTTATCCGGATTTACTGGGTGTAAAGGGCGTGTAGGCGGGAAAGCAAGTCAGATGTGAAAACCATGGGCTCAACCTGTGGCCTGCATTTGAAACTGTTTTTCTTGAGTACTGGAGAGGCAGACGGACTTCCTAG</th>\n",
       "      <th>TACGGAGGATGCGAGCGTTATCCGGATTTATTGGGTTTAAAGGGTGCGTAGGCGGACTGTCAAGTCAGCGGTCAAATCGCGGGGCTCAACCCCGTTCCGCCGTTGAAACTGGGAGCCTTGAGTGCGCGAGAAGTAGGCGGAATGCGTGGT</th>\n",
       "      <th>TACGTAGGTGGCAAGCGTTATCCGGAATTATTGGGCGTAAAGCGCGCGTAGGCGGTTTCTTAAGTCTGATGTGAAAGCCCACGGCTCAACCGTGGAGGGTCATTGGAAGCTGGGAAACTTGAGTGCAGAAGAGGAGAGTGGAATTCCATG</th>\n",
       "      <th>TACGTAGGGTGCGAGCGTTGTCCGGAATTATTGGGCGTAAAGAGCTTGTAGGCGGTTTGTCGCGTCTGCTGTGAAAGACCGGGGCGTAACTCCGGTTCTGCAGTGGGTACGGGCAGACTAGAGTGTGGTAGGGGAGACTGGAATTCCTGG</th>\n",
       "      <th>TACGTAGGGTGCGAGCGTTAATCGGAATTACTGGGCGTAAAGCGTGCGCAGGCGGCTTTGCAAGACAGATGTGAAATCCCCGGGCTCAACCTGGGAGCTGCATTTGTGACTGCAAGGCTAGAGTACGGCAGAGGGGGATGGAATTCCGCG</th>\n",
       "      <th>TACGTAGGGTGCAAGCGTTAATCGGAATTACTGGGCGTAAAGAGTGCGCAGGCGGTTTTGCAAGACCGATGTGAAATCCCCGGGCTTAACCTGGGAACTGCATTGGTGACTGCAAGGCTAGAGTGTGTCAGAGGGAGGTGGAATTCCGCA</th>\n",
       "    </tr>\n",
       "  </thead>\n",
       "  <tbody>\n",
       "    <tr>\n",
       "      <th>10422.17.F.10</th>\n",
       "      <td>837.0</td>\n",
       "      <td>397.0</td>\n",
       "      <td>0.0</td>\n",
       "      <td>123.0</td>\n",
       "      <td>111.0</td>\n",
       "      <td>82.0</td>\n",
       "      <td>0.0</td>\n",
       "      <td>8.0</td>\n",
       "      <td>44.0</td>\n",
       "      <td>0.0</td>\n",
       "      <td>...</td>\n",
       "      <td>0.0</td>\n",
       "      <td>0.0</td>\n",
       "      <td>0.0</td>\n",
       "      <td>0.0</td>\n",
       "      <td>0.0</td>\n",
       "      <td>0.0</td>\n",
       "      <td>0.0</td>\n",
       "      <td>0.0</td>\n",
       "      <td>0.0</td>\n",
       "      <td>0.0</td>\n",
       "    </tr>\n",
       "    <tr>\n",
       "      <th>10422.17.F.11</th>\n",
       "      <td>714.0</td>\n",
       "      <td>268.0</td>\n",
       "      <td>0.0</td>\n",
       "      <td>44.0</td>\n",
       "      <td>247.0</td>\n",
       "      <td>68.0</td>\n",
       "      <td>0.0</td>\n",
       "      <td>99.0</td>\n",
       "      <td>29.0</td>\n",
       "      <td>0.0</td>\n",
       "      <td>...</td>\n",
       "      <td>0.0</td>\n",
       "      <td>0.0</td>\n",
       "      <td>0.0</td>\n",
       "      <td>0.0</td>\n",
       "      <td>0.0</td>\n",
       "      <td>0.0</td>\n",
       "      <td>0.0</td>\n",
       "      <td>0.0</td>\n",
       "      <td>0.0</td>\n",
       "      <td>0.0</td>\n",
       "    </tr>\n",
       "    <tr>\n",
       "      <th>10422.17.F.12</th>\n",
       "      <td>642.0</td>\n",
       "      <td>266.0</td>\n",
       "      <td>0.0</td>\n",
       "      <td>35.0</td>\n",
       "      <td>342.0</td>\n",
       "      <td>59.0</td>\n",
       "      <td>0.0</td>\n",
       "      <td>53.0</td>\n",
       "      <td>27.0</td>\n",
       "      <td>0.0</td>\n",
       "      <td>...</td>\n",
       "      <td>0.0</td>\n",
       "      <td>0.0</td>\n",
       "      <td>0.0</td>\n",
       "      <td>0.0</td>\n",
       "      <td>0.0</td>\n",
       "      <td>0.0</td>\n",
       "      <td>0.0</td>\n",
       "      <td>0.0</td>\n",
       "      <td>0.0</td>\n",
       "      <td>0.0</td>\n",
       "    </tr>\n",
       "    <tr>\n",
       "      <th>10422.17.F.13</th>\n",
       "      <td>607.0</td>\n",
       "      <td>270.0</td>\n",
       "      <td>0.0</td>\n",
       "      <td>23.0</td>\n",
       "      <td>408.0</td>\n",
       "      <td>49.0</td>\n",
       "      <td>0.0</td>\n",
       "      <td>22.0</td>\n",
       "      <td>22.0</td>\n",
       "      <td>0.0</td>\n",
       "      <td>...</td>\n",
       "      <td>0.0</td>\n",
       "      <td>0.0</td>\n",
       "      <td>0.0</td>\n",
       "      <td>0.0</td>\n",
       "      <td>0.0</td>\n",
       "      <td>0.0</td>\n",
       "      <td>0.0</td>\n",
       "      <td>0.0</td>\n",
       "      <td>0.0</td>\n",
       "      <td>0.0</td>\n",
       "    </tr>\n",
       "    <tr>\n",
       "      <th>10422.17.F.3</th>\n",
       "      <td>528.0</td>\n",
       "      <td>276.0</td>\n",
       "      <td>0.0</td>\n",
       "      <td>129.0</td>\n",
       "      <td>297.0</td>\n",
       "      <td>43.0</td>\n",
       "      <td>0.0</td>\n",
       "      <td>17.0</td>\n",
       "      <td>23.0</td>\n",
       "      <td>0.0</td>\n",
       "      <td>...</td>\n",
       "      <td>0.0</td>\n",
       "      <td>0.0</td>\n",
       "      <td>0.0</td>\n",
       "      <td>0.0</td>\n",
       "      <td>0.0</td>\n",
       "      <td>0.0</td>\n",
       "      <td>0.0</td>\n",
       "      <td>0.0</td>\n",
       "      <td>0.0</td>\n",
       "      <td>0.0</td>\n",
       "    </tr>\n",
       "  </tbody>\n",
       "</table>\n",
       "<p>5 rows × 734 columns</p>\n",
       "</div>"
      ],
      "text/plain": [
       "               TACGGAGGATGCGAGCGTTATCCGGATTTATTGGGTTTAAAGGGTGCGTAGGCGGACTGTCAAGTCAGCGGTAAAATTGAGAGGCTCAACCTCTTCCCGCCGTTGAAACTGGTGGTCTTGAGTGGATGAGAAGTACGCGGAATGCGTGGT  \\\n",
       "10422.17.F.10                                              837.0                                                                                                        \n",
       "10422.17.F.11                                              714.0                                                                                                        \n",
       "10422.17.F.12                                              642.0                                                                                                        \n",
       "10422.17.F.13                                              607.0                                                                                                        \n",
       "10422.17.F.3                                               528.0                                                                                                        \n",
       "\n",
       "               TACGGAGGATGCGAGCGTTATCCGGATTTATTGGGTTTAAAGGGTGCGTAGGCGGACAGTTAAGTCAGCGGTAAAATTGAGAGGCTCAACCTCTTCCCGCCGTTGAAACTGATTGTCTTGAGTGGGCGAGAAGTATGCGGAATGCGTGGT  \\\n",
       "10422.17.F.10                                              397.0                                                                                                        \n",
       "10422.17.F.11                                              268.0                                                                                                        \n",
       "10422.17.F.12                                              266.0                                                                                                        \n",
       "10422.17.F.13                                              270.0                                                                                                        \n",
       "10422.17.F.3                                               276.0                                                                                                        \n",
       "\n",
       "               TACGTAGGTGGCGAGCGTTATCCGGAATGATTGGGCGTAAAGGGTGCGCAGGCGGTCCTGCAAGTCTGGAGTGAAACGCATGAGCTCAACTCATGCATGGCTTTGGAAACTGGAGGACTGGAGAGCAGGAGAGGGCGGTGGAACTCCATG  \\\n",
       "10422.17.F.10                                                0.0                                                                                                        \n",
       "10422.17.F.11                                                0.0                                                                                                        \n",
       "10422.17.F.12                                                0.0                                                                                                        \n",
       "10422.17.F.13                                                0.0                                                                                                        \n",
       "10422.17.F.3                                                 0.0                                                                                                        \n",
       "\n",
       "               TACGTAGGTGGCAAGCGTTATCCGGAATTATTGGGCGTAAAGAGGGAGCAGGCGGCAGCAAAGGTCTGTGGTGAAAGACTGAAGCTTAACTTCAGTAAGCCATAGAAACCGGGCAGCTAGAGTGCAGGAGAGGATCGTGGAATTCCATGT  \\\n",
       "10422.17.F.10                                              123.0                                                                                                        \n",
       "10422.17.F.11                                               44.0                                                                                                        \n",
       "10422.17.F.12                                               35.0                                                                                                        \n",
       "10422.17.F.13                                               23.0                                                                                                        \n",
       "10422.17.F.3                                               129.0                                                                                                        \n",
       "\n",
       "               TACGTAGGGGGCAAGCGTTATCCGGATTTACTGGGTGTAAAGGGGGCGCAGACGGCGATGCAAGCCAGGAGTGAAAGCCCGGGGCCCAACCCCGGGACTGCTCTTGGAACTGCGTGGCTGGAGTGCAGGAGGGGCAGGCGGAATTCCTGG  \\\n",
       "10422.17.F.10                                              111.0                                                                                                        \n",
       "10422.17.F.11                                              247.0                                                                                                        \n",
       "10422.17.F.12                                              342.0                                                                                                        \n",
       "10422.17.F.13                                              408.0                                                                                                        \n",
       "10422.17.F.3                                               297.0                                                                                                        \n",
       "\n",
       "               TACGGAGGATGCGAGCGTTATCCGGATTTATTGGGTTTAAAGGGTGCGTAGGCGGTCCGTTAAGTCAGCGGTAAAATTGCGGGGCTCAACCCCGTCGAGCCGTTGAAACTGGCAGACTTGAGTTGGCGAGAAGTACGCGGAATGCGCGGT  \\\n",
       "10422.17.F.10                                               82.0                                                                                                        \n",
       "10422.17.F.11                                               68.0                                                                                                        \n",
       "10422.17.F.12                                               59.0                                                                                                        \n",
       "10422.17.F.13                                               49.0                                                                                                        \n",
       "10422.17.F.3                                                43.0                                                                                                        \n",
       "\n",
       "               TACGTATGGAGCAAGCGTTATCCGGATTTACTGGGTGTAAAGGGAGCGTAGGCGGCCTGCCAAGTCTGATGTGAAATACCGGGGCTCAACCCCGGGGCTGCATTGGAAACTGGCAGGCTGGAGTGTCGGAGAGGCAGGCGGAATTCCTAG  \\\n",
       "10422.17.F.10                                                0.0                                                                                                        \n",
       "10422.17.F.11                                                0.0                                                                                                        \n",
       "10422.17.F.12                                                0.0                                                                                                        \n",
       "10422.17.F.13                                                0.0                                                                                                        \n",
       "10422.17.F.3                                                 0.0                                                                                                        \n",
       "\n",
       "               TACGTAGGTGGCAAGCGTTATCCGGATTTACTGGGTGTAAAGGGCGTGTAGGCGGGAAAGCAAGTCAGATGTGAAAACCATGGGCTCAACCTGTGGCCTGCATTTGAAACTGTTTTTCTTGAGTACTGGAGAGGCAGACGGAATTCCTAG  \\\n",
       "10422.17.F.10                                                8.0                                                                                                        \n",
       "10422.17.F.11                                               99.0                                                                                                        \n",
       "10422.17.F.12                                               53.0                                                                                                        \n",
       "10422.17.F.13                                               22.0                                                                                                        \n",
       "10422.17.F.3                                                17.0                                                                                                        \n",
       "\n",
       "               TACGGAGGATGCGAGCGTTATCCGGATTTATTGGGTTTAAAGGGTGCGCAGGCGGACTCTCAAGTCAGCGGTCAAATCGCGGGGCTCAACCCCGTTCCGCCGTTGAAACTGGGAGCCTTGAGTGCGCGAGAAGTAGGCGGAATGCGTGGT  \\\n",
       "10422.17.F.10                                               44.0                                                                                                        \n",
       "10422.17.F.11                                               29.0                                                                                                        \n",
       "10422.17.F.12                                               27.0                                                                                                        \n",
       "10422.17.F.13                                               22.0                                                                                                        \n",
       "10422.17.F.3                                                23.0                                                                                                        \n",
       "\n",
       "               TACGTAGGGGGCAAGCGTTATCCGGATTTACTGGGTGTAAAGGGAGCGTAGACGGTGATGCAAGTCTGAAGTGAAAGGCGGGGGCTCAACCCCCGGACTGCTTTGGAAACTGTATGACTGGAGTGCAGGAGAGGTAAGTGGAATTCCTAG  \\\n",
       "10422.17.F.10                                                0.0                                                                                                        \n",
       "10422.17.F.11                                                0.0                                                                                                        \n",
       "10422.17.F.12                                                0.0                                                                                                        \n",
       "10422.17.F.13                                                0.0                                                                                                        \n",
       "10422.17.F.3                                                 0.0                                                                                                        \n",
       "\n",
       "                                                                                        ...                                                                            \\\n",
       "10422.17.F.10                                                                           ...                                                                             \n",
       "10422.17.F.11                                                                           ...                                                                             \n",
       "10422.17.F.12                                                                           ...                                                                             \n",
       "10422.17.F.13                                                                           ...                                                                             \n",
       "10422.17.F.3                                                                            ...                                                                             \n",
       "\n",
       "               TACGGAGGATGCGAGCGTTATCCGGATTTATTGGGTTTAAAGGGTGCGCAGGCGGACTCTCAAGTCAGCGGTCAAATCGCGGGGCTCAACCCCGTTCCGCCGTTGAAACTGGTGGTCTTGAGTGGATGAGAAGTACGCGGAATGCGTGGT  \\\n",
       "10422.17.F.10                                                0.0                                                                                                        \n",
       "10422.17.F.11                                                0.0                                                                                                        \n",
       "10422.17.F.12                                                0.0                                                                                                        \n",
       "10422.17.F.13                                                0.0                                                                                                        \n",
       "10422.17.F.3                                                 0.0                                                                                                        \n",
       "\n",
       "               TATAAGACAGATGTGAAATCCCCGGGCTCAACCTGGGACCTGCATTTGTGACTGTATCGCTAGAGTACGGTAGAGGGGGATGGAATTCCGCGTGTAGCAGTGAAATGCGTAGATATGCGGAGGAACACCGATGGCGAAGGCAATCCCCTG  \\\n",
       "10422.17.F.10                                                0.0                                                                                                        \n",
       "10422.17.F.11                                                0.0                                                                                                        \n",
       "10422.17.F.12                                                0.0                                                                                                        \n",
       "10422.17.F.13                                                0.0                                                                                                        \n",
       "10422.17.F.3                                                 0.0                                                                                                        \n",
       "\n",
       "               TACGTAGGGTGCAAGCGTTAATCGGAATTACTGGGCGTAAAGCGTGCGCAGGCGGTATGTAAGACAGTTGTGAAATCCCCGGGCTCAACCTGGGAACTGCATCTGTGACTGCATAGCTAGAGTACGGTAGAGTGGGATGGAATTCCGCGT  \\\n",
       "10422.17.F.10                                                0.0                                                                                                        \n",
       "10422.17.F.11                                                0.0                                                                                                        \n",
       "10422.17.F.12                                                0.0                                                                                                        \n",
       "10422.17.F.13                                                0.0                                                                                                        \n",
       "10422.17.F.3                                                 0.0                                                                                                        \n",
       "\n",
       "               TACGTAGGGGGCAAGCGTTATCCGGATTTACTGGGTGTAAAGGGAGCGTAGACGGCCATGCAAGCCTGGAGTGAAAGCCCGGGGCCCAACCCCGGGACTGCTCTGGGAACTGTGCGGCTGGAGTGCGGGAGGGGCAGGCGGAATTCCTGG  \\\n",
       "10422.17.F.10                                                0.0                                                                                                        \n",
       "10422.17.F.11                                                0.0                                                                                                        \n",
       "10422.17.F.12                                                0.0                                                                                                        \n",
       "10422.17.F.13                                                0.0                                                                                                        \n",
       "10422.17.F.3                                                 0.0                                                                                                        \n",
       "\n",
       "               TACGTAGGTGGCAAGCGTTATCCGGATTTACTGGGTGTAAAGGGCGTGTAGGCGGGAAAGCAAGTCAGATGTGAAAACCATGGGCTCAACCTGTGGCCTGCATTTGAAACTGTTTTTCTTGAGTACTGGAGAGGCAGACGGACTTCCTAG  \\\n",
       "10422.17.F.10                                                0.0                                                                                                        \n",
       "10422.17.F.11                                                0.0                                                                                                        \n",
       "10422.17.F.12                                                0.0                                                                                                        \n",
       "10422.17.F.13                                                0.0                                                                                                        \n",
       "10422.17.F.3                                                 0.0                                                                                                        \n",
       "\n",
       "               TACGGAGGATGCGAGCGTTATCCGGATTTATTGGGTTTAAAGGGTGCGTAGGCGGACTGTCAAGTCAGCGGTCAAATCGCGGGGCTCAACCCCGTTCCGCCGTTGAAACTGGGAGCCTTGAGTGCGCGAGAAGTAGGCGGAATGCGTGGT  \\\n",
       "10422.17.F.10                                                0.0                                                                                                        \n",
       "10422.17.F.11                                                0.0                                                                                                        \n",
       "10422.17.F.12                                                0.0                                                                                                        \n",
       "10422.17.F.13                                                0.0                                                                                                        \n",
       "10422.17.F.3                                                 0.0                                                                                                        \n",
       "\n",
       "               TACGTAGGTGGCAAGCGTTATCCGGAATTATTGGGCGTAAAGCGCGCGTAGGCGGTTTCTTAAGTCTGATGTGAAAGCCCACGGCTCAACCGTGGAGGGTCATTGGAAGCTGGGAAACTTGAGTGCAGAAGAGGAGAGTGGAATTCCATG  \\\n",
       "10422.17.F.10                                                0.0                                                                                                        \n",
       "10422.17.F.11                                                0.0                                                                                                        \n",
       "10422.17.F.12                                                0.0                                                                                                        \n",
       "10422.17.F.13                                                0.0                                                                                                        \n",
       "10422.17.F.3                                                 0.0                                                                                                        \n",
       "\n",
       "               TACGTAGGGTGCGAGCGTTGTCCGGAATTATTGGGCGTAAAGAGCTTGTAGGCGGTTTGTCGCGTCTGCTGTGAAAGACCGGGGCGTAACTCCGGTTCTGCAGTGGGTACGGGCAGACTAGAGTGTGGTAGGGGAGACTGGAATTCCTGG  \\\n",
       "10422.17.F.10                                                0.0                                                                                                        \n",
       "10422.17.F.11                                                0.0                                                                                                        \n",
       "10422.17.F.12                                                0.0                                                                                                        \n",
       "10422.17.F.13                                                0.0                                                                                                        \n",
       "10422.17.F.3                                                 0.0                                                                                                        \n",
       "\n",
       "               TACGTAGGGTGCGAGCGTTAATCGGAATTACTGGGCGTAAAGCGTGCGCAGGCGGCTTTGCAAGACAGATGTGAAATCCCCGGGCTCAACCTGGGAGCTGCATTTGTGACTGCAAGGCTAGAGTACGGCAGAGGGGGATGGAATTCCGCG  \\\n",
       "10422.17.F.10                                                0.0                                                                                                        \n",
       "10422.17.F.11                                                0.0                                                                                                        \n",
       "10422.17.F.12                                                0.0                                                                                                        \n",
       "10422.17.F.13                                                0.0                                                                                                        \n",
       "10422.17.F.3                                                 0.0                                                                                                        \n",
       "\n",
       "               TACGTAGGGTGCAAGCGTTAATCGGAATTACTGGGCGTAAAGAGTGCGCAGGCGGTTTTGCAAGACCGATGTGAAATCCCCGGGCTTAACCTGGGAACTGCATTGGTGACTGCAAGGCTAGAGTGTGTCAGAGGGAGGTGGAATTCCGCA  \n",
       "10422.17.F.10                                                0.0                                                                                                       \n",
       "10422.17.F.11                                                0.0                                                                                                       \n",
       "10422.17.F.12                                                0.0                                                                                                       \n",
       "10422.17.F.13                                                0.0                                                                                                       \n",
       "10422.17.F.3                                                 0.0                                                                                                       \n",
       "\n",
       "[5 rows x 734 columns]"
      ]
     },
     "execution_count": 7,
     "metadata": {},
     "output_type": "execute_result"
    }
   ],
   "source": [
    "otu_table.head()"
   ]
  },
  {
   "cell_type": "code",
   "execution_count": 8,
   "metadata": {},
   "outputs": [
    {
     "data": {
      "text/plain": [
       "(182, 734)"
      ]
     },
     "execution_count": 8,
     "metadata": {},
     "output_type": "execute_result"
    }
   ],
   "source": [
    "otu_table.shape"
   ]
  },
  {
   "cell_type": "code",
   "execution_count": 9,
   "metadata": {
    "collapsed": true
   },
   "outputs": [],
   "source": [
    "## load mapping file"
   ]
  },
  {
   "cell_type": "code",
   "execution_count": 10,
   "metadata": {
    "collapsed": true
   },
   "outputs": [],
   "source": [
    "mapping = pd.read_table(\"haddad_6week_metadata_sampMatch_rare2k.txt\", sep='\\t', header=0, index_col=0)"
   ]
  },
  {
   "cell_type": "code",
   "execution_count": 11,
   "metadata": {},
   "outputs": [
    {
     "data": {
      "text/plain": [
       "(182, 69)"
      ]
     },
     "execution_count": 11,
     "metadata": {},
     "output_type": "execute_result"
    }
   ],
   "source": [
    "mapping.shape"
   ]
  },
  {
   "cell_type": "code",
   "execution_count": 12,
   "metadata": {},
   "outputs": [
    {
     "data": {
      "text/html": [
       "<div>\n",
       "<style>\n",
       "    .dataframe thead tr:only-child th {\n",
       "        text-align: right;\n",
       "    }\n",
       "\n",
       "    .dataframe thead th {\n",
       "        text-align: left;\n",
       "    }\n",
       "\n",
       "    .dataframe tbody tr th {\n",
       "        vertical-align: top;\n",
       "    }\n",
       "</style>\n",
       "<table border=\"1\" class=\"dataframe\">\n",
       "  <thead>\n",
       "    <tr style=\"text-align: right;\">\n",
       "      <th></th>\n",
       "      <th>BarcodeSequence</th>\n",
       "      <th>LinkerPrimerSequence</th>\n",
       "      <th>center_name</th>\n",
       "      <th>experiment_design_description</th>\n",
       "      <th>extraction_robot</th>\n",
       "      <th>extractionkit_lot</th>\n",
       "      <th>instrument_model</th>\n",
       "      <th>library_construction_protocol</th>\n",
       "      <th>linker</th>\n",
       "      <th>mastermix_lot</th>\n",
       "      <th>...</th>\n",
       "      <th>physical_specimen_location</th>\n",
       "      <th>physical_specimen_remaining</th>\n",
       "      <th>sample_type</th>\n",
       "      <th>scientific_name</th>\n",
       "      <th>sex</th>\n",
       "      <th>title</th>\n",
       "      <th>weekly_cage_food_consumption</th>\n",
       "      <th>weight</th>\n",
       "      <th>weight_units</th>\n",
       "      <th>Description</th>\n",
       "    </tr>\n",
       "    <tr>\n",
       "      <th>#SampleID</th>\n",
       "      <th></th>\n",
       "      <th></th>\n",
       "      <th></th>\n",
       "      <th></th>\n",
       "      <th></th>\n",
       "      <th></th>\n",
       "      <th></th>\n",
       "      <th></th>\n",
       "      <th></th>\n",
       "      <th></th>\n",
       "      <th></th>\n",
       "      <th></th>\n",
       "      <th></th>\n",
       "      <th></th>\n",
       "      <th></th>\n",
       "      <th></th>\n",
       "      <th></th>\n",
       "      <th></th>\n",
       "      <th></th>\n",
       "      <th></th>\n",
       "      <th></th>\n",
       "    </tr>\n",
       "  </thead>\n",
       "  <tbody>\n",
       "    <tr>\n",
       "      <th>10422.17.F.10</th>\n",
       "      <td>GTTGTTCTGGGA</td>\n",
       "      <td>GTGTGCCAGCMGCCGCGGTAA</td>\n",
       "      <td>UCSDMI</td>\n",
       "      <td>Mouse cohort exposed to apnea and controls to ...</td>\n",
       "      <td>HOWE_KF1</td>\n",
       "      <td>PM16B24</td>\n",
       "      <td>Illumina HiSeq 2500</td>\n",
       "      <td>EMP 16S V4 protocol 515fbc, 806r</td>\n",
       "      <td>GT</td>\n",
       "      <td>14663</td>\n",
       "      <td>...</td>\n",
       "      <td>UCSD LBR -80 freezer</td>\n",
       "      <td>True</td>\n",
       "      <td>stool</td>\n",
       "      <td>mouse gut metagenome</td>\n",
       "      <td>male</td>\n",
       "      <td>OSA</td>\n",
       "      <td>Missing: Not provided</td>\n",
       "      <td>25.6</td>\n",
       "      <td>g</td>\n",
       "      <td>feces mouse 17 collection 10 of 13</td>\n",
       "    </tr>\n",
       "    <tr>\n",
       "      <th>10422.17.F.11</th>\n",
       "      <td>TGTGCTTGTAGG</td>\n",
       "      <td>GTGTGCCAGCMGCCGCGGTAA</td>\n",
       "      <td>UCSDMI</td>\n",
       "      <td>Mouse cohort exposed to apnea and controls to ...</td>\n",
       "      <td>HOWE_KF2</td>\n",
       "      <td>PM16B24</td>\n",
       "      <td>Illumina HiSeq 2500</td>\n",
       "      <td>EMP 16S V4 protocol 515fbc, 806r</td>\n",
       "      <td>GT</td>\n",
       "      <td>14663</td>\n",
       "      <td>...</td>\n",
       "      <td>UCSD LBR -80 freezer</td>\n",
       "      <td>True</td>\n",
       "      <td>stool</td>\n",
       "      <td>mouse gut metagenome</td>\n",
       "      <td>male</td>\n",
       "      <td>OSA</td>\n",
       "      <td>71.8</td>\n",
       "      <td>25.2</td>\n",
       "      <td>g</td>\n",
       "      <td>feces mouse 17 collection 11 of 13</td>\n",
       "    </tr>\n",
       "    <tr>\n",
       "      <th>10422.17.F.12</th>\n",
       "      <td>AGAATCCACCAC</td>\n",
       "      <td>GTGTGCCAGCMGCCGCGGTAA</td>\n",
       "      <td>UCSDMI</td>\n",
       "      <td>Mouse cohort exposed to apnea and controls to ...</td>\n",
       "      <td>HOWE_KF1</td>\n",
       "      <td>PM16B24</td>\n",
       "      <td>Illumina HiSeq 2500</td>\n",
       "      <td>EMP 16S V4 protocol 515fbc, 806r</td>\n",
       "      <td>GT</td>\n",
       "      <td>14663</td>\n",
       "      <td>...</td>\n",
       "      <td>UCSD LBR -80 freezer</td>\n",
       "      <td>True</td>\n",
       "      <td>stool</td>\n",
       "      <td>mouse gut metagenome</td>\n",
       "      <td>male</td>\n",
       "      <td>OSA</td>\n",
       "      <td>Missing: Not provided</td>\n",
       "      <td>25.7</td>\n",
       "      <td>g</td>\n",
       "      <td>feces mouse 17 collection 12 of 13</td>\n",
       "    </tr>\n",
       "    <tr>\n",
       "      <th>10422.17.F.13</th>\n",
       "      <td>CTGTAAAGGTTG</td>\n",
       "      <td>GTGTGCCAGCMGCCGCGGTAA</td>\n",
       "      <td>UCSDMI</td>\n",
       "      <td>Mouse cohort exposed to apnea and controls to ...</td>\n",
       "      <td>HOWE_KF2</td>\n",
       "      <td>PM16B24</td>\n",
       "      <td>Illumina HiSeq 2500</td>\n",
       "      <td>EMP 16S V4 protocol 515fbc, 806r</td>\n",
       "      <td>GT</td>\n",
       "      <td>14663</td>\n",
       "      <td>...</td>\n",
       "      <td>UCSD LBR -80 freezer</td>\n",
       "      <td>True</td>\n",
       "      <td>stool</td>\n",
       "      <td>mouse gut metagenome</td>\n",
       "      <td>male</td>\n",
       "      <td>OSA</td>\n",
       "      <td>71.7</td>\n",
       "      <td>26.3</td>\n",
       "      <td>g</td>\n",
       "      <td>final feces mouse 17 collection 13 of 13</td>\n",
       "    </tr>\n",
       "    <tr>\n",
       "      <th>10422.17.F.3</th>\n",
       "      <td>CTCCCGAGCTCC</td>\n",
       "      <td>GTGTGCCAGCMGCCGCGGTAA</td>\n",
       "      <td>UCSDMI</td>\n",
       "      <td>Mouse cohort exposed to apnea and controls to ...</td>\n",
       "      <td>HOWE_KF2</td>\n",
       "      <td>PM16B24</td>\n",
       "      <td>Illumina HiSeq 2500</td>\n",
       "      <td>EMP 16S V4 protocol 515fbc, 806r</td>\n",
       "      <td>GT</td>\n",
       "      <td>14663</td>\n",
       "      <td>...</td>\n",
       "      <td>UCSD LBR -80 freezer</td>\n",
       "      <td>True</td>\n",
       "      <td>stool</td>\n",
       "      <td>mouse gut metagenome</td>\n",
       "      <td>male</td>\n",
       "      <td>OSA</td>\n",
       "      <td>105.7</td>\n",
       "      <td>24.9</td>\n",
       "      <td>g</td>\n",
       "      <td>feces mouse 17 collection 3 of 13</td>\n",
       "    </tr>\n",
       "  </tbody>\n",
       "</table>\n",
       "<p>5 rows × 69 columns</p>\n",
       "</div>"
      ],
      "text/plain": [
       "              BarcodeSequence   LinkerPrimerSequence center_name  \\\n",
       "#SampleID                                                          \n",
       "10422.17.F.10    GTTGTTCTGGGA  GTGTGCCAGCMGCCGCGGTAA      UCSDMI   \n",
       "10422.17.F.11    TGTGCTTGTAGG  GTGTGCCAGCMGCCGCGGTAA      UCSDMI   \n",
       "10422.17.F.12    AGAATCCACCAC  GTGTGCCAGCMGCCGCGGTAA      UCSDMI   \n",
       "10422.17.F.13    CTGTAAAGGTTG  GTGTGCCAGCMGCCGCGGTAA      UCSDMI   \n",
       "10422.17.F.3     CTCCCGAGCTCC  GTGTGCCAGCMGCCGCGGTAA      UCSDMI   \n",
       "\n",
       "                                   experiment_design_description  \\\n",
       "#SampleID                                                          \n",
       "10422.17.F.10  Mouse cohort exposed to apnea and controls to ...   \n",
       "10422.17.F.11  Mouse cohort exposed to apnea and controls to ...   \n",
       "10422.17.F.12  Mouse cohort exposed to apnea and controls to ...   \n",
       "10422.17.F.13  Mouse cohort exposed to apnea and controls to ...   \n",
       "10422.17.F.3   Mouse cohort exposed to apnea and controls to ...   \n",
       "\n",
       "              extraction_robot extractionkit_lot     instrument_model  \\\n",
       "#SampleID                                                               \n",
       "10422.17.F.10         HOWE_KF1           PM16B24  Illumina HiSeq 2500   \n",
       "10422.17.F.11         HOWE_KF2           PM16B24  Illumina HiSeq 2500   \n",
       "10422.17.F.12         HOWE_KF1           PM16B24  Illumina HiSeq 2500   \n",
       "10422.17.F.13         HOWE_KF2           PM16B24  Illumina HiSeq 2500   \n",
       "10422.17.F.3          HOWE_KF2           PM16B24  Illumina HiSeq 2500   \n",
       "\n",
       "                  library_construction_protocol linker  mastermix_lot  \\\n",
       "#SampleID                                                               \n",
       "10422.17.F.10  EMP 16S V4 protocol 515fbc, 806r     GT          14663   \n",
       "10422.17.F.11  EMP 16S V4 protocol 515fbc, 806r     GT          14663   \n",
       "10422.17.F.12  EMP 16S V4 protocol 515fbc, 806r     GT          14663   \n",
       "10422.17.F.13  EMP 16S V4 protocol 515fbc, 806r     GT          14663   \n",
       "10422.17.F.3   EMP 16S V4 protocol 515fbc, 806r     GT          14663   \n",
       "\n",
       "                                 ...                     \\\n",
       "#SampleID                        ...                      \n",
       "10422.17.F.10                    ...                      \n",
       "10422.17.F.11                    ...                      \n",
       "10422.17.F.12                    ...                      \n",
       "10422.17.F.13                    ...                      \n",
       "10422.17.F.3                     ...                      \n",
       "\n",
       "              physical_specimen_location physical_specimen_remaining  \\\n",
       "#SampleID                                                              \n",
       "10422.17.F.10       UCSD LBR -80 freezer                        True   \n",
       "10422.17.F.11       UCSD LBR -80 freezer                        True   \n",
       "10422.17.F.12       UCSD LBR -80 freezer                        True   \n",
       "10422.17.F.13       UCSD LBR -80 freezer                        True   \n",
       "10422.17.F.3        UCSD LBR -80 freezer                        True   \n",
       "\n",
       "              sample_type       scientific_name   sex title  \\\n",
       "#SampleID                                                     \n",
       "10422.17.F.10       stool  mouse gut metagenome  male   OSA   \n",
       "10422.17.F.11       stool  mouse gut metagenome  male   OSA   \n",
       "10422.17.F.12       stool  mouse gut metagenome  male   OSA   \n",
       "10422.17.F.13       stool  mouse gut metagenome  male   OSA   \n",
       "10422.17.F.3        stool  mouse gut metagenome  male   OSA   \n",
       "\n",
       "              weekly_cage_food_consumption weight weight_units  \\\n",
       "#SampleID                                                        \n",
       "10422.17.F.10        Missing: Not provided   25.6            g   \n",
       "10422.17.F.11                         71.8   25.2            g   \n",
       "10422.17.F.12        Missing: Not provided   25.7            g   \n",
       "10422.17.F.13                         71.7   26.3            g   \n",
       "10422.17.F.3                         105.7   24.9            g   \n",
       "\n",
       "                                            Description  \n",
       "#SampleID                                                \n",
       "10422.17.F.10        feces mouse 17 collection 10 of 13  \n",
       "10422.17.F.11        feces mouse 17 collection 11 of 13  \n",
       "10422.17.F.12        feces mouse 17 collection 12 of 13  \n",
       "10422.17.F.13  final feces mouse 17 collection 13 of 13  \n",
       "10422.17.F.3          feces mouse 17 collection 3 of 13  \n",
       "\n",
       "[5 rows x 69 columns]"
      ]
     },
     "execution_count": 12,
     "metadata": {},
     "output_type": "execute_result"
    }
   ],
   "source": [
    "mapping.head()"
   ]
  },
  {
   "cell_type": "code",
   "execution_count": 13,
   "metadata": {},
   "outputs": [
    {
     "data": {
      "text/plain": [
       "IHH    92\n",
       "Air    90\n",
       "Name: exposure_type, dtype: int64"
      ]
     },
     "execution_count": 13,
     "metadata": {},
     "output_type": "execute_result"
    }
   ],
   "source": [
    "mapping.exposure_type.value_counts()"
   ]
  },
  {
   "cell_type": "code",
   "execution_count": 14,
   "metadata": {
    "collapsed": true
   },
   "outputs": [],
   "source": [
    "# match mapping file and biom table\n",
    "mapping, otu_table = match(mapping, otu_table)"
   ]
  },
  {
   "cell_type": "code",
   "execution_count": 15,
   "metadata": {},
   "outputs": [
    {
     "name": "stdout",
     "output_type": "stream",
     "text": [
      "(182, 69)\n",
      "(182, 734)\n"
     ]
    }
   ],
   "source": [
    "print(mapping.shape)\n",
    "print(otu_table.shape)"
   ]
  },
  {
   "cell_type": "code",
   "execution_count": 16,
   "metadata": {
    "collapsed": true
   },
   "outputs": [],
   "source": [
    "# convert values in exposure_type to be integers\n",
    "labels = np.array((mapping['exposure_type'] == 'IHH').astype(int))"
   ]
  },
  {
   "cell_type": "code",
   "execution_count": 17,
   "metadata": {},
   "outputs": [
    {
     "data": {
      "text/plain": [
       "array([1, 0, 0, 0, 0, 1, 0, 0, 0, 1, 1, 0, 0, 1, 1, 1, 1, 1, 0, 0, 0, 0, 0,\n",
       "       1, 1, 0, 0, 1, 1, 0, 0, 0, 1, 0, 1, 0, 0, 0, 1, 1, 0, 1, 0, 0, 1, 0,\n",
       "       1, 0, 1, 1, 1, 1, 0, 0, 0, 0, 1, 0, 0, 0, 1, 0, 1, 1, 1, 0, 1, 1, 0,\n",
       "       0, 1, 0, 1, 1, 1, 1, 0, 1, 1, 0, 0, 0, 0, 1, 1, 1, 1, 0, 1, 1, 1, 1,\n",
       "       0, 1, 1, 1, 1, 0, 0, 1, 0, 1, 1, 0, 0, 0, 0, 1, 1, 1, 0, 0, 0, 0, 0,\n",
       "       0, 1, 1, 1, 0, 1, 0, 1, 1, 1, 0, 1, 1, 0, 1, 1, 0, 0, 1, 1, 1, 1, 1,\n",
       "       0, 0, 1, 1, 1, 0, 0, 0, 0, 0, 0, 0, 1, 0, 1, 1, 0, 1, 1, 0, 1, 0, 1,\n",
       "       1, 0, 0, 1, 1, 1, 0, 0, 0, 0, 0, 1, 0, 1, 0, 0, 0, 1, 1, 1, 1])"
      ]
     },
     "execution_count": 17,
     "metadata": {},
     "output_type": "execute_result"
    }
   ],
   "source": [
    "labels"
   ]
  },
  {
   "cell_type": "code",
   "execution_count": 18,
   "metadata": {
    "collapsed": true
   },
   "outputs": [],
   "source": [
    "# transpose otu_table to have OTUs as rows and samples as columns\n",
    "dat = np.transpose(np.array(otu_table))"
   ]
  },
  {
   "cell_type": "code",
   "execution_count": 19,
   "metadata": {},
   "outputs": [
    {
     "data": {
      "text/plain": [
       "(734, 182)"
      ]
     },
     "execution_count": 19,
     "metadata": {},
     "output_type": "execute_result"
    }
   ],
   "source": [
    "dat.shape"
   ]
  },
  {
   "cell_type": "code",
   "execution_count": 20,
   "metadata": {
    "collapsed": true
   },
   "outputs": [],
   "source": [
    "# apply DS-FDR\n",
    "result = dsfdr.dsfdr(dat, labels, transform_type='rankdata', method='meandiff', alpha=0.01, numperm=10000, fdr_method='dsfdr')"
   ]
  },
  {
   "cell_type": "code",
   "execution_count": 36,
   "metadata": {},
   "outputs": [],
   "source": [
    "rej = result[0]"
   ]
  },
  {
   "cell_type": "code",
   "execution_count": 38,
   "metadata": {},
   "outputs": [
    {
     "data": {
      "text/plain": [
       "82"
      ]
     },
     "execution_count": 38,
     "metadata": {},
     "output_type": "execute_result"
    }
   ],
   "source": [
    "# total number of significant hypotheses\n",
    "np.sum(rej)"
   ]
  },
  {
   "cell_type": "code",
   "execution_count": 39,
   "metadata": {},
   "outputs": [],
   "source": [
    "s = pd.Series(rej, name='bools')"
   ]
  },
  {
   "cell_type": "code",
   "execution_count": 46,
   "metadata": {},
   "outputs": [],
   "source": [
    "out = otu_table.T[s.values]"
   ]
  },
  {
   "cell_type": "code",
   "execution_count": 47,
   "metadata": {},
   "outputs": [],
   "source": [
    "out.to_csv('deblur_dsfdr.csv', sep='\\t')"
   ]
  },
  {
   "cell_type": "code",
   "execution_count": null,
   "metadata": {
    "collapsed": true
   },
   "outputs": [],
   "source": []
  }
 ],
 "metadata": {
  "kernelspec": {
   "display_name": "Python 3",
   "language": "python",
   "name": "python3"
  },
  "language_info": {
   "codemirror_mode": {
    "name": "ipython",
    "version": 3
   },
   "file_extension": ".py",
   "mimetype": "text/x-python",
   "name": "python",
   "nbconvert_exporter": "python",
   "pygments_lexer": "ipython3",
   "version": "3.5.3"
  }
 },
 "nbformat": 4,
 "nbformat_minor": 2
}
