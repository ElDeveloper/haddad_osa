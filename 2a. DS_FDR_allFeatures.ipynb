{
 "cells": [
  {
   "cell_type": "markdown",
   "metadata": {
    "collapsed": true
   },
   "source": [
    "#### This notebook is apply Discrete-FDR to identify significant features (reference: Jiang et al, msystems, 2017)"
   ]
  },
  {
   "cell_type": "code",
   "execution_count": 1,
   "metadata": {
    "collapsed": true
   },
   "outputs": [],
   "source": [
    "import numpy as np\n",
    "import pandas as pd\n",
    "from biom import load_table\n",
    "from gneiss.util import match\n",
    "\n",
    "import matplotlib.pyplot as plt\n",
    "%matplotlib inline"
   ]
  },
  {
   "cell_type": "code",
   "execution_count": 2,
   "metadata": {
    "collapsed": true
   },
   "outputs": [],
   "source": [
    "from dsfdr import dsfdr\n",
    "from dsfdr import simulation\n",
    "from dsfdr import statistics\n",
    "from dsfdr import transform"
   ]
  },
  {
   "cell_type": "code",
   "execution_count": 3,
   "metadata": {
    "collapsed": true
   },
   "outputs": [],
   "source": [
    "# set seed to obtain consistent result\n",
    "np.random.seed(2018)"
   ]
  },
  {
   "cell_type": "markdown",
   "metadata": {
    "collapsed": true
   },
   "source": [
    "## Prepare biom table and mapping file"
   ]
  },
  {
   "cell_type": "markdown",
   "metadata": {},
   "source": [
    "### load biom table"
   ]
  },
  {
   "cell_type": "code",
   "execution_count": 11,
   "metadata": {
    "collapsed": true
   },
   "outputs": [],
   "source": [
    "def convert_biom_to_pandas(table):\n",
    "    otu_table = pd.DataFrame(np.array(table.matrix_data.todense()).T,\n",
    "                             index=table.ids(axis='sample'),\n",
    "                             columns=table.ids(axis='observation'))\n",
    "    return otu_table"
   ]
  },
  {
   "cell_type": "code",
   "execution_count": 12,
   "metadata": {
    "collapsed": false
   },
   "outputs": [],
   "source": [
    "table = load_table('./data/haddad_6weeks_allFeatures_pqn_matched.biom')\n",
    "table = convert_biom_to_pandas(table)"
   ]
  },
  {
   "cell_type": "code",
   "execution_count": 13,
   "metadata": {
    "collapsed": false
   },
   "outputs": [],
   "source": [
    "table = table.T"
   ]
  },
  {
   "cell_type": "code",
   "execution_count": 14,
   "metadata": {
    "collapsed": false
   },
   "outputs": [
    {
     "data": {
      "text/plain": [
       "(182, 1710)"
      ]
     },
     "execution_count": 14,
     "metadata": {},
     "output_type": "execute_result"
    }
   ],
   "source": [
    "table.shape"
   ]
  },
  {
   "cell_type": "markdown",
   "metadata": {
    "collapsed": true
   },
   "source": [
    "### load mapping file"
   ]
  },
  {
   "cell_type": "code",
   "execution_count": 17,
   "metadata": {
    "collapsed": false
   },
   "outputs": [],
   "source": [
    "mapping = pd.read_table(\"./data/haddad_6weeks_metadata_matched.txt\", sep='\\t', header=0, index_col=0)"
   ]
  },
  {
   "cell_type": "code",
   "execution_count": 18,
   "metadata": {
    "collapsed": false
   },
   "outputs": [
    {
     "data": {
      "text/plain": [
       "(182, 69)"
      ]
     },
     "execution_count": 18,
     "metadata": {},
     "output_type": "execute_result"
    }
   ],
   "source": [
    "mapping.shape"
   ]
  },
  {
   "cell_type": "code",
   "execution_count": 19,
   "metadata": {
    "collapsed": false
   },
   "outputs": [
    {
     "data": {
      "text/html": [
       "<div>\n",
       "<style>\n",
       "    .dataframe thead tr:only-child th {\n",
       "        text-align: right;\n",
       "    }\n",
       "\n",
       "    .dataframe thead th {\n",
       "        text-align: left;\n",
       "    }\n",
       "\n",
       "    .dataframe tbody tr th {\n",
       "        vertical-align: top;\n",
       "    }\n",
       "</style>\n",
       "<table border=\"1\" class=\"dataframe\">\n",
       "  <thead>\n",
       "    <tr style=\"text-align: right;\">\n",
       "      <th></th>\n",
       "      <th>BarcodeSequence</th>\n",
       "      <th>LinkerPrimerSequence</th>\n",
       "      <th>center_name</th>\n",
       "      <th>experiment_design_description</th>\n",
       "      <th>extraction_robot</th>\n",
       "      <th>extractionkit_lot</th>\n",
       "      <th>instrument_model</th>\n",
       "      <th>library_construction_protocol</th>\n",
       "      <th>linker</th>\n",
       "      <th>mastermix_lot</th>\n",
       "      <th>...</th>\n",
       "      <th>physical_specimen_location</th>\n",
       "      <th>physical_specimen_remaining</th>\n",
       "      <th>sample_type</th>\n",
       "      <th>scientific_name</th>\n",
       "      <th>sex</th>\n",
       "      <th>title</th>\n",
       "      <th>weekly_cage_food_consumption</th>\n",
       "      <th>weight</th>\n",
       "      <th>weight_units</th>\n",
       "      <th>Description</th>\n",
       "    </tr>\n",
       "    <tr>\n",
       "      <th>#SampleID</th>\n",
       "      <th></th>\n",
       "      <th></th>\n",
       "      <th></th>\n",
       "      <th></th>\n",
       "      <th></th>\n",
       "      <th></th>\n",
       "      <th></th>\n",
       "      <th></th>\n",
       "      <th></th>\n",
       "      <th></th>\n",
       "      <th></th>\n",
       "      <th></th>\n",
       "      <th></th>\n",
       "      <th></th>\n",
       "      <th></th>\n",
       "      <th></th>\n",
       "      <th></th>\n",
       "      <th></th>\n",
       "      <th></th>\n",
       "      <th></th>\n",
       "      <th></th>\n",
       "    </tr>\n",
       "  </thead>\n",
       "  <tbody>\n",
       "    <tr>\n",
       "      <th>10422.17.F.10</th>\n",
       "      <td>GTTGTTCTGGGA</td>\n",
       "      <td>GTGTGCCAGCMGCCGCGGTAA</td>\n",
       "      <td>UCSDMI</td>\n",
       "      <td>Mouse cohort exposed to apnea and controls to ...</td>\n",
       "      <td>HOWE_KF1</td>\n",
       "      <td>PM16B24</td>\n",
       "      <td>Illumina HiSeq 2500</td>\n",
       "      <td>EMP 16S V4 protocol 515fbc, 806r</td>\n",
       "      <td>GT</td>\n",
       "      <td>14663</td>\n",
       "      <td>...</td>\n",
       "      <td>UCSD LBR -80 freezer</td>\n",
       "      <td>True</td>\n",
       "      <td>stool</td>\n",
       "      <td>mouse gut metagenome</td>\n",
       "      <td>male</td>\n",
       "      <td>OSA</td>\n",
       "      <td>Missing: Not provided</td>\n",
       "      <td>25.6</td>\n",
       "      <td>g</td>\n",
       "      <td>feces mouse 17 collection 10 of 13</td>\n",
       "    </tr>\n",
       "    <tr>\n",
       "      <th>10422.17.F.11</th>\n",
       "      <td>TGTGCTTGTAGG</td>\n",
       "      <td>GTGTGCCAGCMGCCGCGGTAA</td>\n",
       "      <td>UCSDMI</td>\n",
       "      <td>Mouse cohort exposed to apnea and controls to ...</td>\n",
       "      <td>HOWE_KF2</td>\n",
       "      <td>PM16B24</td>\n",
       "      <td>Illumina HiSeq 2500</td>\n",
       "      <td>EMP 16S V4 protocol 515fbc, 806r</td>\n",
       "      <td>GT</td>\n",
       "      <td>14663</td>\n",
       "      <td>...</td>\n",
       "      <td>UCSD LBR -80 freezer</td>\n",
       "      <td>True</td>\n",
       "      <td>stool</td>\n",
       "      <td>mouse gut metagenome</td>\n",
       "      <td>male</td>\n",
       "      <td>OSA</td>\n",
       "      <td>71.8</td>\n",
       "      <td>25.2</td>\n",
       "      <td>g</td>\n",
       "      <td>feces mouse 17 collection 11 of 13</td>\n",
       "    </tr>\n",
       "    <tr>\n",
       "      <th>10422.17.F.12</th>\n",
       "      <td>AGAATCCACCAC</td>\n",
       "      <td>GTGTGCCAGCMGCCGCGGTAA</td>\n",
       "      <td>UCSDMI</td>\n",
       "      <td>Mouse cohort exposed to apnea and controls to ...</td>\n",
       "      <td>HOWE_KF1</td>\n",
       "      <td>PM16B24</td>\n",
       "      <td>Illumina HiSeq 2500</td>\n",
       "      <td>EMP 16S V4 protocol 515fbc, 806r</td>\n",
       "      <td>GT</td>\n",
       "      <td>14663</td>\n",
       "      <td>...</td>\n",
       "      <td>UCSD LBR -80 freezer</td>\n",
       "      <td>True</td>\n",
       "      <td>stool</td>\n",
       "      <td>mouse gut metagenome</td>\n",
       "      <td>male</td>\n",
       "      <td>OSA</td>\n",
       "      <td>Missing: Not provided</td>\n",
       "      <td>25.7</td>\n",
       "      <td>g</td>\n",
       "      <td>feces mouse 17 collection 12 of 13</td>\n",
       "    </tr>\n",
       "    <tr>\n",
       "      <th>10422.17.F.13</th>\n",
       "      <td>CTGTAAAGGTTG</td>\n",
       "      <td>GTGTGCCAGCMGCCGCGGTAA</td>\n",
       "      <td>UCSDMI</td>\n",
       "      <td>Mouse cohort exposed to apnea and controls to ...</td>\n",
       "      <td>HOWE_KF2</td>\n",
       "      <td>PM16B24</td>\n",
       "      <td>Illumina HiSeq 2500</td>\n",
       "      <td>EMP 16S V4 protocol 515fbc, 806r</td>\n",
       "      <td>GT</td>\n",
       "      <td>14663</td>\n",
       "      <td>...</td>\n",
       "      <td>UCSD LBR -80 freezer</td>\n",
       "      <td>True</td>\n",
       "      <td>stool</td>\n",
       "      <td>mouse gut metagenome</td>\n",
       "      <td>male</td>\n",
       "      <td>OSA</td>\n",
       "      <td>71.7</td>\n",
       "      <td>26.3</td>\n",
       "      <td>g</td>\n",
       "      <td>final feces mouse 17 collection 13 of 13</td>\n",
       "    </tr>\n",
       "    <tr>\n",
       "      <th>10422.17.F.3</th>\n",
       "      <td>CTCCCGAGCTCC</td>\n",
       "      <td>GTGTGCCAGCMGCCGCGGTAA</td>\n",
       "      <td>UCSDMI</td>\n",
       "      <td>Mouse cohort exposed to apnea and controls to ...</td>\n",
       "      <td>HOWE_KF2</td>\n",
       "      <td>PM16B24</td>\n",
       "      <td>Illumina HiSeq 2500</td>\n",
       "      <td>EMP 16S V4 protocol 515fbc, 806r</td>\n",
       "      <td>GT</td>\n",
       "      <td>14663</td>\n",
       "      <td>...</td>\n",
       "      <td>UCSD LBR -80 freezer</td>\n",
       "      <td>True</td>\n",
       "      <td>stool</td>\n",
       "      <td>mouse gut metagenome</td>\n",
       "      <td>male</td>\n",
       "      <td>OSA</td>\n",
       "      <td>105.7</td>\n",
       "      <td>24.9</td>\n",
       "      <td>g</td>\n",
       "      <td>feces mouse 17 collection 3 of 13</td>\n",
       "    </tr>\n",
       "  </tbody>\n",
       "</table>\n",
       "<p>5 rows × 69 columns</p>\n",
       "</div>"
      ],
      "text/plain": [
       "              BarcodeSequence   LinkerPrimerSequence center_name  \\\n",
       "#SampleID                                                          \n",
       "10422.17.F.10    GTTGTTCTGGGA  GTGTGCCAGCMGCCGCGGTAA      UCSDMI   \n",
       "10422.17.F.11    TGTGCTTGTAGG  GTGTGCCAGCMGCCGCGGTAA      UCSDMI   \n",
       "10422.17.F.12    AGAATCCACCAC  GTGTGCCAGCMGCCGCGGTAA      UCSDMI   \n",
       "10422.17.F.13    CTGTAAAGGTTG  GTGTGCCAGCMGCCGCGGTAA      UCSDMI   \n",
       "10422.17.F.3     CTCCCGAGCTCC  GTGTGCCAGCMGCCGCGGTAA      UCSDMI   \n",
       "\n",
       "                                   experiment_design_description  \\\n",
       "#SampleID                                                          \n",
       "10422.17.F.10  Mouse cohort exposed to apnea and controls to ...   \n",
       "10422.17.F.11  Mouse cohort exposed to apnea and controls to ...   \n",
       "10422.17.F.12  Mouse cohort exposed to apnea and controls to ...   \n",
       "10422.17.F.13  Mouse cohort exposed to apnea and controls to ...   \n",
       "10422.17.F.3   Mouse cohort exposed to apnea and controls to ...   \n",
       "\n",
       "              extraction_robot extractionkit_lot     instrument_model  \\\n",
       "#SampleID                                                               \n",
       "10422.17.F.10         HOWE_KF1           PM16B24  Illumina HiSeq 2500   \n",
       "10422.17.F.11         HOWE_KF2           PM16B24  Illumina HiSeq 2500   \n",
       "10422.17.F.12         HOWE_KF1           PM16B24  Illumina HiSeq 2500   \n",
       "10422.17.F.13         HOWE_KF2           PM16B24  Illumina HiSeq 2500   \n",
       "10422.17.F.3          HOWE_KF2           PM16B24  Illumina HiSeq 2500   \n",
       "\n",
       "                  library_construction_protocol linker  mastermix_lot  \\\n",
       "#SampleID                                                               \n",
       "10422.17.F.10  EMP 16S V4 protocol 515fbc, 806r     GT          14663   \n",
       "10422.17.F.11  EMP 16S V4 protocol 515fbc, 806r     GT          14663   \n",
       "10422.17.F.12  EMP 16S V4 protocol 515fbc, 806r     GT          14663   \n",
       "10422.17.F.13  EMP 16S V4 protocol 515fbc, 806r     GT          14663   \n",
       "10422.17.F.3   EMP 16S V4 protocol 515fbc, 806r     GT          14663   \n",
       "\n",
       "                                 ...                     \\\n",
       "#SampleID                        ...                      \n",
       "10422.17.F.10                    ...                      \n",
       "10422.17.F.11                    ...                      \n",
       "10422.17.F.12                    ...                      \n",
       "10422.17.F.13                    ...                      \n",
       "10422.17.F.3                     ...                      \n",
       "\n",
       "              physical_specimen_location physical_specimen_remaining  \\\n",
       "#SampleID                                                              \n",
       "10422.17.F.10       UCSD LBR -80 freezer                        True   \n",
       "10422.17.F.11       UCSD LBR -80 freezer                        True   \n",
       "10422.17.F.12       UCSD LBR -80 freezer                        True   \n",
       "10422.17.F.13       UCSD LBR -80 freezer                        True   \n",
       "10422.17.F.3        UCSD LBR -80 freezer                        True   \n",
       "\n",
       "              sample_type       scientific_name   sex title  \\\n",
       "#SampleID                                                     \n",
       "10422.17.F.10       stool  mouse gut metagenome  male   OSA   \n",
       "10422.17.F.11       stool  mouse gut metagenome  male   OSA   \n",
       "10422.17.F.12       stool  mouse gut metagenome  male   OSA   \n",
       "10422.17.F.13       stool  mouse gut metagenome  male   OSA   \n",
       "10422.17.F.3        stool  mouse gut metagenome  male   OSA   \n",
       "\n",
       "              weekly_cage_food_consumption weight weight_units  \\\n",
       "#SampleID                                                        \n",
       "10422.17.F.10        Missing: Not provided   25.6            g   \n",
       "10422.17.F.11                         71.8   25.2            g   \n",
       "10422.17.F.12        Missing: Not provided   25.7            g   \n",
       "10422.17.F.13                         71.7   26.3            g   \n",
       "10422.17.F.3                         105.7   24.9            g   \n",
       "\n",
       "                                            Description  \n",
       "#SampleID                                                \n",
       "10422.17.F.10        feces mouse 17 collection 10 of 13  \n",
       "10422.17.F.11        feces mouse 17 collection 11 of 13  \n",
       "10422.17.F.12        feces mouse 17 collection 12 of 13  \n",
       "10422.17.F.13  final feces mouse 17 collection 13 of 13  \n",
       "10422.17.F.3          feces mouse 17 collection 3 of 13  \n",
       "\n",
       "[5 rows x 69 columns]"
      ]
     },
     "execution_count": 19,
     "metadata": {},
     "output_type": "execute_result"
    }
   ],
   "source": [
    "mapping.head()"
   ]
  },
  {
   "cell_type": "code",
   "execution_count": 20,
   "metadata": {
    "collapsed": false
   },
   "outputs": [
    {
     "data": {
      "text/plain": [
       "IHH    92\n",
       "Air    90\n",
       "Name: exposure_type, dtype: int64"
      ]
     },
     "execution_count": 20,
     "metadata": {},
     "output_type": "execute_result"
    }
   ],
   "source": [
    "mapping.exposure_type.value_counts()"
   ]
  },
  {
   "cell_type": "markdown",
   "metadata": {},
   "source": [
    "### match mapping file and biom table"
   ]
  },
  {
   "cell_type": "code",
   "execution_count": 22,
   "metadata": {
    "collapsed": false
   },
   "outputs": [],
   "source": [
    "mapping, table = match(mapping, table)"
   ]
  },
  {
   "cell_type": "code",
   "execution_count": 23,
   "metadata": {
    "collapsed": false
   },
   "outputs": [
    {
     "name": "stdout",
     "output_type": "stream",
     "text": [
      "(182, 69)\n",
      "(182, 1710)\n"
     ]
    }
   ],
   "source": [
    "print(mapping.shape)\n",
    "print(table.shape)"
   ]
  },
  {
   "cell_type": "code",
   "execution_count": 24,
   "metadata": {
    "collapsed": true
   },
   "outputs": [],
   "source": [
    "# convert values in exposure_type to be integers\n",
    "labels = np.array((mapping['exposure_type'] == 'IHH').astype(int))"
   ]
  },
  {
   "cell_type": "code",
   "execution_count": 25,
   "metadata": {
    "collapsed": false
   },
   "outputs": [
    {
     "data": {
      "text/plain": [
       "array([1, 0, 0, 0, 0, 1, 0, 0, 0, 1, 0, 1, 0, 0, 0, 0, 1, 1, 1, 0, 0, 0, 1,\n",
       "       1, 1, 0, 1, 1, 1, 0, 1, 1, 1, 0, 1, 0, 0, 0, 0, 1, 1, 0, 1, 0, 1, 0,\n",
       "       0, 0, 0, 1, 1, 1, 1, 1, 0, 1, 0, 0, 1, 1, 1, 0, 0, 1, 0, 1, 1, 1, 1,\n",
       "       0, 0, 1, 1, 0, 1, 1, 1, 1, 0, 0, 1, 0, 0, 0, 1, 1, 0, 0, 0, 0, 1, 1,\n",
       "       1, 0, 0, 0, 0, 1, 0, 0, 0, 1, 0, 1, 0, 0, 0, 1, 1, 0, 0, 0, 1, 0, 1,\n",
       "       0, 0, 0, 1, 1, 0, 0, 0, 1, 1, 1, 0, 1, 1, 1, 1, 0, 1, 1, 1, 1, 1, 0,\n",
       "       0, 1, 0, 1, 1, 1, 0, 1, 0, 1, 1, 1, 1, 1, 0, 0, 1, 0, 1, 1, 0, 0, 0,\n",
       "       1, 1, 0, 1, 1, 1, 0, 0, 0, 1, 0, 0, 0, 1, 1, 0, 1, 1, 0, 1, 0])"
      ]
     },
     "execution_count": 25,
     "metadata": {},
     "output_type": "execute_result"
    }
   ],
   "source": [
    "labels"
   ]
  },
  {
   "cell_type": "code",
   "execution_count": 28,
   "metadata": {
    "collapsed": true
   },
   "outputs": [],
   "source": [
    "# transpose otu_table to have OTUs as rows and samples as columns\n",
    "dat = np.transpose(np.array(table))"
   ]
  },
  {
   "cell_type": "code",
   "execution_count": 29,
   "metadata": {
    "collapsed": false
   },
   "outputs": [
    {
     "data": {
      "text/plain": [
       "(1710, 182)"
      ]
     },
     "execution_count": 29,
     "metadata": {},
     "output_type": "execute_result"
    }
   ],
   "source": [
    "dat.shape"
   ]
  },
  {
   "cell_type": "markdown",
   "metadata": {},
   "source": [
    "## Apply DS-FDR"
   ]
  },
  {
   "cell_type": "code",
   "execution_count": 30,
   "metadata": {
    "collapsed": true
   },
   "outputs": [],
   "source": [
    "result = dsfdr.dsfdr(dat, labels, transform_type='rankdata', method='meandiff', alpha=0.01, \n",
    "                     numperm=10000, fdr_method='dsfdr')"
   ]
  },
  {
   "cell_type": "code",
   "execution_count": 31,
   "metadata": {
    "collapsed": false
   },
   "outputs": [
    {
     "data": {
      "text/plain": [
       "382"
      ]
     },
     "execution_count": 31,
     "metadata": {},
     "output_type": "execute_result"
    }
   ],
   "source": [
    "rej = result[0]\n",
    "# total number of significant hypotheses\n",
    "np.sum(rej)"
   ]
  },
  {
   "cell_type": "markdown",
   "metadata": {},
   "source": [
    "## Output results"
   ]
  },
  {
   "cell_type": "code",
   "execution_count": 32,
   "metadata": {
    "collapsed": true
   },
   "outputs": [],
   "source": [
    "pvals=[]\n",
    "teststat=[]\n",
    "\n",
    "for i in range(len(result[0])):\n",
    "    if result[0][i]==True:\n",
    "        pvals.append(result[2][i])\n",
    "        teststat.append(result[1][i])"
   ]
  },
  {
   "cell_type": "code",
   "execution_count": 33,
   "metadata": {
    "collapsed": true
   },
   "outputs": [],
   "source": [
    "s = pd.Series(rej, name='bools')"
   ]
  },
  {
   "cell_type": "code",
   "execution_count": 35,
   "metadata": {
    "collapsed": false
   },
   "outputs": [],
   "source": [
    "out = table.T[s.values]"
   ]
  },
  {
   "cell_type": "code",
   "execution_count": 36,
   "metadata": {
    "collapsed": false
   },
   "outputs": [
    {
     "data": {
      "text/html": [
       "<div>\n",
       "<style>\n",
       "    .dataframe thead tr:only-child th {\n",
       "        text-align: right;\n",
       "    }\n",
       "\n",
       "    .dataframe thead th {\n",
       "        text-align: left;\n",
       "    }\n",
       "\n",
       "    .dataframe tbody tr th {\n",
       "        vertical-align: top;\n",
       "    }\n",
       "</style>\n",
       "<table border=\"1\" class=\"dataframe\">\n",
       "  <thead>\n",
       "    <tr style=\"text-align: right;\">\n",
       "      <th></th>\n",
       "      <th>10422.24.F.5</th>\n",
       "      <th>10422.29.F.6</th>\n",
       "      <th>10422.27.F.8</th>\n",
       "      <th>10422.26.F.12</th>\n",
       "      <th>10422.27.F.13</th>\n",
       "      <th>10422.23.F.13</th>\n",
       "      <th>10422.26.F.4</th>\n",
       "      <th>10422.28.F.9</th>\n",
       "      <th>10422.26.F.3</th>\n",
       "      <th>10422.17.F.4</th>\n",
       "      <th>...</th>\n",
       "      <th>10422.26.F.10</th>\n",
       "      <th>10422.25.F.8</th>\n",
       "      <th>10422.17.F.9</th>\n",
       "      <th>10422.18.F.4</th>\n",
       "      <th>10422.26.F.8</th>\n",
       "      <th>10422.18.F.12</th>\n",
       "      <th>10422.24.F.12</th>\n",
       "      <th>10422.25.F.11</th>\n",
       "      <th>10422.24.F.6</th>\n",
       "      <th>10422.29.F.5</th>\n",
       "    </tr>\n",
       "  </thead>\n",
       "  <tbody>\n",
       "    <tr>\n",
       "      <th>357.2784138555112_5.010000161030595</th>\n",
       "      <td>6.917097e+08</td>\n",
       "      <td>2.578800e+08</td>\n",
       "      <td>1.910583e+08</td>\n",
       "      <td>4.225667e+08</td>\n",
       "      <td>3.769354e+08</td>\n",
       "      <td>4.891753e+08</td>\n",
       "      <td>2.875788e+08</td>\n",
       "      <td>1.809306e+08</td>\n",
       "      <td>2.760070e+08</td>\n",
       "      <td>6.040222e+08</td>\n",
       "      <td>...</td>\n",
       "      <td>2.986456e+08</td>\n",
       "      <td>1.467964e+08</td>\n",
       "      <td>4.736494e+08</td>\n",
       "      <td>6.646255e+08</td>\n",
       "      <td>2.369384e+08</td>\n",
       "      <td>4.067838e+08</td>\n",
       "      <td>5.849852e+08</td>\n",
       "      <td>1.258402e+08</td>\n",
       "      <td>4.206568e+08</td>\n",
       "      <td>5.217787e+08</td>\n",
       "    </tr>\n",
       "    <tr>\n",
       "      <th>104.1070008277893_0.3359217147435899</th>\n",
       "      <td>3.281495e+08</td>\n",
       "      <td>5.548085e+08</td>\n",
       "      <td>2.555961e+08</td>\n",
       "      <td>4.317716e+08</td>\n",
       "      <td>5.935661e+08</td>\n",
       "      <td>4.738261e+08</td>\n",
       "      <td>2.641577e+08</td>\n",
       "      <td>8.133259e+08</td>\n",
       "      <td>3.024110e+08</td>\n",
       "      <td>2.319210e+08</td>\n",
       "      <td>...</td>\n",
       "      <td>6.051821e+08</td>\n",
       "      <td>3.286935e+08</td>\n",
       "      <td>6.226845e+08</td>\n",
       "      <td>2.803015e+08</td>\n",
       "      <td>4.983045e+08</td>\n",
       "      <td>3.681432e+08</td>\n",
       "      <td>3.707433e+08</td>\n",
       "      <td>4.512311e+08</td>\n",
       "      <td>3.555671e+08</td>\n",
       "      <td>3.888311e+08</td>\n",
       "    </tr>\n",
       "    <tr>\n",
       "      <th>373.27348764725264_4.338406810897439</th>\n",
       "      <td>5.235827e+08</td>\n",
       "      <td>4.383068e+08</td>\n",
       "      <td>1.401338e+08</td>\n",
       "      <td>2.872223e+08</td>\n",
       "      <td>1.766426e+08</td>\n",
       "      <td>5.204261e+08</td>\n",
       "      <td>5.735200e+08</td>\n",
       "      <td>1.213430e+08</td>\n",
       "      <td>6.130434e+08</td>\n",
       "      <td>3.872113e+08</td>\n",
       "      <td>...</td>\n",
       "      <td>2.466242e+08</td>\n",
       "      <td>7.303587e+07</td>\n",
       "      <td>5.619251e+08</td>\n",
       "      <td>8.967402e+07</td>\n",
       "      <td>1.272761e+08</td>\n",
       "      <td>4.332568e+08</td>\n",
       "      <td>6.157758e+08</td>\n",
       "      <td>5.819768e+07</td>\n",
       "      <td>5.773077e+08</td>\n",
       "      <td>6.269518e+08</td>\n",
       "    </tr>\n",
       "    <tr>\n",
       "      <th>391.2841105382007_4.130280368589744</th>\n",
       "      <td>5.955825e+08</td>\n",
       "      <td>3.276695e+08</td>\n",
       "      <td>1.711783e+08</td>\n",
       "      <td>3.190921e+08</td>\n",
       "      <td>1.631000e+08</td>\n",
       "      <td>6.351529e+08</td>\n",
       "      <td>4.515842e+08</td>\n",
       "      <td>2.888728e+08</td>\n",
       "      <td>4.180027e+08</td>\n",
       "      <td>4.944621e+08</td>\n",
       "      <td>...</td>\n",
       "      <td>2.666427e+08</td>\n",
       "      <td>1.333114e+08</td>\n",
       "      <td>5.289577e+08</td>\n",
       "      <td>6.775269e+08</td>\n",
       "      <td>1.772450e+08</td>\n",
       "      <td>4.389572e+08</td>\n",
       "      <td>5.313699e+08</td>\n",
       "      <td>9.497437e+07</td>\n",
       "      <td>3.838284e+08</td>\n",
       "      <td>5.565597e+08</td>\n",
       "    </tr>\n",
       "    <tr>\n",
       "      <th>283.2623651476874_5.462460305958134</th>\n",
       "      <td>8.325900e+08</td>\n",
       "      <td>1.365513e+08</td>\n",
       "      <td>2.375455e+08</td>\n",
       "      <td>6.955653e+08</td>\n",
       "      <td>6.338738e+08</td>\n",
       "      <td>6.047327e+08</td>\n",
       "      <td>2.618255e+08</td>\n",
       "      <td>1.065081e+09</td>\n",
       "      <td>3.702029e+08</td>\n",
       "      <td>3.005478e+08</td>\n",
       "      <td>...</td>\n",
       "      <td>5.033927e+08</td>\n",
       "      <td>3.872046e+08</td>\n",
       "      <td>1.671962e+08</td>\n",
       "      <td>2.699610e+08</td>\n",
       "      <td>5.791108e+08</td>\n",
       "      <td>7.148008e+07</td>\n",
       "      <td>4.633385e+08</td>\n",
       "      <td>7.710580e+08</td>\n",
       "      <td>3.691103e+08</td>\n",
       "      <td>4.800439e+08</td>\n",
       "    </tr>\n",
       "  </tbody>\n",
       "</table>\n",
       "<p>5 rows × 182 columns</p>\n",
       "</div>"
      ],
      "text/plain": [
       "                                      10422.24.F.5  10422.29.F.6  \\\n",
       "357.2784138555112_5.010000161030595   6.917097e+08  2.578800e+08   \n",
       "104.1070008277893_0.3359217147435899  3.281495e+08  5.548085e+08   \n",
       "373.27348764725264_4.338406810897439  5.235827e+08  4.383068e+08   \n",
       "391.2841105382007_4.130280368589744   5.955825e+08  3.276695e+08   \n",
       "283.2623651476874_5.462460305958134   8.325900e+08  1.365513e+08   \n",
       "\n",
       "                                      10422.27.F.8  10422.26.F.12  \\\n",
       "357.2784138555112_5.010000161030595   1.910583e+08   4.225667e+08   \n",
       "104.1070008277893_0.3359217147435899  2.555961e+08   4.317716e+08   \n",
       "373.27348764725264_4.338406810897439  1.401338e+08   2.872223e+08   \n",
       "391.2841105382007_4.130280368589744   1.711783e+08   3.190921e+08   \n",
       "283.2623651476874_5.462460305958134   2.375455e+08   6.955653e+08   \n",
       "\n",
       "                                      10422.27.F.13  10422.23.F.13  \\\n",
       "357.2784138555112_5.010000161030595    3.769354e+08   4.891753e+08   \n",
       "104.1070008277893_0.3359217147435899   5.935661e+08   4.738261e+08   \n",
       "373.27348764725264_4.338406810897439   1.766426e+08   5.204261e+08   \n",
       "391.2841105382007_4.130280368589744    1.631000e+08   6.351529e+08   \n",
       "283.2623651476874_5.462460305958134    6.338738e+08   6.047327e+08   \n",
       "\n",
       "                                      10422.26.F.4  10422.28.F.9  \\\n",
       "357.2784138555112_5.010000161030595   2.875788e+08  1.809306e+08   \n",
       "104.1070008277893_0.3359217147435899  2.641577e+08  8.133259e+08   \n",
       "373.27348764725264_4.338406810897439  5.735200e+08  1.213430e+08   \n",
       "391.2841105382007_4.130280368589744   4.515842e+08  2.888728e+08   \n",
       "283.2623651476874_5.462460305958134   2.618255e+08  1.065081e+09   \n",
       "\n",
       "                                      10422.26.F.3  10422.17.F.4  \\\n",
       "357.2784138555112_5.010000161030595   2.760070e+08  6.040222e+08   \n",
       "104.1070008277893_0.3359217147435899  3.024110e+08  2.319210e+08   \n",
       "373.27348764725264_4.338406810897439  6.130434e+08  3.872113e+08   \n",
       "391.2841105382007_4.130280368589744   4.180027e+08  4.944621e+08   \n",
       "283.2623651476874_5.462460305958134   3.702029e+08  3.005478e+08   \n",
       "\n",
       "                                          ...       10422.26.F.10  \\\n",
       "357.2784138555112_5.010000161030595       ...        2.986456e+08   \n",
       "104.1070008277893_0.3359217147435899      ...        6.051821e+08   \n",
       "373.27348764725264_4.338406810897439      ...        2.466242e+08   \n",
       "391.2841105382007_4.130280368589744       ...        2.666427e+08   \n",
       "283.2623651476874_5.462460305958134       ...        5.033927e+08   \n",
       "\n",
       "                                      10422.25.F.8  10422.17.F.9  \\\n",
       "357.2784138555112_5.010000161030595   1.467964e+08  4.736494e+08   \n",
       "104.1070008277893_0.3359217147435899  3.286935e+08  6.226845e+08   \n",
       "373.27348764725264_4.338406810897439  7.303587e+07  5.619251e+08   \n",
       "391.2841105382007_4.130280368589744   1.333114e+08  5.289577e+08   \n",
       "283.2623651476874_5.462460305958134   3.872046e+08  1.671962e+08   \n",
       "\n",
       "                                      10422.18.F.4  10422.26.F.8  \\\n",
       "357.2784138555112_5.010000161030595   6.646255e+08  2.369384e+08   \n",
       "104.1070008277893_0.3359217147435899  2.803015e+08  4.983045e+08   \n",
       "373.27348764725264_4.338406810897439  8.967402e+07  1.272761e+08   \n",
       "391.2841105382007_4.130280368589744   6.775269e+08  1.772450e+08   \n",
       "283.2623651476874_5.462460305958134   2.699610e+08  5.791108e+08   \n",
       "\n",
       "                                      10422.18.F.12  10422.24.F.12  \\\n",
       "357.2784138555112_5.010000161030595    4.067838e+08   5.849852e+08   \n",
       "104.1070008277893_0.3359217147435899   3.681432e+08   3.707433e+08   \n",
       "373.27348764725264_4.338406810897439   4.332568e+08   6.157758e+08   \n",
       "391.2841105382007_4.130280368589744    4.389572e+08   5.313699e+08   \n",
       "283.2623651476874_5.462460305958134    7.148008e+07   4.633385e+08   \n",
       "\n",
       "                                      10422.25.F.11  10422.24.F.6  \\\n",
       "357.2784138555112_5.010000161030595    1.258402e+08  4.206568e+08   \n",
       "104.1070008277893_0.3359217147435899   4.512311e+08  3.555671e+08   \n",
       "373.27348764725264_4.338406810897439   5.819768e+07  5.773077e+08   \n",
       "391.2841105382007_4.130280368589744    9.497437e+07  3.838284e+08   \n",
       "283.2623651476874_5.462460305958134    7.710580e+08  3.691103e+08   \n",
       "\n",
       "                                      10422.29.F.5  \n",
       "357.2784138555112_5.010000161030595   5.217787e+08  \n",
       "104.1070008277893_0.3359217147435899  3.888311e+08  \n",
       "373.27348764725264_4.338406810897439  6.269518e+08  \n",
       "391.2841105382007_4.130280368589744   5.565597e+08  \n",
       "283.2623651476874_5.462460305958134   4.800439e+08  \n",
       "\n",
       "[5 rows x 182 columns]"
      ]
     },
     "execution_count": 36,
     "metadata": {},
     "output_type": "execute_result"
    }
   ],
   "source": [
    "out.head()"
   ]
  },
  {
   "cell_type": "code",
   "execution_count": 37,
   "metadata": {
    "collapsed": false
   },
   "outputs": [
    {
     "data": {
      "text/plain": [
       "(382, 182)"
      ]
     },
     "execution_count": 37,
     "metadata": {},
     "output_type": "execute_result"
    }
   ],
   "source": [
    "out.shape"
   ]
  },
  {
   "cell_type": "code",
   "execution_count": 38,
   "metadata": {
    "collapsed": true
   },
   "outputs": [],
   "source": [
    "out['pvalue']=pvals\n",
    "out['test_statistic']=teststat"
   ]
  },
  {
   "cell_type": "code",
   "execution_count": 39,
   "metadata": {
    "collapsed": true
   },
   "outputs": [],
   "source": [
    "out.to_csv('./data/allFeatures_dsfdr.txt', sep='\\t')"
   ]
  }
 ],
 "metadata": {
  "kernelspec": {
   "display_name": "Python [dsfdr]",
   "language": "python",
   "name": "Python [dsfdr]"
  },
  "language_info": {
   "codemirror_mode": {
    "name": "ipython",
    "version": 3
   },
   "file_extension": ".py",
   "mimetype": "text/x-python",
   "name": "python",
   "nbconvert_exporter": "python",
   "pygments_lexer": "ipython3",
   "version": "3.5.4"
  }
 },
 "nbformat": 4,
 "nbformat_minor": 2
}
