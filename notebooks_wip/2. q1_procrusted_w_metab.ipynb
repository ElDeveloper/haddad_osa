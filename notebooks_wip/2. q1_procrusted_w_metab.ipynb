{
 "cells": [
  {
   "cell_type": "code",
   "execution_count": 3,
   "metadata": {
    "collapsed": false
   },
   "outputs": [],
   "source": [
    "# convert to biom\n",
    "\n",
    "! biom convert -i ../haddad_6week_allFeatures_sampMatch_norm_rare2k.txt -o \\\n",
    "../haddad_6week_allFeatures_sampMatch_norm_rare2k_hdf5.biom --table-type=\"OTU table\" --to-hdf5\n",
    "\n",
    "! biom convert -i ../haddad_6week_bileacids_sampMatch_norm_rare2k.txt -o \\\n",
    "../haddad_6week_bileacids_sampMatch_norm_rare2k_hdf5.biom --table-type=\"OTU table\" --to-hdf5"
   ]
  },
  {
   "cell_type": "code",
   "execution_count": 4,
   "metadata": {
    "collapsed": false,
    "scrolled": true
   },
   "outputs": [
    {
     "name": "stdout",
     "output_type": "stream",
     "text": [
      "Usage: beta_diversity_through_plots.py [options] {-i/--otu_table_fp OTU_TABLE_FP -m/--mapping_fp MAPPING_FP -o/--output_dir OUTPUT_DIR}\r\n",
      "\r\n",
      "[] indicates optional input (order unimportant)\r\n",
      "{} indicates required input (order unimportant)\r\n",
      "\r\n",
      "This script will perform beta diversity, principal coordinate analysis, and generate a preferences file along with 3D PCoA Plots.\r\n",
      "\r\n",
      "\r\n",
      "Example usage: \r\n",
      "Print help message and exit\r\n",
      " beta_diversity_through_plots.py -h\r\n",
      "\r\n",
      "Example: Given an OTU table, a phylogenetic tree, an even sampling depth, and a mapping file, perform the following steps: 1. Randomly subsample otu_table.biom to even number of sequences per sample (100 in this case); 2. Compute a weighted and unweighted unifrac distance matrices (can add additional metrics by passing a parameters file via -p); 3. Peform a principal coordinates analysis on the result of Step 2; 4. Generate a 2D and 3D plots for all mapping fields.\r\n",
      " beta_diversity_through_plots.py -i otu_table.biom -o bdiv_even100/ -t rep_set.tre -m Fasting_Map.txt -e 100\r\n",
      "\r\n",
      "Options:\r\n",
      "  --version             show program's version number and exit\r\n",
      "  -h, --help            show this help message and exit\r\n",
      "  -v, --verbose         Print information during execution -- useful for\r\n",
      "                        debugging [default: False]\r\n",
      "  -t TREE_FP, --tree_fp=TREE_FP\r\n",
      "                        path to the tree file [default: none; REQUIRED for\r\n",
      "                        phylogenetic measures]\r\n",
      "  -p PARAMETER_FP, --parameter_fp=PARAMETER_FP\r\n",
      "                        path to the parameter file, which specifies changes to\r\n",
      "                        the default behavior. See\r\n",
      "                        http://www.qiime.org/documentation/file_formats.html\r\n",
      "                        #qiime-parameters . [if omitted, default values will\r\n",
      "                        be used]\r\n",
      "  --color_by_all_fields\r\n",
      "                        plots will have coloring for all mapping fields\r\n",
      "                        [default: False; only include fields with greater than\r\n",
      "                        one value and fewer values than the number of samples]\r\n",
      "  -f, --force           Force overwrite of existing output directory (note:\r\n",
      "                        existing files in output_dir will not be removed)\r\n",
      "                        [default: none]\r\n",
      "  -w, --print_only      Print the commands but don't call them -- useful for\r\n",
      "                        debugging [default: False]\r\n",
      "  -a, --parallel        Run in parallel where available [default: False]\r\n",
      "  -e SEQS_PER_SAMPLE, --seqs_per_sample=SEQS_PER_SAMPLE\r\n",
      "                        depth of coverage for even sampling [default: none]\r\n",
      "  --suppress_emperor_plots\r\n",
      "                        Do not generate emperor plots [default: False]\r\n",
      "  -O JOBS_TO_START, --jobs_to_start=JOBS_TO_START\r\n",
      "                        Number of jobs to start. NOTE: you must also pass -a\r\n",
      "                        to run in parallel, this defines the number of jobs to\r\n",
      "                        be started if and only if -a is passed [default: 1]\r\n",
      "\r\n",
      "  REQUIRED options:\r\n",
      "    The following options must be provided under all circumstances.\r\n",
      "\r\n",
      "    -i OTU_TABLE_FP, --otu_table_fp=OTU_TABLE_FP\r\n",
      "                        the input biom table [REQUIRED]\r\n",
      "    -m MAPPING_FP, --mapping_fp=MAPPING_FP\r\n",
      "                        path to the mapping file [REQUIRED]\r\n",
      "    -o OUTPUT_DIR, --output_dir=OUTPUT_DIR\r\n",
      "                        the output directory [REQUIRED]\r\n"
     ]
    }
   ],
   "source": [
    "! beta_diversity_through_plots.py --help"
   ]
  },
  {
   "cell_type": "markdown",
   "metadata": {},
   "source": [
    "** all molecules **"
   ]
  },
  {
   "cell_type": "code",
   "execution_count": 5,
   "metadata": {
    "collapsed": false
   },
   "outputs": [
    {
     "name": "stdout",
     "output_type": "stream",
     "text": [
      "/Users/priya/anaconda2/envs/qiime/lib/python2.7/site-packages/numpy/core/fromnumeric.py:2652: VisibleDeprecationWarning: `rank` is deprecated; use the `ndim` attribute or function instead. To find the rank of a matrix see `numpy.linalg.matrix_rank`.\n",
      "  VisibleDeprecationWarning)\n",
      "/Users/priya/anaconda2/envs/qiime/lib/python2.7/site-packages/skbio/stats/ordination/_principal_coordinate_analysis.py:107: RuntimeWarning: The result contains negative eigenvalues. Please compare their magnitude with the magnitude of some of the largest positive eigenvalues. If the negative ones are smaller, it's probably safe to ignore them, but if they are large in magnitude, the results won't be useful. See the Notes section for more details. The smallest eigenvalue is -0.12809951115 and the largest is 5.62242200004.\n",
      "  RuntimeWarning\n",
      "/Users/priya/anaconda2/envs/qiime/lib/python2.7/site-packages/numpy/core/fromnumeric.py:2652: VisibleDeprecationWarning: `rank` is deprecated; use the `ndim` attribute or function instead. To find the rank of a matrix see `numpy.linalg.matrix_rank`.\n",
      "  VisibleDeprecationWarning)\n",
      "/Users/priya/anaconda2/envs/qiime/lib/python2.7/site-packages/numpy/core/fromnumeric.py:2652: VisibleDeprecationWarning: `rank` is deprecated; use the `ndim` attribute or function instead. To find the rank of a matrix see `numpy.linalg.matrix_rank`.\n",
      "  VisibleDeprecationWarning)\n",
      "/Users/priya/anaconda2/envs/qiime/lib/python2.7/site-packages/skbio/stats/ordination/_principal_coordinate_analysis.py:107: RuntimeWarning: The result contains negative eigenvalues. Please compare their magnitude with the magnitude of some of the largest positive eigenvalues. If the negative ones are smaller, it's probably safe to ignore them, but if they are large in magnitude, the results won't be useful. See the Notes section for more details. The smallest eigenvalue is -0.00613727992495 and the largest is 0.388576809226.\n",
      "  RuntimeWarning\n"
     ]
    }
   ],
   "source": [
    "! beta_diversity_through_plots.py -i ../haddad_6week_allFeatures_sampMatch_norm_rare2k_hdf5.biom \\\n",
    "-p ../../../../../beta_params_nonphylo.txt -m ../haddad_6week_metadata_sampMatch_rare2k.txt -o ../metab/test_pcoas_all182"
   ]
  },
  {
   "cell_type": "code",
   "execution_count": 6,
   "metadata": {
    "collapsed": false
   },
   "outputs": [
    {
     "name": "stdout",
     "output_type": "stream",
     "text": [
      "/Users/priya/anaconda2/envs/qiime/lib/python2.7/site-packages/numpy/core/fromnumeric.py:2652: VisibleDeprecationWarning: `rank` is deprecated; use the `ndim` attribute or function instead. To find the rank of a matrix see `numpy.linalg.matrix_rank`.\n",
      "  VisibleDeprecationWarning)\n",
      "/Users/priya/anaconda2/envs/qiime/lib/python2.7/site-packages/skbio/stats/ordination/_principal_coordinate_analysis.py:107: RuntimeWarning: The result contains negative eigenvalues. Please compare their magnitude with the magnitude of some of the largest positive eigenvalues. If the negative ones are smaller, it's probably safe to ignore them, but if they are large in magnitude, the results won't be useful. See the Notes section for more details. The smallest eigenvalue is -0.0832681406936 and the largest is 5.48978756198.\n",
      "  RuntimeWarning\n",
      "/Users/priya/anaconda2/envs/qiime/lib/python2.7/site-packages/numpy/core/fromnumeric.py:2652: VisibleDeprecationWarning: `rank` is deprecated; use the `ndim` attribute or function instead. To find the rank of a matrix see `numpy.linalg.matrix_rank`.\n",
      "  VisibleDeprecationWarning)\n",
      "/Users/priya/anaconda2/envs/qiime/lib/python2.7/site-packages/skbio/stats/ordination/_principal_coordinate_analysis.py:107: RuntimeWarning: The result contains negative eigenvalues. Please compare their magnitude with the magnitude of some of the largest positive eigenvalues. If the negative ones are smaller, it's probably safe to ignore them, but if they are large in magnitude, the results won't be useful. See the Notes section for more details. The smallest eigenvalue is -0.00119376287277 and the largest is 3.97789042791.\n",
      "  RuntimeWarning\n",
      "/Users/priya/anaconda2/envs/qiime/lib/python2.7/site-packages/numpy/core/fromnumeric.py:2652: VisibleDeprecationWarning: `rank` is deprecated; use the `ndim` attribute or function instead. To find the rank of a matrix see `numpy.linalg.matrix_rank`.\n",
      "  VisibleDeprecationWarning)\n",
      "/Users/priya/anaconda2/envs/qiime/lib/python2.7/site-packages/skbio/stats/ordination/_principal_coordinate_analysis.py:107: RuntimeWarning: The result contains negative eigenvalues. Please compare their magnitude with the magnitude of some of the largest positive eigenvalues. If the negative ones are smaller, it's probably safe to ignore them, but if they are large in magnitude, the results won't be useful. See the Notes section for more details. The smallest eigenvalue is -0.00762213076552 and the largest is 0.453941569768.\n",
      "  RuntimeWarning\n"
     ]
    }
   ],
   "source": [
    "! beta_diversity_through_plots.py -i ../haddad_6week_bileacids_sampMatch_norm_rare2k_hdf5.biom \\\n",
    "-p ../../../../../beta_params_nonphylo.txt -m ../haddad_6week_metadata_sampMatch_rare2k.txt -o ../metab/test_pcoas_ba182"
   ]
  },
  {
   "cell_type": "code",
   "execution_count": 7,
   "metadata": {
    "collapsed": false
   },
   "outputs": [
    {
     "name": "stdout",
     "output_type": "stream",
     "text": [
      "Usage: principal_coordinates.py [options] {-i/--input_path INPUT_PATH -o/--output_path OUTPUT_PATH}\r\n",
      "\r\n",
      "[] indicates optional input (order unimportant)\r\n",
      "{} indicates required input (order unimportant)\r\n",
      "\r\n",
      "Principal Coordinate Analysis (PCoA) is commonly used to compare groups of samples based on phylogenetic or count-based distance metrics (see section on beta_diversity.py).\r\n",
      "\r\n",
      "Example usage: \r\n",
      "Print help message and exit\r\n",
      " principal_coordinates.py -h\r\n",
      "\r\n",
      "PCoA (Single File): For this script, the user supplies a distance matrix (i.e. resulting file from beta_diversity.py), along with the output filename (e.g.  beta_div_coords.txt), as follows\r\n",
      " principal_coordinates.py -i beta_div.txt -o beta_div_coords.txt\r\n",
      "\r\n",
      "PCoA (Multiple Files): The script also functions in batch mode if a folder is supplied as input (e.g. from beta_diversity.py run in batch). No other files should be present in the input folder - only the distance matrix files to be analyzed. This script operates on every distance matrix file in the input directory and creates a corresponding principal coordinates results file in the output directory, e.g.\r\n",
      " principal_coordinates.py -i beta_div_weighted_unifrac/ -o beta_div_weighted_pcoa_results/\r\n",
      "\r\n",
      "Options:\r\n",
      "  --version             show program's version number and exit\r\n",
      "  -h, --help            show this help message and exit\r\n",
      "  -v, --verbose         Print information during execution -- useful for\r\n",
      "                        debugging [default: False]\r\n",
      "\r\n",
      "  REQUIRED options:\r\n",
      "    The following options must be provided under all circumstances.\r\n",
      "\r\n",
      "    -i INPUT_PATH, --input_path=INPUT_PATH\r\n",
      "                        path to the input distance matrix file(s) (i.e., the\r\n",
      "                        output from beta_diversity.py). Is a directory for\r\n",
      "                        batch processing and a filename for a single file\r\n",
      "                        operation. [REQUIRED]\r\n",
      "    -o OUTPUT_PATH, --output_path=OUTPUT_PATH\r\n",
      "                        output path. directory for batch processing, filename\r\n",
      "                        for single file operation [REQUIRED]\r\n"
     ]
    }
   ],
   "source": [
    "! principal_coordinates.py --help"
   ]
  },
  {
   "cell_type": "code",
   "execution_count": 8,
   "metadata": {
    "collapsed": false
   },
   "outputs": [
    {
     "name": "stdout",
     "output_type": "stream",
     "text": [
      "/Users/priya/anaconda2/envs/qiime/lib/python2.7/site-packages/skbio/stats/ordination/_principal_coordinate_analysis.py:107: RuntimeWarning: The result contains negative eigenvalues. Please compare their magnitude with the magnitude of some of the largest positive eigenvalues. If the negative ones are smaller, it's probably safe to ignore them, but if they are large in magnitude, the results won't be useful. See the Notes section for more details. The smallest eigenvalue is -0.12809951115 and the largest is 5.62242200004.\r\n",
      "  RuntimeWarning\r\n"
     ]
    }
   ],
   "source": [
    "! principal_coordinates.py -i ../procrustes/allMolecules_bray_curtis_dm.txt -o \\\n",
    "../procrustes/allMolecules_bray_curtis_pc.txt"
   ]
  },
  {
   "cell_type": "code",
   "execution_count": 9,
   "metadata": {
    "collapsed": false
   },
   "outputs": [
    {
     "name": "stdout",
     "output_type": "stream",
     "text": [
      "/Users/priya/anaconda2/envs/qiime/lib/python2.7/site-packages/skbio/stats/ordination/_principal_coordinate_analysis.py:107: RuntimeWarning: The result contains negative eigenvalues. Please compare their magnitude with the magnitude of some of the largest positive eigenvalues. If the negative ones are smaller, it's probably safe to ignore them, but if they are large in magnitude, the results won't be useful. See the Notes section for more details. The smallest eigenvalue is -0.0445173673471 and the largest is 3.47130136569.\r\n",
      "  RuntimeWarning\r\n"
     ]
    }
   ],
   "source": [
    "! principal_coordinates.py -i ../procrustes/unweighted_uf_distance-matrix.tsv -o \\\n",
    "../procrustes/unweighted_uf_pc.tsv"
   ]
  },
  {
   "cell_type": "markdown",
   "metadata": {},
   "source": [
    "**procrustes**"
   ]
  },
  {
   "cell_type": "code",
   "execution_count": 11,
   "metadata": {
    "collapsed": true
   },
   "outputs": [],
   "source": [
    "! transform_coordinate_matrices.py \\\n",
    "-i ../procrustes/unweighted_uf_pc.tsv,../procrustes/allMolecules_bray_curtis_pc.txt \\\n",
    "-o ../procrustes/result -r 1000"
   ]
  },
  {
   "cell_type": "code",
   "execution_count": 15,
   "metadata": {
    "collapsed": false
   },
   "outputs": [],
   "source": [
    "! make_emperor.py -c \\\n",
    "-i ../procrustes/result/ \\\n",
    "-m ../haddad_6week_metadata_sampMatch_rare2k.txt -o ../procrustes/result/plots/"
   ]
  },
  {
   "cell_type": "code",
   "execution_count": 16,
   "metadata": {
    "collapsed": true
   },
   "outputs": [],
   "source": [
    "! make_emperor.py -c \\\n",
    "-i ../procrustes/result/ \\\n",
    "-m ../haddad_6week_metadata_sampMatch_rare2k.txt -o ../procrustes/result/plots_age/ -a age"
   ]
  }
 ],
 "metadata": {
  "kernelspec": {
   "display_name": "Python 2",
   "language": "python",
   "name": "python2"
  },
  "language_info": {
   "codemirror_mode": {
    "name": "ipython",
    "version": 2
   },
   "file_extension": ".py",
   "mimetype": "text/x-python",
   "name": "python",
   "nbconvert_exporter": "python",
   "pygments_lexer": "ipython2",
   "version": "2.7.12"
  }
 },
 "nbformat": 4,
 "nbformat_minor": 2
}
