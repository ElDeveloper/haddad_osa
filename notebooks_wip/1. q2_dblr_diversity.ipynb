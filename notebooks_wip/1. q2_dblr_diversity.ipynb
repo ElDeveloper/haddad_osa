{
 "cells": [
  {
   "cell_type": "code",
   "execution_count": 3,
   "metadata": {
    "collapsed": true
   },
   "outputs": [],
   "source": [
    "import pandas as pd, numpy as np\n",
    "from emperor import Emperor, nbinstall\n",
    "from skbio import OrdinationResults"
   ]
  },
  {
   "cell_type": "markdown",
   "metadata": {},
   "source": [
    "For phylogenetic diversity, we need to generate a rooted tree with deblur sotu sequences so that ancestral relatedness is captured "
   ]
  },
  {
   "cell_type": "code",
   "execution_count": 20,
   "metadata": {},
   "outputs": [
    {
     "name": "stdout",
     "output_type": "stream",
     "text": [
      "\u001b[32mSaved Visualization to: ../rep_sotus.qzv\u001b[0m\r\n"
     ]
    }
   ],
   "source": [
    "! qiime feature-table tabulate-seqs \\\n",
    "  --i-data ../rep_sotus.qza \\\n",
    "  --o-visualization ../rep_sotus.qzv"
   ]
  },
  {
   "cell_type": "code",
   "execution_count": 21,
   "metadata": {},
   "outputs": [
    {
     "name": "stdout",
     "output_type": "stream",
     "text": [
      "\u001b[32mSaved FeatureData[AlignedSequence] to: ../aligned_rep_sotus.qza\u001b[0m\r\n"
     ]
    }
   ],
   "source": [
    "! qiime alignment mafft \\\n",
    "  --i-sequences ../rep_sotus.qza \\\n",
    "  --o-alignment ../aligned_rep_sotus.qza"
   ]
  },
  {
   "cell_type": "code",
   "execution_count": 22,
   "metadata": {},
   "outputs": [
    {
     "name": "stdout",
     "output_type": "stream",
     "text": [
      "\u001b[32mSaved FeatureData[AlignedSequence] to: ../masked_aligned_rep_sotus.qza\u001b[0m\r\n"
     ]
    }
   ],
   "source": [
    "! qiime alignment mask \\\n",
    "  --i-alignment ../aligned_rep_sotus.qza \\\n",
    "  --o-masked-alignment ../masked_aligned_rep_sotus.qza"
   ]
  },
  {
   "cell_type": "code",
   "execution_count": 23,
   "metadata": {},
   "outputs": [
    {
     "name": "stdout",
     "output_type": "stream",
     "text": [
      "\u001b[32mSaved Phylogeny[Unrooted] to: ../unrooted-deblur-tree.qza\u001b[0m\r\n"
     ]
    }
   ],
   "source": [
    "! qiime phylogeny fasttree \\\n",
    "  --i-alignment ../masked_aligned_rep_sotus.qza \\\n",
    "  --o-tree ../unrooted-deblur-tree.qza"
   ]
  },
  {
   "cell_type": "code",
   "execution_count": 24,
   "metadata": {},
   "outputs": [
    {
     "name": "stdout",
     "output_type": "stream",
     "text": [
      "\u001b[32mSaved Phylogeny[Rooted] to: ../rooted-deblur-tree.qza\u001b[0m\r\n"
     ]
    }
   ],
   "source": [
    "! qiime phylogeny midpoint-root \\\n",
    "  --i-tree ../unrooted-deblur-tree.qza \\\n",
    "  --o-rooted-tree ../rooted-deblur-tree.qza"
   ]
  },
  {
   "cell_type": "markdown",
   "metadata": {},
   "source": [
    "Next, we rarefy the deblur sotu table to an even sampling depth so that technical variation between sequencing efforts does not mask biological signal. \n",
    "Here we use QIIME2's core-metrics method. Sampling depth was chosen to be 2000 after interactive inspection of deblur sotu table in QIIME2 viewer. 182 samples (#sequences > 2000) were retained"
   ]
  },
  {
   "cell_type": "code",
   "execution_count": 27,
   "metadata": {},
   "outputs": [
    {
     "name": "stdout",
     "output_type": "stream",
     "text": [
      "\u001b[32mSaved SampleData[AlphaDiversity] to: ../core-metrics-2k-results/faith_pd_vector.qza\u001b[0m\n",
      "\u001b[32mSaved SampleData[AlphaDiversity] to: ../core-metrics-2k-results/observed_otus_vector.qza\u001b[0m\n",
      "\u001b[32mSaved SampleData[AlphaDiversity] to: ../core-metrics-2k-results/shannon_vector.qza\u001b[0m\n",
      "\u001b[32mSaved SampleData[AlphaDiversity] to: ../core-metrics-2k-results/evenness_vector.qza\u001b[0m\n",
      "\u001b[32mSaved DistanceMatrix to: ../core-metrics-2k-results/unweighted_unifrac_distance_matrix.qza\u001b[0m\n",
      "\u001b[32mSaved DistanceMatrix to: ../core-metrics-2k-results/weighted_unifrac_distance_matrix.qza\u001b[0m\n",
      "\u001b[32mSaved DistanceMatrix to: ../core-metrics-2k-results/jaccard_distance_matrix.qza\u001b[0m\n",
      "\u001b[32mSaved DistanceMatrix to: ../core-metrics-2k-results/bray_curtis_distance_matrix.qza\u001b[0m\n",
      "\u001b[32mSaved PCoAResults to: ../core-metrics-2k-results/unweighted_unifrac_pcoa_results.qza\u001b[0m\n",
      "\u001b[32mSaved PCoAResults to: ../core-metrics-2k-results/weighted_unifrac_pcoa_results.qza\u001b[0m\n",
      "\u001b[32mSaved PCoAResults to: ../core-metrics-2k-results/jaccard_pcoa_results.qza\u001b[0m\n",
      "\u001b[32mSaved PCoAResults to: ../core-metrics-2k-results/bray_curtis_pcoa_results.qza\u001b[0m\n"
     ]
    }
   ],
   "source": [
    "! qiime diversity core-metrics \\\n",
    "  --i-phylogeny ../rooted-deblur-tree.qza \\\n",
    "  --i-table ../deblur_table_sotus_ucase_hdf5.qza \\\n",
    "  --p-sampling-depth 2000 \\\n",
    "  --output-dir ../core-metrics-2k-results"
   ]
  },
  {
   "cell_type": "code",
   "execution_count": 31,
   "metadata": {},
   "outputs": [
    {
     "name": "stdout",
     "output_type": "stream",
     "text": [
      "Usage: qiime emperor plot [OPTIONS]\r\n",
      "\r\n",
      "  Generate visualization of your ordination.\r\n",
      "\r\n",
      "Options:\r\n",
      "  --i-pcoa PATH           Artifact: PCoAResults  [required]\r\n",
      "                          The principal\r\n",
      "                          coordinates matrix to be plotted.\r\n",
      "  --m-metadata-file PATH  Metadata file or artifact viewable as metadata. This\r\n",
      "                          option may be supplied multiple times to merge\r\n",
      "                          metadata  [required]\r\n",
      "                          The sample metadata.\r\n",
      "  --p-custom-axis TEXT    [optional]\r\n",
      "                          A sample metadata category containing\r\n",
      "                          continuous values that should be included as an axis\r\n",
      "                          in the Emperor plot.\r\n",
      "  --o-visualization PATH  Artifact: Visualization  [required if not passing\r\n",
      "                          --output-dir]\r\n",
      "  --output-dir DIRECTORY  Output unspecified results to a directory\r\n",
      "  --cmd-config PATH       Use config file for command options\r\n",
      "  --verbose               Display verbose output to stdout and/or stderr\r\n",
      "                          during execution of this action.  [default: False]\r\n",
      "  --quiet                 Silence output if execution is successful (silence\r\n",
      "                          is golden).  [default: False]\r\n",
      "  --help                  Show this message and exit.\r\n"
     ]
    }
   ],
   "source": [
    "! qiime emperor plot --help"
   ]
  },
  {
   "cell_type": "code",
   "execution_count": null,
   "metadata": {
    "collapsed": true
   },
   "outputs": [],
   "source": [
    "# mf = load_mf('keyboard/mapping-file.txt')\n",
    "# res = OrdinationResults.read('keyboard/unweighted-unifrac.even1000.txt')\n",
    "# x = Emperor(res, mf, remote=True)\n",
    "# x"
   ]
  },
  {
   "cell_type": "markdown",
   "metadata": {},
   "source": [
    "We’ll first test for associations between discrete metadata categories and **alpha diversity** data"
   ]
  },
  {
   "cell_type": "code",
   "execution_count": 45,
   "metadata": {},
   "outputs": [
    {
     "name": "stdout",
     "output_type": "stream",
     "text": [
      "\u001b[32mSaved Visualization to: ../core-metrics-2k-results/faith-pd-group-significance.qzv\u001b[0m\r\n"
     ]
    }
   ],
   "source": [
    "! qiime diversity alpha-group-significance \\\n",
    "  --i-alpha-diversity ../core-metrics-2k-results/faith_pd_vector.qza \\\n",
    "  --m-metadata-file ../haddad_6week_metadata_sampMatch.txt \\\n",
    "  --o-visualization ../core-metrics-2k-results/faith-pd-group-significance.qzv"
   ]
  },
  {
   "cell_type": "code",
   "execution_count": 46,
   "metadata": {},
   "outputs": [
    {
     "name": "stdout",
     "output_type": "stream",
     "text": [
      "\u001b[32mSaved Visualization to: ../core-metrics-2k-results/evenness-group-significance.qzv\u001b[0m\r\n"
     ]
    }
   ],
   "source": [
    "! qiime diversity alpha-group-significance \\\n",
    "  --i-alpha-diversity ../core-metrics-2k-results/evenness_vector.qza \\\n",
    "  --m-metadata-file ../haddad_6week_metadata_sampMatch.txt \\\n",
    "  --o-visualization ../core-metrics-2k-results/evenness-group-significance.qzv"
   ]
  },
  {
   "cell_type": "markdown",
   "metadata": {},
   "source": [
    "We can visualize the clustering between samples by converting **beta diveristy** results in q2 visualizers"
   ]
  },
  {
   "cell_type": "code",
   "execution_count": 36,
   "metadata": {},
   "outputs": [
    {
     "name": "stdout",
     "output_type": "stream",
     "text": [
      "\u001b[32mSaved Visualization to: ../core-metrics-2k-results/unweighted_unifrac_pcoa_results.qzv\u001b[0m\r\n"
     ]
    }
   ],
   "source": [
    "! qiime emperor plot --i-pcoa ../core-metrics-2k-results/unweighted_unifrac_pcoa_results.qza \\\n",
    "  --m-metadata-file ../haddad_6week_metadata_sampMatch.txt \\\n",
    "  --o-visualization ../core-metrics-2k-results/unweighted_unifrac_pcoa_results.qzv \\\n",
    "  --output-dir ../core-metrics-2k-results/unweighted_vis_dump"
   ]
  },
  {
   "cell_type": "code",
   "execution_count": 38,
   "metadata": {},
   "outputs": [
    {
     "name": "stdout",
     "output_type": "stream",
     "text": [
      "\u001b[32mSaved Visualization to: ../core-metrics-2k-results/unweighted_unifrac_pcoa_results_age.qzv\u001b[0m\r\n"
     ]
    }
   ],
   "source": [
    "! qiime emperor plot --i-pcoa ../core-metrics-2k-results/unweighted_unifrac_pcoa_results.qza \\\n",
    "  --m-metadata-file ../haddad_6week_metadata_sampMatch.txt \\\n",
    "  --p-custom-axis age \\\n",
    "  --o-visualization ../core-metrics-2k-results/unweighted_unifrac_pcoa_results_age.qzv \\\n",
    "  --output-dir ../core-metrics-2k-results/unweighted_age_vis_dump"
   ]
  },
  {
   "cell_type": "code",
   "execution_count": 40,
   "metadata": {},
   "outputs": [
    {
     "name": "stdout",
     "output_type": "stream",
     "text": [
      "\u001b[32mSaved Visualization to: ../core-metrics-2k-results/weighted_unifrac_pcoa_results.qzv\u001b[0m\r\n"
     ]
    }
   ],
   "source": [
    "! qiime emperor plot --i-pcoa ../core-metrics-2k-results/weighted_unifrac_pcoa_results.qza \\\n",
    "  --m-metadata-file ../haddad_6week_metadata_sampMatch.txt \\\n",
    "  --o-visualization ../core-metrics-2k-results/weighted_unifrac_pcoa_results.qzv \\\n",
    "  --output-dir ../core-metrics-2k-results/weighted_vis_dump"
   ]
  },
  {
   "cell_type": "code",
   "execution_count": 41,
   "metadata": {},
   "outputs": [
    {
     "name": "stdout",
     "output_type": "stream",
     "text": [
      "\u001b[32mSaved Visualization to: ../core-metrics-2k-results/weighted_unifrac_pcoa_results_age.qzv\u001b[0m\r\n"
     ]
    }
   ],
   "source": [
    "! qiime emperor plot --i-pcoa ../core-metrics-2k-results/weighted_unifrac_pcoa_results.qza \\\n",
    "  --m-metadata-file ../haddad_6week_metadata_sampMatch.txt \\\n",
    "  --p-custom-axis age \\\n",
    "  --o-visualization ../core-metrics-2k-results/weighted_unifrac_pcoa_results_age.qzv \\\n",
    "  --output-dir ../core-metrics-2k-results/weighted_age_vis_dump"
   ]
  },
  {
   "cell_type": "markdown",
   "metadata": {},
   "source": [
    "Next we’ll analyze sample composition in the context of discrete metadata using PERMANOVA (first described in Anderson (2001)) using the beta-group-significance command."
   ]
  },
  {
   "cell_type": "code",
   "execution_count": 51,
   "metadata": {},
   "outputs": [
    {
     "name": "stdout",
     "output_type": "stream",
     "text": [
      "\u001b[32mSaved Visualization to: ../core-metrics-2k-results/unweighted-unifrac-exposure-group-significance.qzv\u001b[0m\r\n"
     ]
    }
   ],
   "source": [
    "! qiime diversity beta-group-significance \\\n",
    "  --i-distance-matrix ../core-metrics-2k-results/unweighted_unifrac_distance_matrix.qza \\\n",
    "  --m-metadata-file ../haddad_6week_metadata_sampMatch.txt \\\n",
    "  --m-metadata-category exposure_type \\\n",
    "  --o-visualization ../core-metrics-2k-results/unweighted-unifrac-exposure-group-significance.qzv \\\n",
    "  --p-pairwise"
   ]
  },
  {
   "cell_type": "code",
   "execution_count": 52,
   "metadata": {},
   "outputs": [
    {
     "name": "stdout",
     "output_type": "stream",
     "text": [
      "\u001b[32mSaved Visualization to: ../core-metrics-2k-results/unweighted-unifrac-cage-group-significance.qzv\u001b[0m\r\n"
     ]
    }
   ],
   "source": [
    "! qiime diversity beta-group-significance \\\n",
    "  --i-distance-matrix ../core-metrics-2k-results/unweighted_unifrac_distance_matrix.qza \\\n",
    "  --m-metadata-file ../haddad_6week_metadata_sampMatch.txt \\\n",
    "  --m-metadata-category cage_number \\\n",
    "  --o-visualization ../core-metrics-2k-results/unweighted-unifrac-cage-group-significance.qzv \\\n",
    "  --p-pairwise"
   ]
  },
  {
   "cell_type": "markdown",
   "metadata": {},
   "source": [
    "We also save a refied version of the biom file for downstream usage (matching samples etc.)"
   ]
  },
  {
   "cell_type": "code",
   "execution_count": 1,
   "metadata": {},
   "outputs": [
    {
     "name": "stdout",
     "output_type": "stream",
     "text": [
      "Usage: qiime feature-table rarefy [OPTIONS]\r\n",
      "\r\n",
      "  Subsample frequencies from all samples without replacement so that the sum\r\n",
      "  of frequencies in each sample is equal to sampling-depth.\r\n",
      "\r\n",
      "Options:\r\n",
      "  --i-table PATH              Artifact: FeatureTable[Frequency]  [required]\r\n",
      "                              The feature table to be rarefied.\r\n",
      "  --p-sampling-depth INTEGER  [required]\r\n",
      "                              The total frequency that each sample\r\n",
      "                              should be rarefied to. Samples where the sum of\r\n",
      "                              frequencies is less than the sampling depth will\r\n",
      "                              be not be included in the resulting table.\r\n",
      "  --o-rarefied-table PATH     Artifact: FeatureTable[Frequency]  [required if\r\n",
      "                              not passing --output-dir]\r\n",
      "                              The resulting rarefied\r\n",
      "                              feature table.\r\n",
      "  --output-dir DIRECTORY      Output unspecified results to a directory\r\n",
      "  --cmd-config PATH           Use config file for command options\r\n",
      "  --verbose                   Display verbose output to stdout and/or stderr\r\n",
      "                              during execution of this action.  [default:\r\n",
      "                              False]\r\n",
      "  --quiet                     Silence output if execution is successful\r\n",
      "                              (silence is golden).  [default: False]\r\n",
      "  --help                      Show this message and exit.\r\n"
     ]
    }
   ],
   "source": [
    "! qiime feature-table rarefy --help"
   ]
  },
  {
   "cell_type": "code",
   "execution_count": 2,
   "metadata": {},
   "outputs": [
    {
     "name": "stdout",
     "output_type": "stream",
     "text": [
      "\u001b[32mSaved FeatureTable[Frequency] to: ../deblur_table_sotus_ucase_hdf5_rare2k.qza\u001b[0m\r\n"
     ]
    }
   ],
   "source": [
    "! qiime feature-table rarefy --i-table ../deblur_table_sotus_ucase_hdf5.qza --p-sampling-depth 2000 \\\n",
    "  --o-rarefied-table ../deblur_table_sotus_ucase_hdf5_rare2k.qza"
   ]
  },
  {
   "cell_type": "markdown",
   "metadata": {},
   "source": [
    "** exporting below **"
   ]
  },
  {
   "cell_type": "markdown",
   "metadata": {
    "collapsed": true
   },
   "source": [
    "Based in visual inspection, PCoA based on unweighted unifrac show meaningful clustering."
   ]
  },
  {
   "cell_type": "code",
   "execution_count": 2,
   "metadata": {
    "collapsed": true
   },
   "outputs": [],
   "source": [
    "! qiime tools export \\\n",
    "  ../core-metrics-2k-results/unweighted_unifrac_distance_matrix.qza \\\n",
    "  --output-dir ../core-metrics-2k-results/unweighted_unifrac_distance_matrix.txt"
   ]
  },
  {
   "cell_type": "markdown",
   "metadata": {
    "collapsed": true
   },
   "source": [
    "rarefied biom table"
   ]
  },
  {
   "cell_type": "code",
   "execution_count": 4,
   "metadata": {
    "collapsed": true
   },
   "outputs": [],
   "source": [
    "! qiime tools export \\\n",
    "  ../deblur_table_sotus_ucase_hdf5_rare2k.qza \\\n",
    "  --output-dir ../deblur_table_sotus_ucase_hdf5_rare2k"
   ]
  },
  {
   "cell_type": "code",
   "execution_count": null,
   "metadata": {
    "collapsed": true
   },
   "outputs": [],
   "source": [
    "! cp ../deblur_table_sotus_ucase_hdf5_rare2k/feature-table.biom ../deblur_table_sotus_ucase_hdf5_rare2k.biom"
   ]
  },
  {
   "cell_type": "code",
   "execution_count": null,
   "metadata": {
    "collapsed": true
   },
   "outputs": [],
   "source": [
    "! biom convert -i ../deblur_table_sotus_ucase_hdf5_rare2k.biom"
   ]
  }
 ],
 "metadata": {
  "kernelspec": {
   "display_name": "Python 3",
   "language": "python",
   "name": "python3"
  },
  "language_info": {
   "codemirror_mode": {
    "name": "ipython",
    "version": 3
   },
   "file_extension": ".py",
   "mimetype": "text/x-python",
   "name": "python",
   "nbconvert_exporter": "python",
   "pygments_lexer": "ipython3",
   "version": "3.5.4"
  }
 },
 "nbformat": 4,
 "nbformat_minor": 2
}
